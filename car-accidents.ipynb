{
 "cells": [
  {
   "cell_type": "code",
   "execution_count": 1,
   "metadata": {},
   "outputs": [],
   "source": [
    "import pandas as pd\n",
    "import numpy as np\n",
    "import matplotlib.pyplot as plt \n",
    "import statistics\n",
    "from sklearn.model_selection import train_test_split, KFold\n",
    "from sklearn.linear_model import LogisticRegression\n",
    "from sklearn.svm import SVC\n",
    "from sklearn.metrics import classification_report, confusion_matrix, roc_curve, auc, accuracy_score\n",
    "from sklearn.tree import DecisionTreeClassifier\n",
    "from sklearn import tree\n",
    "from sklearn import naive_bayes\n",
    "import tensorflow as tf\n",
    "from tensorflow.keras import datasets, layers, models\n",
    "from tensorflow.keras.callbacks import EarlyStopping, ModelCheckpoint\n",
    "from graphviz import Source\n",
    "from IPython.display import SVG\n",
    "from IPython.display import display\n",
    "from pydot import graph_from_dot_data\n",
    "import seaborn as sns\n",
    "sns.set(style=\"white\")\n",
    "sns.set(style=\"whitegrid\", color_codes=True)"
   ]
  },
  {
   "cell_type": "code",
   "execution_count": 2,
   "metadata": {},
   "outputs": [
    {
     "name": "stderr",
     "output_type": "stream",
     "text": [
      "/Library/Frameworks/Python.framework/Versions/3.6/lib/python3.6/site-packages/IPython/core/interactiveshell.py:3049: DtypeWarning: Columns (2,3,6,13) have mixed types.Specify dtype option on import or set low_memory=False.\n",
      "  interactivity=interactivity, compiler=compiler, result=result)\n"
     ]
    },
    {
     "data": {
      "text/html": [
       "<div>\n",
       "<style scoped>\n",
       "    .dataframe tbody tr th:only-of-type {\n",
       "        vertical-align: middle;\n",
       "    }\n",
       "\n",
       "    .dataframe tbody tr th {\n",
       "        vertical-align: top;\n",
       "    }\n",
       "\n",
       "    .dataframe thead th {\n",
       "        text-align: right;\n",
       "    }\n",
       "</style>\n",
       "<table border=\"1\" class=\"dataframe\">\n",
       "  <thead>\n",
       "    <tr style=\"text-align: right;\">\n",
       "      <th></th>\n",
       "      <th>Unnamed: 0</th>\n",
       "      <th>C_YEAR</th>\n",
       "      <th>C_MNTH</th>\n",
       "      <th>C_WDAY</th>\n",
       "      <th>C_HOUR</th>\n",
       "      <th>C_SEV</th>\n",
       "      <th>C_VEHS</th>\n",
       "      <th>C_CONF</th>\n",
       "      <th>C_RCFG</th>\n",
       "      <th>C_WTHR</th>\n",
       "      <th>...</th>\n",
       "      <th>V_ID</th>\n",
       "      <th>V_TYPE</th>\n",
       "      <th>V_YEAR</th>\n",
       "      <th>P_ID</th>\n",
       "      <th>P_SEX</th>\n",
       "      <th>P_AGE</th>\n",
       "      <th>P_PSN</th>\n",
       "      <th>P_ISEV</th>\n",
       "      <th>P_SAFE</th>\n",
       "      <th>P_USER</th>\n",
       "    </tr>\n",
       "  </thead>\n",
       "  <tbody>\n",
       "    <tr>\n",
       "      <th>0</th>\n",
       "      <td>4860406</td>\n",
       "      <td>2011</td>\n",
       "      <td>10</td>\n",
       "      <td>6</td>\n",
       "      <td>16</td>\n",
       "      <td>2</td>\n",
       "      <td>1</td>\n",
       "      <td>04</td>\n",
       "      <td>01</td>\n",
       "      <td>1</td>\n",
       "      <td>...</td>\n",
       "      <td>01</td>\n",
       "      <td>01</td>\n",
       "      <td>2003</td>\n",
       "      <td>01</td>\n",
       "      <td>M</td>\n",
       "      <td>24</td>\n",
       "      <td>11</td>\n",
       "      <td>1</td>\n",
       "      <td>02</td>\n",
       "      <td>1</td>\n",
       "    </tr>\n",
       "    <tr>\n",
       "      <th>1</th>\n",
       "      <td>4860407</td>\n",
       "      <td>2011</td>\n",
       "      <td>10</td>\n",
       "      <td>6</td>\n",
       "      <td>16</td>\n",
       "      <td>2</td>\n",
       "      <td>1</td>\n",
       "      <td>04</td>\n",
       "      <td>01</td>\n",
       "      <td>1</td>\n",
       "      <td>...</td>\n",
       "      <td>01</td>\n",
       "      <td>01</td>\n",
       "      <td>2003</td>\n",
       "      <td>02</td>\n",
       "      <td>M</td>\n",
       "      <td>09</td>\n",
       "      <td>31</td>\n",
       "      <td>2</td>\n",
       "      <td>02</td>\n",
       "      <td>2</td>\n",
       "    </tr>\n",
       "    <tr>\n",
       "      <th>2</th>\n",
       "      <td>4860408</td>\n",
       "      <td>2011</td>\n",
       "      <td>10</td>\n",
       "      <td>6</td>\n",
       "      <td>16</td>\n",
       "      <td>2</td>\n",
       "      <td>1</td>\n",
       "      <td>04</td>\n",
       "      <td>01</td>\n",
       "      <td>1</td>\n",
       "      <td>...</td>\n",
       "      <td>01</td>\n",
       "      <td>01</td>\n",
       "      <td>2003</td>\n",
       "      <td>03</td>\n",
       "      <td>F</td>\n",
       "      <td>07</td>\n",
       "      <td>22</td>\n",
       "      <td>2</td>\n",
       "      <td>02</td>\n",
       "      <td>2</td>\n",
       "    </tr>\n",
       "    <tr>\n",
       "      <th>3</th>\n",
       "      <td>4860409</td>\n",
       "      <td>2011</td>\n",
       "      <td>10</td>\n",
       "      <td>6</td>\n",
       "      <td>14</td>\n",
       "      <td>2</td>\n",
       "      <td>2</td>\n",
       "      <td>UU</td>\n",
       "      <td>UU</td>\n",
       "      <td>1</td>\n",
       "      <td>...</td>\n",
       "      <td>01</td>\n",
       "      <td>01</td>\n",
       "      <td>2007</td>\n",
       "      <td>01</td>\n",
       "      <td>M</td>\n",
       "      <td>50</td>\n",
       "      <td>11</td>\n",
       "      <td>1</td>\n",
       "      <td>02</td>\n",
       "      <td>1</td>\n",
       "    </tr>\n",
       "    <tr>\n",
       "      <th>4</th>\n",
       "      <td>4860410</td>\n",
       "      <td>2011</td>\n",
       "      <td>10</td>\n",
       "      <td>6</td>\n",
       "      <td>14</td>\n",
       "      <td>2</td>\n",
       "      <td>2</td>\n",
       "      <td>UU</td>\n",
       "      <td>UU</td>\n",
       "      <td>1</td>\n",
       "      <td>...</td>\n",
       "      <td>01</td>\n",
       "      <td>01</td>\n",
       "      <td>2007</td>\n",
       "      <td>02</td>\n",
       "      <td>M</td>\n",
       "      <td>15</td>\n",
       "      <td>13</td>\n",
       "      <td>1</td>\n",
       "      <td>02</td>\n",
       "      <td>2</td>\n",
       "    </tr>\n",
       "    <tr>\n",
       "      <th>...</th>\n",
       "      <td>...</td>\n",
       "      <td>...</td>\n",
       "      <td>...</td>\n",
       "      <td>...</td>\n",
       "      <td>...</td>\n",
       "      <td>...</td>\n",
       "      <td>...</td>\n",
       "      <td>...</td>\n",
       "      <td>...</td>\n",
       "      <td>...</td>\n",
       "      <td>...</td>\n",
       "      <td>...</td>\n",
       "      <td>...</td>\n",
       "      <td>...</td>\n",
       "      <td>...</td>\n",
       "      <td>...</td>\n",
       "      <td>...</td>\n",
       "      <td>...</td>\n",
       "      <td>...</td>\n",
       "      <td>...</td>\n",
       "      <td>...</td>\n",
       "    </tr>\n",
       "    <tr>\n",
       "      <th>999995</th>\n",
       "      <td>5860401</td>\n",
       "      <td>2014</td>\n",
       "      <td>UU</td>\n",
       "      <td>U</td>\n",
       "      <td>UU</td>\n",
       "      <td>2</td>\n",
       "      <td>UU</td>\n",
       "      <td>UU</td>\n",
       "      <td>01</td>\n",
       "      <td>U</td>\n",
       "      <td>...</td>\n",
       "      <td>13</td>\n",
       "      <td>07</td>\n",
       "      <td>UUUU</td>\n",
       "      <td>01</td>\n",
       "      <td>M</td>\n",
       "      <td>24</td>\n",
       "      <td>11</td>\n",
       "      <td>1</td>\n",
       "      <td>NN</td>\n",
       "      <td>1</td>\n",
       "    </tr>\n",
       "    <tr>\n",
       "      <th>999996</th>\n",
       "      <td>5860402</td>\n",
       "      <td>2014</td>\n",
       "      <td>UU</td>\n",
       "      <td>U</td>\n",
       "      <td>23</td>\n",
       "      <td>2</td>\n",
       "      <td>01</td>\n",
       "      <td>06</td>\n",
       "      <td>05</td>\n",
       "      <td>1</td>\n",
       "      <td>...</td>\n",
       "      <td>1</td>\n",
       "      <td>14</td>\n",
       "      <td>2006</td>\n",
       "      <td>01</td>\n",
       "      <td>M</td>\n",
       "      <td>29</td>\n",
       "      <td>96</td>\n",
       "      <td>2</td>\n",
       "      <td>09</td>\n",
       "      <td>5</td>\n",
       "    </tr>\n",
       "    <tr>\n",
       "      <th>999997</th>\n",
       "      <td>5860403</td>\n",
       "      <td>2014</td>\n",
       "      <td>UU</td>\n",
       "      <td>U</td>\n",
       "      <td>14</td>\n",
       "      <td>2</td>\n",
       "      <td>01</td>\n",
       "      <td>02</td>\n",
       "      <td>01</td>\n",
       "      <td>1</td>\n",
       "      <td>...</td>\n",
       "      <td>1</td>\n",
       "      <td>01</td>\n",
       "      <td>2006</td>\n",
       "      <td>01</td>\n",
       "      <td>F</td>\n",
       "      <td>UU</td>\n",
       "      <td>11</td>\n",
       "      <td>2</td>\n",
       "      <td>01</td>\n",
       "      <td>1</td>\n",
       "    </tr>\n",
       "    <tr>\n",
       "      <th>999998</th>\n",
       "      <td>5860404</td>\n",
       "      <td>2014</td>\n",
       "      <td>UU</td>\n",
       "      <td>U</td>\n",
       "      <td>22</td>\n",
       "      <td>1</td>\n",
       "      <td>01</td>\n",
       "      <td>06</td>\n",
       "      <td>01</td>\n",
       "      <td>2</td>\n",
       "      <td>...</td>\n",
       "      <td>1</td>\n",
       "      <td>22</td>\n",
       "      <td>UUUU</td>\n",
       "      <td>01</td>\n",
       "      <td>M</td>\n",
       "      <td>67</td>\n",
       "      <td>12</td>\n",
       "      <td>3</td>\n",
       "      <td>01</td>\n",
       "      <td>U</td>\n",
       "    </tr>\n",
       "    <tr>\n",
       "      <th>999999</th>\n",
       "      <td>5860405</td>\n",
       "      <td>2014</td>\n",
       "      <td>UU</td>\n",
       "      <td>U</td>\n",
       "      <td>22</td>\n",
       "      <td>1</td>\n",
       "      <td>01</td>\n",
       "      <td>06</td>\n",
       "      <td>01</td>\n",
       "      <td>2</td>\n",
       "      <td>...</td>\n",
       "      <td>1</td>\n",
       "      <td>22</td>\n",
       "      <td>UUUU</td>\n",
       "      <td>02</td>\n",
       "      <td>M</td>\n",
       "      <td>10</td>\n",
       "      <td>98</td>\n",
       "      <td>1</td>\n",
       "      <td>01</td>\n",
       "      <td>U</td>\n",
       "    </tr>\n",
       "  </tbody>\n",
       "</table>\n",
       "<p>999997 rows × 23 columns</p>\n",
       "</div>"
      ],
      "text/plain": [
       "        Unnamed: 0  C_YEAR C_MNTH C_WDAY C_HOUR  C_SEV C_VEHS C_CONF C_RCFG  \\\n",
       "0          4860406    2011     10      6     16      2      1     04     01   \n",
       "1          4860407    2011     10      6     16      2      1     04     01   \n",
       "2          4860408    2011     10      6     16      2      1     04     01   \n",
       "3          4860409    2011     10      6     14      2      2     UU     UU   \n",
       "4          4860410    2011     10      6     14      2      2     UU     UU   \n",
       "...            ...     ...    ...    ...    ...    ...    ...    ...    ...   \n",
       "999995     5860401    2014     UU      U     UU      2     UU     UU     01   \n",
       "999996     5860402    2014     UU      U     23      2     01     06     05   \n",
       "999997     5860403    2014     UU      U     14      2     01     02     01   \n",
       "999998     5860404    2014     UU      U     22      1     01     06     01   \n",
       "999999     5860405    2014     UU      U     22      1     01     06     01   \n",
       "\n",
       "       C_WTHR  ... V_ID V_TYPE V_YEAR P_ID P_SEX P_AGE P_PSN P_ISEV P_SAFE  \\\n",
       "0           1  ...   01     01   2003   01     M    24    11      1     02   \n",
       "1           1  ...   01     01   2003   02     M    09    31      2     02   \n",
       "2           1  ...   01     01   2003   03     F    07    22      2     02   \n",
       "3           1  ...   01     01   2007   01     M    50    11      1     02   \n",
       "4           1  ...   01     01   2007   02     M    15    13      1     02   \n",
       "...       ...  ...  ...    ...    ...  ...   ...   ...   ...    ...    ...   \n",
       "999995      U  ...   13     07   UUUU   01     M    24    11      1     NN   \n",
       "999996      1  ...    1     14   2006   01     M    29    96      2     09   \n",
       "999997      1  ...    1     01   2006   01     F    UU    11      2     01   \n",
       "999998      2  ...    1     22   UUUU   01     M    67    12      3     01   \n",
       "999999      2  ...    1     22   UUUU   02     M    10    98      1     01   \n",
       "\n",
       "       P_USER  \n",
       "0           1  \n",
       "1           2  \n",
       "2           2  \n",
       "3           1  \n",
       "4           2  \n",
       "...       ...  \n",
       "999995      1  \n",
       "999996      5  \n",
       "999997      1  \n",
       "999998      U  \n",
       "999999      U  \n",
       "\n",
       "[999997 rows x 23 columns]"
      ]
     },
     "execution_count": 2,
     "metadata": {},
     "output_type": "execute_result"
    }
   ],
   "source": [
    "# Read in CSV file\n",
    "data = pd.read_csv(\"data.csv\").dropna()\n",
    "data"
   ]
  },
  {
   "cell_type": "markdown",
   "metadata": {},
   "source": [
    "# Data Cleaning and Dimensionality Reduction (Binning)"
   ]
  },
  {
   "cell_type": "code",
   "execution_count": 3,
   "metadata": {
    "scrolled": true
   },
   "outputs": [
    {
     "data": {
      "text/plain": [
       "[0, 1]\n",
       "Categories (2, int64): [0, 1]"
      ]
     },
     "execution_count": 3,
     "metadata": {},
     "output_type": "execute_result"
    }
   ],
   "source": [
    "# Data cleaning: P_ISEV\n",
    "data = data[data['P_ISEV'] != \"N\"]\n",
    "data = data[data['P_ISEV'] != \"U\"]\n",
    "data = data[data['P_ISEV'] != \"X\"]\n",
    "data['P_ISEV'] = pd.to_numeric(data.P_ISEV)\n",
    "data.loc[(data.P_ISEV == 1),'P_ISEV'] = 0\n",
    "data.loc[(data.P_ISEV == 2),'P_ISEV'] = 1\n",
    "data.loc[(data.P_ISEV == 3),'P_ISEV'] = 1\n",
    "data['P_ISEV'] = pd.Categorical(data.P_ISEV)\n",
    "data['P_ISEV'].unique()"
   ]
  },
  {
   "cell_type": "code",
   "execution_count": 4,
   "metadata": {},
   "outputs": [
    {
     "data": {
      "text/plain": [
       "[2011, 2012, 2013, 2014]\n",
       "Categories (4, int64): [2011, 2012, 2013, 2014]"
      ]
     },
     "execution_count": 4,
     "metadata": {},
     "output_type": "execute_result"
    }
   ],
   "source": [
    "# Data cleaning: C_YEAR\n",
    "data.C_YEAR = pd.Categorical(pd.to_numeric(data.C_YEAR))\n",
    "data['C_YEAR'].unique()"
   ]
  },
  {
   "cell_type": "code",
   "execution_count": 5,
   "metadata": {},
   "outputs": [
    {
     "data": {
      "text/plain": [
       "[10, 11, 12, 1, 2, ..., 5, 6, 7, 8, 9]\n",
       "Length: 12\n",
       "Categories (12, int64): [10, 11, 12, 1, ..., 6, 7, 8, 9]"
      ]
     },
     "execution_count": 5,
     "metadata": {},
     "output_type": "execute_result"
    }
   ],
   "source": [
    "# Data cleaning: C_MNTH\n",
    "data = data[data['C_MNTH'] != \"UU\"]\n",
    "data = data[data['C_MNTH'] != \"XX\"]\n",
    "data.C_MNTH = pd.Categorical(pd.to_numeric(data.C_MNTH))\n",
    "data['C_MNTH'].unique()"
   ]
  },
  {
   "cell_type": "code",
   "execution_count": 6,
   "metadata": {},
   "outputs": [
    {
     "data": {
      "text/plain": [
       "[6, 7, 1, 2, 3, 4, 5]\n",
       "Categories (7, int64): [6, 7, 1, 2, 3, 4, 5]"
      ]
     },
     "execution_count": 6,
     "metadata": {},
     "output_type": "execute_result"
    }
   ],
   "source": [
    "# Data cleaning: C_WDAY\n",
    "data = data[data['C_WDAY'] != \"U\"] \n",
    "data = data[data['C_WDAY'] != \"X\"] \n",
    "data.C_WDAY = pd.Categorical(pd.to_numeric(data.C_WDAY))\n",
    "data['C_WDAY'].unique()"
   ]
  },
  {
   "cell_type": "code",
   "execution_count": 7,
   "metadata": {},
   "outputs": [
    {
     "data": {
      "text/plain": [
       "[[15.0, 18.0), [12.0, 15.0), [18.0, 21.0), [9.0, 12.0), [3.0, 6.0), [0.0, 3.0), [6.0, 9.0), [21.0, inf)]\n",
       "Categories (8, interval[float64]): [[0.0, 3.0) < [3.0, 6.0) < [6.0, 9.0) < [9.0, 12.0) < [12.0, 15.0) < [15.0, 18.0) < [18.0, 21.0) < [21.0, inf)]"
      ]
     },
     "execution_count": 7,
     "metadata": {},
     "output_type": "execute_result"
    }
   ],
   "source": [
    "# Data cleaning: C_HOUR\n",
    "data = data[data['C_HOUR'] != \"UU\"]\n",
    "data = data[data['C_HOUR'] != \"XX\"]\n",
    "# Make colliosn hour group categories\n",
    "data['C_HOUR'] = pd.to_numeric(data['C_HOUR'])\n",
    "data['C_HOUR'] = pd.cut(data['C_HOUR'], bins=[0,3,6,9,12,15,18,21,float('inf')], right=False)\n",
    "data['C_HOUR'].unique()"
   ]
  },
  {
   "cell_type": "code",
   "execution_count": 8,
   "metadata": {},
   "outputs": [
    {
     "data": {
      "text/plain": [
       "[[1.0, 6.0), [6.0, 26.0), [26.0, inf)]\n",
       "Categories (3, interval[float64]): [[1.0, 6.0) < [6.0, 26.0) < [26.0, inf)]"
      ]
     },
     "execution_count": 8,
     "metadata": {},
     "output_type": "execute_result"
    }
   ],
   "source": [
    "# Data cleaning: C_VEHS\n",
    "data = data[data['C_VEHS'] != \"UU\"]\n",
    "data = data[data['C_VEHS'] != \"XX\"]\n",
    "# Make vehicle collided group categories rather than usuing indidvidual number of cars in collision\n",
    "data['C_VEHS'] = pd.to_numeric(data['C_VEHS'])\n",
    "data['C_VEHS'] = pd.cut(data['C_VEHS'], bins=[1,6,26,float('inf')], right=False)\n",
    "data['C_VEHS'].unique()"
   ]
  },
  {
   "cell_type": "code",
   "execution_count": 9,
   "metadata": {},
   "outputs": [
    {
     "data": {
      "text/plain": [
       "[[1.0, 21.0), [31.0, 41.0), [21.0, 31.0), [41.0, inf)]\n",
       "Categories (4, interval[float64]): [[1.0, 21.0) < [21.0, 31.0) < [31.0, 41.0) < [41.0, inf)]"
      ]
     },
     "execution_count": 9,
     "metadata": {},
     "output_type": "execute_result"
    }
   ],
   "source": [
    "# Data cleaning: C_CONF\n",
    "data = data[data['C_CONF'] != \"QQ\"]\n",
    "data = data[data['C_CONF'] != \"UU\"]\n",
    "data = data[data['C_CONF'] != \"XX\"]\n",
    "data['C_CONF'] = pd.to_numeric(data['C_CONF'])\n",
    "data['C_CONF'] = pd.cut(data['C_CONF'], bins=[1,21,31,41,float('inf')], right=False)\n",
    "data['C_CONF'].unique()"
   ]
  },
  {
   "cell_type": "code",
   "execution_count": 10,
   "metadata": {},
   "outputs": [
    {
     "data": {
      "text/plain": [
       "[1, 2, 4, 3, 5, 8, 6, 9, 7, 10]\n",
       "Categories (10, int64): [1, 2, 4, 3, ..., 6, 9, 7, 10]"
      ]
     },
     "execution_count": 10,
     "metadata": {},
     "output_type": "execute_result"
    }
   ],
   "source": [
    "# Data cleaning: C_RCFG\n",
    "data = data[data['C_RCFG'] != \"QQ\"]\n",
    "data = data[data['C_RCFG'] != \"UU\"] \n",
    "data = data[data['C_RCFG'] != \"XX\"]\n",
    "data.C_RCFG = pd.Categorical(pd.to_numeric(data.C_RCFG))\n",
    "data['C_RCFG'].unique()"
   ]
  },
  {
   "cell_type": "code",
   "execution_count": 11,
   "metadata": {},
   "outputs": [
    {
     "data": {
      "text/plain": [
       "[1, 3, 4, 2, 7, 6, 5]\n",
       "Categories (7, int64): [1, 3, 4, 2, 7, 6, 5]"
      ]
     },
     "execution_count": 11,
     "metadata": {},
     "output_type": "execute_result"
    }
   ],
   "source": [
    "# Data cleaning: C_WTHR\n",
    "data = data[data['C_WTHR'] !=  \"Q\"]\n",
    "data = data[data['C_WTHR'] !=  \"U\"]\n",
    "data = data[data['C_WTHR'] !=  \"X\"]\n",
    "data.C_WTHR = pd.Categorical(pd.to_numeric(data.C_WTHR))\n",
    "data['C_WTHR'].unique()"
   ]
  },
  {
   "cell_type": "code",
   "execution_count": 12,
   "metadata": {},
   "outputs": [
    {
     "data": {
      "text/plain": [
       "[1, 2, 5, 3, 9, 6, 8, 4, 7]\n",
       "Categories (9, int64): [1, 2, 5, 3, ..., 6, 8, 4, 7]"
      ]
     },
     "execution_count": 12,
     "metadata": {},
     "output_type": "execute_result"
    }
   ],
   "source": [
    "# Data cleaning: C_RSUR\n",
    "data = data[data['C_RSUR'] !=  \"Q\"]\n",
    "data = data[data['C_RSUR'] !=  \"U\"]\n",
    "data = data[data['C_RSUR'] !=  \"X\"]\n",
    "data.C_RSUR = pd.Categorical(pd.to_numeric(data.C_RSUR))\n",
    "data['C_RSUR'].unique()"
   ]
  },
  {
   "cell_type": "code",
   "execution_count": 13,
   "metadata": {},
   "outputs": [
    {
     "data": {
      "text/plain": [
       "[1, 4, 3, 5, 2, 6]\n",
       "Categories (6, int64): [1, 4, 3, 5, 2, 6]"
      ]
     },
     "execution_count": 13,
     "metadata": {},
     "output_type": "execute_result"
    }
   ],
   "source": [
    "# Data cleaning: C_RALN \n",
    "data = data[data['C_RALN'] != \"Q\"] \n",
    "data = data[data['C_RALN'] != \"U\"] \n",
    "data = data[data['C_RALN'] != \"X\"]\n",
    "data.C_RALN = pd.Categorical(pd.to_numeric(data.C_RALN))\n",
    "data['C_RALN'].unique()"
   ]
  },
  {
   "cell_type": "code",
   "execution_count": 14,
   "metadata": {},
   "outputs": [
    {
     "data": {
      "text/plain": [
       "[[18.0, inf), [3.0, 6.0), [1.0, 3.0), [10.0, 13.0), [6.0, 7.0), [13.0, 15.0), [8.0, 10.0), [7.0, 8.0), [15.0, 17.0), [17.0, 18.0)]\n",
       "Categories (10, interval[float64]): [[1.0, 3.0) < [3.0, 6.0) < [6.0, 7.0) < [7.0, 8.0) ... [13.0, 15.0) < [15.0, 17.0) < [17.0, 18.0) < [18.0, inf)]"
      ]
     },
     "execution_count": 14,
     "metadata": {},
     "output_type": "execute_result"
    }
   ],
   "source": [
    "# Data cleaning: C_TRAF \n",
    "data = data[data['C_TRAF'] != \"QQ\"]\n",
    "data = data[data['C_TRAF'] != \"UU\"]\n",
    "data = data[data['C_TRAF'] != \"XX\"]\n",
    "data['C_TRAF'] = pd.to_numeric(data['C_TRAF'])\n",
    "data['C_TRAF'] = pd.cut(data['C_TRAF'], bins=[1,3,6,7,8,10,13,15,17,18,float('inf')], right=False)\n",
    "data['C_TRAF'].unique()"
   ]
  },
  {
   "cell_type": "code",
   "execution_count": 15,
   "metadata": {},
   "outputs": [
    {
     "data": {
      "text/plain": [
       "[[0.0, 5.0), [14.0, 18.0), [8.0, 9.0), [5.0, 8.0), [18.0, inf), [9.0, 14.0)]\n",
       "Categories (6, interval[float64]): [[0.0, 5.0) < [5.0, 8.0) < [8.0, 9.0) < [9.0, 14.0) < [14.0, 18.0) < [18.0, inf)]"
      ]
     },
     "execution_count": 15,
     "metadata": {},
     "output_type": "execute_result"
    }
   ],
   "source": [
    "# Data cleaning: V_TYPE\n",
    "data = data[data['V_TYPE'] != \"QQ\"] \n",
    "data = data[data['V_TYPE'] != \"UU\"] \n",
    "data = data[data['V_TYPE'] != \"NN\"] \n",
    "data['V_TYPE'] = pd.to_numeric(data['V_TYPE'])\n",
    "data['V_TYPE'] = pd.cut(data['V_TYPE'], bins=[0,5,8,9,14,18,float('inf')], right=False)\n",
    "data['V_TYPE'].unique()"
   ]
  },
  {
   "cell_type": "code",
   "execution_count": 16,
   "metadata": {},
   "outputs": [
    {
     "data": {
      "text/plain": [
       "[[2000.0, 2010.0), [2010.0, inf), [1990.0, 2000.0), [1980.0, 1990.0), [1950.0, 1980.0), [1900.0, 1950.0)]\n",
       "Categories (6, interval[float64]): [[1900.0, 1950.0) < [1950.0, 1980.0) < [1980.0, 1990.0) < [1990.0, 2000.0) < [2000.0, 2010.0) < [2010.0, inf)]"
      ]
     },
     "execution_count": 16,
     "metadata": {},
     "output_type": "execute_result"
    }
   ],
   "source": [
    "# Data cleaning: V_YEAR\n",
    "data = data[data['V_YEAR'] != \"NNNN\"] \n",
    "data = data[data['V_YEAR'] != \"UUUU\"] \n",
    "data = data[data['V_YEAR'] != \"QQQQ\"]\n",
    "# Make vehicle year group categories rather than using indidvidual years\n",
    "data['V_YEAR'] = pd.to_numeric(data['V_YEAR'])\n",
    "data['V_YEAR'] = pd.cut(data['V_YEAR'], bins=[1900,1950,1980,1990,2000,2010,float('inf')], right=False)\n",
    "data['V_YEAR'].unique()"
   ]
  },
  {
   "cell_type": "code",
   "execution_count": 17,
   "metadata": {},
   "outputs": [
    {
     "data": {
      "text/plain": [
       "[M, F]\n",
       "Categories (2, object): [M, F]"
      ]
     },
     "execution_count": 17,
     "metadata": {},
     "output_type": "execute_result"
    }
   ],
   "source": [
    "# Data cleaning: P_SEX\n",
    "data = data[data['P_SEX'] != \"N\"]\n",
    "data = data[data['P_SEX'] != \"U\"] \n",
    "data.P_SEX = pd.Categorical(data.P_SEX)\n",
    "data['P_SEX'].unique()"
   ]
  },
  {
   "cell_type": "code",
   "execution_count": 18,
   "metadata": {},
   "outputs": [
    {
     "data": {
      "text/plain": [
       "[[20.0, 30.0), [0.0, 10.0), [60.0, 70.0), [40.0, 50.0), [10.0, 20.0), [70.0, 80.0), [80.0, 90.0), [50.0, 60.0), [30.0, 40.0), [90.0, inf)]\n",
       "Categories (10, interval[float64]): [[0.0, 10.0) < [10.0, 20.0) < [20.0, 30.0) < [30.0, 40.0) ... [60.0, 70.0) < [70.0, 80.0) < [80.0, 90.0) < [90.0, inf)]"
      ]
     },
     "execution_count": 18,
     "metadata": {},
     "output_type": "execute_result"
    }
   ],
   "source": [
    "# Data cleaning: P_AGE\n",
    "data = data[data['P_AGE'] != \"NN\"]\n",
    "data = data[data['P_AGE'] != \"UU\"]\n",
    "data = data[data['P_AGE'] != \"XX\"]\n",
    "# Make age-group categories rather than usuing indidvidual ages\n",
    "data['P_AGE'] = pd.to_numeric(data['P_AGE'])\n",
    "data['P_AGE'] = pd.cut(data['P_AGE'], bins=[0,10,20,30,40,50,60,70,80,90,float('inf')], right=False)\n",
    "data['P_AGE'].unique()  "
   ]
  },
  {
   "cell_type": "code",
   "execution_count": 19,
   "metadata": {},
   "outputs": [
    {
     "data": {
      "text/plain": [
       "[[11.0, 21.0), [31.0, 34.0), [21.0, 31.0), [98.0, 99.0), [34.0, 98.0)]\n",
       "Categories (5, interval[float64]): [[11.0, 21.0) < [21.0, 31.0) < [31.0, 34.0) < [34.0, 98.0) < [98.0, 99.0)]"
      ]
     },
     "execution_count": 19,
     "metadata": {},
     "output_type": "execute_result"
    }
   ],
   "source": [
    "# Data cleaning: P_PSN\n",
    "data = data[data['P_PSN'] != \"NN\"]\n",
    "data = data[data['P_PSN'] != \"QQ\"]\n",
    "data = data[data['P_PSN'] != \"UU\"]\n",
    "data = data[data['P_PSN'] != \"XX\"]\n",
    "# Make person position categories\n",
    "data['P_PSN'] = pd.to_numeric(data['P_PSN'])\n",
    "\n",
    "# 96 is position unknown so get rid of rows with this\n",
    "data = data[data['P_PSN'] != 96]\n",
    "data['P_PSN'] = pd.cut(data['P_PSN'], bins=[11,21,31,34,98,99,float('inf')], right=False)\n",
    "data['P_PSN'].unique()"
   ]
  },
  {
   "cell_type": "code",
   "execution_count": 20,
   "metadata": {},
   "outputs": [
    {
     "data": {
      "text/plain": [
       "[2, 1, 9, 13, 12, 10, 11]\n",
       "Categories (7, int64): [2, 1, 9, 13, 12, 10, 11]"
      ]
     },
     "execution_count": 20,
     "metadata": {},
     "output_type": "execute_result"
    }
   ],
   "source": [
    "# Data cleaning: P_SAFE\n",
    "data = data[data['P_SAFE'] != \"NN\"]\n",
    "data = data[data['P_SAFE'] != \"QQ\"]\n",
    "data = data[data['P_SAFE'] != \"UU\"]\n",
    "data = data[data['P_SAFE'] != \"XX\"]\n",
    "data.P_SAFE = pd.Categorical(pd.to_numeric(data.P_SAFE))\n",
    "data['P_SAFE'].unique()  "
   ]
  },
  {
   "cell_type": "code",
   "execution_count": 21,
   "metadata": {},
   "outputs": [
    {
     "data": {
      "text/plain": [
       "[1, 2, 5, 4]\n",
       "Categories (4, int64): [1, 2, 5, 4]"
      ]
     },
     "execution_count": 21,
     "metadata": {},
     "output_type": "execute_result"
    }
   ],
   "source": [
    "# Data cleaning: P_USER\n",
    "data = data[data['P_USER'] != \"U\"] \n",
    "data.P_USER = pd.Categorical(pd.to_numeric(data.P_USER))\n",
    "data['P_USER'].unique()  "
   ]
  },
  {
   "cell_type": "markdown",
   "metadata": {},
   "source": [
    "# Data Exploration"
   ]
  },
  {
   "cell_type": "code",
   "execution_count": 22,
   "metadata": {},
   "outputs": [
    {
     "data": {
      "text/plain": [
       "1    314346\n",
       "0    245002\n",
       "Name: P_ISEV, dtype: int64"
      ]
     },
     "execution_count": 22,
     "metadata": {},
     "output_type": "execute_result"
    }
   ],
   "source": [
    "data['P_ISEV'].value_counts()"
   ]
  },
  {
   "cell_type": "code",
   "execution_count": 23,
   "metadata": {},
   "outputs": [
    {
     "data": {
      "image/png": "[encoded data removed]",
      "text/plain": [
       "<Figure size 432x288 with 1 Axes>"
      ]
     },
     "metadata": {
      "needs_background": "light"
     },
     "output_type": "display_data"
    }
   ],
   "source": [
    "sns.countplot(x='P_ISEV', data=data, palette='hls')\n",
    "plt.rcParams[\"figure.figsize\"] = [12,5]\n",
    "plt.show()"
   ]
  },
  {
   "cell_type": "code",
   "execution_count": 24,
   "metadata": {},
   "outputs": [
    {
     "data": {
      "text/plain": [
       "2012    180168\n",
       "2013    178941\n",
       "2014    165375\n",
       "2011     34864\n",
       "Name: C_YEAR, dtype: int64"
      ]
     },
     "execution_count": 24,
     "metadata": {},
     "output_type": "execute_result"
    }
   ],
   "source": [
    "data['C_YEAR'].value_counts()"
   ]
  },
  {
   "cell_type": "code",
   "execution_count": 25,
   "metadata": {},
   "outputs": [
    {
     "data": {
      "image/png": "[encoded data removed]",
      "text/plain": [
       "<Figure size 864x360 with 1 Axes>"
      ]
     },
     "metadata": {
      "needs_background": "light"
     },
     "output_type": "display_data"
    }
   ],
   "source": [
    "sns.countplot(x='C_YEAR', data=data, palette='hls')\n",
    "plt.show()"
   ]
  },
  {
   "cell_type": "code",
   "execution_count": 26,
   "metadata": {},
   "outputs": [
    {
     "data": {
      "text/plain": [
       "12    60710\n",
       "11    60444\n",
       "10    51061\n",
       "8     48805\n",
       "7     48313\n",
       "9     46792\n",
       "6     45883\n",
       "1     45386\n",
       "5     42674\n",
       "2     38278\n",
       "3     36725\n",
       "4     34277\n",
       "Name: C_MNTH, dtype: int64"
      ]
     },
     "execution_count": 26,
     "metadata": {},
     "output_type": "execute_result"
    }
   ],
   "source": [
    "data['C_MNTH'].value_counts()"
   ]
  },
  {
   "cell_type": "code",
   "execution_count": 27,
   "metadata": {},
   "outputs": [
    {
     "data": {
      "image/png": "[encoded data removed]",
      "text/plain": [
       "<Figure size 864x360 with 1 Axes>"
      ]
     },
     "metadata": {
      "needs_background": "light"
     },
     "output_type": "display_data"
    }
   ],
   "source": [
    "sns.countplot(x='C_MNTH', data=data, palette='hls')\n",
    "plt.show()"
   ]
  },
  {
   "cell_type": "code",
   "execution_count": 28,
   "metadata": {},
   "outputs": [
    {
     "data": {
      "text/plain": [
       "5    95259\n",
       "4    85286\n",
       "6    79738\n",
       "3    79565\n",
       "2    79213\n",
       "1    74237\n",
       "7    66050\n",
       "Name: C_WDAY, dtype: int64"
      ]
     },
     "execution_count": 28,
     "metadata": {},
     "output_type": "execute_result"
    }
   ],
   "source": [
    "data['C_WDAY'].value_counts()"
   ]
  },
  {
   "cell_type": "code",
   "execution_count": 29,
   "metadata": {},
   "outputs": [
    {
     "data": {
      "image/png": "[encoded data removed]",
      "text/plain": [
       "<Figure size 864x360 with 1 Axes>"
      ]
     },
     "metadata": {
      "needs_background": "light"
     },
     "output_type": "display_data"
    }
   ],
   "source": [
    "sns.countplot(x='C_WDAY', data=data, palette='hls')\n",
    "plt.show()"
   ]
  },
  {
   "cell_type": "code",
   "execution_count": 30,
   "metadata": {},
   "outputs": [
    {
     "data": {
      "text/plain": [
       "[15.0, 18.0)    153215\n",
       "[12.0, 15.0)    110636\n",
       "[18.0, 21.0)     81906\n",
       "[9.0, 12.0)      80144\n",
       "[6.0, 9.0)       64625\n",
       "[21.0, inf)      40014\n",
       "[0.0, 3.0)       16528\n",
       "[3.0, 6.0)       12280\n",
       "Name: C_HOUR, dtype: int64"
      ]
     },
     "execution_count": 30,
     "metadata": {},
     "output_type": "execute_result"
    }
   ],
   "source": [
    "data['C_HOUR'].value_counts()"
   ]
  },
  {
   "cell_type": "code",
   "execution_count": 31,
   "metadata": {},
   "outputs": [
    {
     "data": {
      "image/png": "[encoded data removed]",
      "text/plain": [
       "<Figure size 864x360 with 1 Axes>"
      ]
     },
     "metadata": {
      "needs_background": "light"
     },
     "output_type": "display_data"
    }
   ],
   "source": [
    "sns.countplot(x='C_HOUR', data=data, palette='hls')\n",
    "plt.show()"
   ]
  },
  {
   "cell_type": "code",
   "execution_count": 32,
   "metadata": {},
   "outputs": [
    {
     "data": {
      "text/plain": [
       "[1.0, 6.0)     556075\n",
       "[6.0, 26.0)      3031\n",
       "[26.0, inf)       242\n",
       "Name: C_VEHS, dtype: int64"
      ]
     },
     "execution_count": 32,
     "metadata": {},
     "output_type": "execute_result"
    }
   ],
   "source": [
    "data['C_VEHS'].value_counts()"
   ]
  },
  {
   "cell_type": "code",
   "execution_count": 33,
   "metadata": {},
   "outputs": [
    {
     "data": {
      "image/png": "[encoded data removed]",
      "text/plain": [
       "<Figure size 864x360 with 1 Axes>"
      ]
     },
     "metadata": {
      "needs_background": "light"
     },
     "output_type": "display_data"
    }
   ],
   "source": [
    "sns.countplot(x='C_VEHS', data=data, palette='hls')\n",
    "plt.show()"
   ]
  },
  {
   "cell_type": "code",
   "execution_count": 34,
   "metadata": {},
   "outputs": [
    {
     "data": {
      "text/plain": [
       "[21.0, 31.0)    234181\n",
       "[31.0, 41.0)    218489\n",
       "[1.0, 21.0)     102343\n",
       "[41.0, inf)       4335\n",
       "Name: C_CONF, dtype: int64"
      ]
     },
     "execution_count": 34,
     "metadata": {},
     "output_type": "execute_result"
    }
   ],
   "source": [
    "data['C_CONF'].value_counts()"
   ]
  },
  {
   "cell_type": "code",
   "execution_count": 35,
   "metadata": {},
   "outputs": [
    {
     "data": {
      "image/png": "[encoded data removed]",
      "text/plain": [
       "<Figure size 864x360 with 1 Axes>"
      ]
     },
     "metadata": {
      "needs_background": "light"
     },
     "output_type": "display_data"
    }
   ],
   "source": [
    "sns.countplot(x='C_CONF', data=data, palette='hls')\n",
    "plt.show()"
   ]
  },
  {
   "cell_type": "code",
   "execution_count": 36,
   "metadata": {},
   "outputs": [
    {
     "data": {
      "text/plain": [
       "2     290706\n",
       "1     230455\n",
       "3      28568\n",
       "5       5335\n",
       "4       1527\n",
       "8       1213\n",
       "6        855\n",
       "9        521\n",
       "10       112\n",
       "7         56\n",
       "Name: C_RCFG, dtype: int64"
      ]
     },
     "execution_count": 36,
     "metadata": {},
     "output_type": "execute_result"
    }
   ],
   "source": [
    "data['C_RCFG'].value_counts()"
   ]
  },
  {
   "cell_type": "code",
   "execution_count": 37,
   "metadata": {},
   "outputs": [
    {
     "data": {
      "image/png": "[encoded data removed]",
      "text/plain": [
       "<Figure size 864x360 with 1 Axes>"
      ]
     },
     "metadata": {
      "needs_background": "light"
     },
     "output_type": "display_data"
    }
   ],
   "source": [
    "sns.countplot(x='C_RCFG', data=data, palette='hls')\n",
    "plt.show()"
   ]
  },
  {
   "cell_type": "code",
   "execution_count": 38,
   "metadata": {},
   "outputs": [
    {
     "data": {
      "text/plain": [
       "1    401194\n",
       "3     58952\n",
       "2     50777\n",
       "4     34477\n",
       "6      9251\n",
       "5      3007\n",
       "7      1690\n",
       "Name: C_WTHR, dtype: int64"
      ]
     },
     "execution_count": 38,
     "metadata": {},
     "output_type": "execute_result"
    }
   ],
   "source": [
    "data['C_WTHR'].value_counts()"
   ]
  },
  {
   "cell_type": "code",
   "execution_count": 39,
   "metadata": {},
   "outputs": [
    {
     "data": {
      "image/png": "[encoded data removed]",
      "text/plain": [
       "<Figure size 864x360 with 1 Axes>"
      ]
     },
     "metadata": {
      "needs_background": "light"
     },
     "output_type": "display_data"
    }
   ],
   "source": [
    "sns.countplot(x='C_WTHR', data=data, palette='hls')\n",
    "plt.show()"
   ]
  },
  {
   "cell_type": "code",
   "execution_count": 40,
   "metadata": {},
   "outputs": [
    {
     "data": {
      "text/plain": [
       "1    380311\n",
       "2    107833\n",
       "5     34748\n",
       "3     23980\n",
       "4      9732\n",
       "6      2196\n",
       "7       391\n",
       "8       124\n",
       "9        33\n",
       "Name: C_RSUR, dtype: int64"
      ]
     },
     "execution_count": 40,
     "metadata": {},
     "output_type": "execute_result"
    }
   ],
   "source": [
    "data['C_RSUR'].value_counts()"
   ]
  },
  {
   "cell_type": "code",
   "execution_count": 41,
   "metadata": {},
   "outputs": [
    {
     "data": {
      "image/png": "[encoded data removed]",
      "text/plain": [
       "<Figure size 864x360 with 1 Axes>"
      ]
     },
     "metadata": {
      "needs_background": "light"
     },
     "output_type": "display_data"
    }
   ],
   "source": [
    "sns.countplot(x='C_RSUR', data=data, palette='hls')\n",
    "plt.show()"
   ]
  },
  {
   "cell_type": "code",
   "execution_count": 42,
   "metadata": {},
   "outputs": [
    {
     "data": {
      "text/plain": [
       "1    442924\n",
       "2     53847\n",
       "3     33352\n",
       "4     18238\n",
       "5      6189\n",
       "6      4798\n",
       "Name: C_RALN, dtype: int64"
      ]
     },
     "execution_count": 42,
     "metadata": {},
     "output_type": "execute_result"
    }
   ],
   "source": [
    "data['C_RALN'].value_counts()"
   ]
  },
  {
   "cell_type": "code",
   "execution_count": 43,
   "metadata": {},
   "outputs": [
    {
     "data": {
      "image/png": "[encoded data removed]",
      "text/plain": [
       "<Figure size 864x360 with 1 Axes>"
      ]
     },
     "metadata": {
      "needs_background": "light"
     },
     "output_type": "display_data"
    }
   ],
   "source": [
    "sns.countplot(x='C_RALN', data=data, palette='hls')\n",
    "plt.show()"
   ]
  },
  {
   "cell_type": "code",
   "execution_count": 44,
   "metadata": {},
   "outputs": [
    {
     "data": {
      "text/plain": [
       "[18.0, inf)     292067\n",
       "[1.0, 3.0)      184501\n",
       "[3.0, 6.0)       75027\n",
       "[8.0, 10.0)       3037\n",
       "[6.0, 7.0)        2404\n",
       "[10.0, 13.0)      1078\n",
       "[13.0, 15.0)       593\n",
       "[15.0, 17.0)       423\n",
       "[7.0, 8.0)         151\n",
       "[17.0, 18.0)        67\n",
       "Name: C_TRAF, dtype: int64"
      ]
     },
     "execution_count": 44,
     "metadata": {},
     "output_type": "execute_result"
    }
   ],
   "source": [
    "data['C_TRAF'].value_counts()"
   ]
  },
  {
   "cell_type": "code",
   "execution_count": 45,
   "metadata": {},
   "outputs": [
    {
     "data": {
      "image/png": "[encoded data removed]",
      "text/plain": [
       "<Figure size 864x360 with 1 Axes>"
      ]
     },
     "metadata": {
      "needs_background": "light"
     },
     "output_type": "display_data"
    }
   ],
   "source": [
    "sns.countplot(x='C_TRAF', data=data, palette='hls')\n",
    "plt.show()"
   ]
  },
  {
   "cell_type": "code",
   "execution_count": 46,
   "metadata": {},
   "outputs": [
    {
     "data": {
      "text/plain": [
       "[0.0, 5.0)      508686\n",
       "[5.0, 8.0)       24107\n",
       "[14.0, 18.0)     11505\n",
       "[9.0, 14.0)       7947\n",
       "[8.0, 9.0)        6544\n",
       "[18.0, inf)        559\n",
       "Name: V_TYPE, dtype: int64"
      ]
     },
     "execution_count": 46,
     "metadata": {},
     "output_type": "execute_result"
    }
   ],
   "source": [
    "data['V_TYPE'].value_counts()"
   ]
  },
  {
   "cell_type": "code",
   "execution_count": 47,
   "metadata": {},
   "outputs": [
    {
     "data": {
      "image/png": "[encoded data removed]",
      "text/plain": [
       "<Figure size 864x360 with 1 Axes>"
      ]
     },
     "metadata": {
      "needs_background": "light"
     },
     "output_type": "display_data"
    }
   ],
   "source": [
    "sns.countplot(x='V_TYPE', data=data, palette='hls')\n",
    "plt.show()"
   ]
  },
  {
   "cell_type": "code",
   "execution_count": 48,
   "metadata": {},
   "outputs": [
    {
     "data": {
      "text/plain": [
       "[2000.0, 2010.0)    351456\n",
       "[2010.0, inf)       134051\n",
       "[1990.0, 2000.0)     68597\n",
       "[1980.0, 1990.0)      4409\n",
       "[1950.0, 1980.0)       793\n",
       "[1900.0, 1950.0)        42\n",
       "Name: V_YEAR, dtype: int64"
      ]
     },
     "execution_count": 48,
     "metadata": {},
     "output_type": "execute_result"
    }
   ],
   "source": [
    "data['V_YEAR'].value_counts()"
   ]
  },
  {
   "cell_type": "code",
   "execution_count": 49,
   "metadata": {},
   "outputs": [
    {
     "data": {
      "image/png": "[encoded data removed]",
      "text/plain": [
       "<Figure size 864x360 with 1 Axes>"
      ]
     },
     "metadata": {
      "needs_background": "light"
     },
     "output_type": "display_data"
    }
   ],
   "source": [
    "sns.countplot(x='V_YEAR', data=data, palette='hls')\n",
    "plt.show()"
   ]
  },
  {
   "cell_type": "code",
   "execution_count": 50,
   "metadata": {},
   "outputs": [
    {
     "data": {
      "text/plain": [
       "M    294077\n",
       "F    265271\n",
       "Name: P_SEX, dtype: int64"
      ]
     },
     "execution_count": 50,
     "metadata": {},
     "output_type": "execute_result"
    }
   ],
   "source": [
    "data['P_SEX'].value_counts()"
   ]
  },
  {
   "cell_type": "code",
   "execution_count": 51,
   "metadata": {},
   "outputs": [
    {
     "data": {
      "image/png": "[encoded data removed]",
      "text/plain": [
       "<Figure size 864x360 with 1 Axes>"
      ]
     },
     "metadata": {
      "needs_background": "light"
     },
     "output_type": "display_data"
    }
   ],
   "source": [
    "sns.countplot(x='P_SEX', data=data, palette='hls')\n",
    "plt.show()"
   ]
  },
  {
   "cell_type": "code",
   "execution_count": 52,
   "metadata": {},
   "outputs": [
    {
     "data": {
      "text/plain": [
       "[11.0, 21.0)    491971\n",
       "[21.0, 31.0)     63540\n",
       "[31.0, 34.0)      3728\n",
       "[98.0, 99.0)        72\n",
       "[34.0, 98.0)        37\n",
       "[99.0, inf)          0\n",
       "Name: P_PSN, dtype: int64"
      ]
     },
     "execution_count": 52,
     "metadata": {},
     "output_type": "execute_result"
    }
   ],
   "source": [
    "data['P_PSN'].value_counts()"
   ]
  },
  {
   "cell_type": "code",
   "execution_count": 53,
   "metadata": {},
   "outputs": [
    {
     "data": {
      "image/png": "[encoded data removed]",
      "text/plain": [
       "<Figure size 864x360 with 1 Axes>"
      ]
     },
     "metadata": {
      "needs_background": "light"
     },
     "output_type": "display_data"
    }
   ],
   "source": [
    "sns.countplot(x='P_PSN', data=data, palette='hls')\n",
    "plt.show()"
   ]
  },
  {
   "cell_type": "code",
   "execution_count": 54,
   "metadata": {},
   "outputs": [
    {
     "data": {
      "text/plain": [
       "2     527845\n",
       "9      10416\n",
       "1      10371\n",
       "13      6552\n",
       "12      4162\n",
       "10         2\n",
       "11         0\n",
       "Name: P_SAFE, dtype: int64"
      ]
     },
     "execution_count": 54,
     "metadata": {},
     "output_type": "execute_result"
    }
   ],
   "source": [
    "data['P_SAFE'].value_counts()"
   ]
  },
  {
   "cell_type": "code",
   "execution_count": 55,
   "metadata": {},
   "outputs": [
    {
     "data": {
      "image/png": "[encoded data removed]",
      "text/plain": [
       "<Figure size 864x360 with 1 Axes>"
      ]
     },
     "metadata": {
      "needs_background": "light"
     },
     "output_type": "display_data"
    }
   ],
   "source": [
    "sns.countplot(x='P_SAFE', data=data, palette='hls')\n",
    "plt.show()"
   ]
  },
  {
   "cell_type": "code",
   "execution_count": 56,
   "metadata": {},
   "outputs": [
    {
     "data": {
      "text/plain": [
       "1    383086\n",
       "2    164757\n",
       "5     10921\n",
       "4       584\n",
       "Name: P_USER, dtype: int64"
      ]
     },
     "execution_count": 56,
     "metadata": {},
     "output_type": "execute_result"
    }
   ],
   "source": [
    "data['P_USER'].value_counts()"
   ]
  },
  {
   "cell_type": "code",
   "execution_count": 57,
   "metadata": {},
   "outputs": [
    {
     "data": {
      "image/png": "[encoded data removed]",
      "text/plain": [
       "<Figure size 864x360 with 1 Axes>"
      ]
     },
     "metadata": {
      "needs_background": "light"
     },
     "output_type": "display_data"
    }
   ],
   "source": [
    "sns.countplot(x='P_USER', data=data, palette='hls')\n",
    "plt.show()"
   ]
  },
  {
   "cell_type": "markdown",
   "metadata": {},
   "source": [
    "# Prepare Data for Maching Learning"
   ]
  },
  {
   "cell_type": "code",
   "execution_count": 58,
   "metadata": {},
   "outputs": [
    {
     "data": {
      "text/plain": [
       "array(['P_ISEV', 'C_YEAR_2012', 'C_YEAR_2013', 'C_YEAR_2014', 'C_MNTH_2',\n",
       "       'C_MNTH_3', 'C_MNTH_4', 'C_MNTH_5', 'C_MNTH_6', 'C_MNTH_7',\n",
       "       'C_MNTH_8', 'C_MNTH_9', 'C_MNTH_10', 'C_MNTH_11', 'C_MNTH_12',\n",
       "       'C_WDAY_2', 'C_WDAY_3', 'C_WDAY_4', 'C_WDAY_5', 'C_WDAY_6',\n",
       "       'C_WDAY_7', 'C_HOUR_[3.0, 6.0)', 'C_HOUR_[6.0, 9.0)',\n",
       "       'C_HOUR_[9.0, 12.0)', 'C_HOUR_[12.0, 15.0)', 'C_HOUR_[15.0, 18.0)',\n",
       "       'C_HOUR_[18.0, 21.0)', 'C_HOUR_[21.0, inf)', 'C_VEHS_[6.0, 26.0)',\n",
       "       'C_VEHS_[26.0, inf)', 'C_CONF_[21.0, 31.0)', 'C_CONF_[31.0, 41.0)',\n",
       "       'C_CONF_[41.0, inf)', 'C_RCFG_2', 'C_RCFG_3', 'C_RCFG_4',\n",
       "       'C_RCFG_5', 'C_RCFG_6', 'C_RCFG_7', 'C_RCFG_8', 'C_RCFG_9',\n",
       "       'C_RCFG_10', 'C_WTHR_2', 'C_WTHR_3', 'C_WTHR_4', 'C_WTHR_5',\n",
       "       'C_WTHR_6', 'C_WTHR_7', 'C_RSUR_2', 'C_RSUR_3', 'C_RSUR_4',\n",
       "       'C_RSUR_5', 'C_RSUR_6', 'C_RSUR_7', 'C_RSUR_8', 'C_RSUR_9',\n",
       "       'C_RALN_2', 'C_RALN_3', 'C_RALN_4', 'C_RALN_5', 'C_RALN_6',\n",
       "       'C_TRAF_[3.0, 6.0)', 'C_TRAF_[6.0, 7.0)', 'C_TRAF_[7.0, 8.0)',\n",
       "       'C_TRAF_[8.0, 10.0)', 'C_TRAF_[10.0, 13.0)', 'C_TRAF_[13.0, 15.0)',\n",
       "       'C_TRAF_[15.0, 17.0)', 'C_TRAF_[17.0, 18.0)', 'C_TRAF_[18.0, inf)',\n",
       "       'V_TYPE_[5.0, 8.0)', 'V_TYPE_[8.0, 9.0)', 'V_TYPE_[9.0, 14.0)',\n",
       "       'V_TYPE_[14.0, 18.0)', 'V_TYPE_[18.0, inf)',\n",
       "       'V_YEAR_[1950.0, 1980.0)', 'V_YEAR_[1980.0, 1990.0)',\n",
       "       'V_YEAR_[1990.0, 2000.0)', 'V_YEAR_[2000.0, 2010.0)',\n",
       "       'V_YEAR_[2010.0, inf)', 'P_SEX_M', 'P_AGE_[10.0, 20.0)',\n",
       "       'P_AGE_[20.0, 30.0)', 'P_AGE_[30.0, 40.0)', 'P_AGE_[40.0, 50.0)',\n",
       "       'P_AGE_[50.0, 60.0)', 'P_AGE_[60.0, 70.0)', 'P_AGE_[70.0, 80.0)',\n",
       "       'P_AGE_[80.0, 90.0)', 'P_AGE_[90.0, inf)', 'P_PSN_[21.0, 31.0)',\n",
       "       'P_PSN_[31.0, 34.0)', 'P_PSN_[34.0, 98.0)', 'P_PSN_[98.0, 99.0)',\n",
       "       'P_PSN_[99.0, inf)', 'P_SAFE_2', 'P_SAFE_9', 'P_SAFE_10',\n",
       "       'P_SAFE_11', 'P_SAFE_12', 'P_SAFE_13', 'P_USER_2', 'P_USER_4',\n",
       "       'P_USER_5'], dtype=object)"
      ]
     },
     "execution_count": 58,
     "metadata": {},
     "output_type": "execute_result"
    }
   ],
   "source": [
    "# Convert data to categorical features (get dummy variables) \n",
    "cat_vars=['C_YEAR','C_MNTH','C_WDAY','C_HOUR','C_VEHS','C_CONF','C_RCFG','C_WTHR','C_RSUR','C_RALN','C_TRAF',\n",
    "         'V_TYPE','V_YEAR','P_SEX','P_AGE','P_PSN','P_SAFE','P_USER']\n",
    "train = data['P_ISEV']\n",
    "for var in cat_vars:\n",
    "    cat_list = pd.get_dummies(data[var], prefix=var, drop_first=True)\n",
    "    train = pd.concat([train,cat_list],axis=1)\n",
    "\n",
    "categories = train.drop('P_ISEV',axis=1).columns.values\n",
    "    \n",
    "train.columns.values"
   ]
  },
  {
   "cell_type": "code",
   "execution_count": 59,
   "metadata": {},
   "outputs": [
    {
     "name": "stdout",
     "output_type": "stream",
     "text": [
      "KFold(n_splits=10, random_state=102, shuffle=True)\n"
     ]
    }
   ],
   "source": [
    "# Use K-Fold Cross Validation with K=10\n",
    "K = 10\n",
    "kfold = KFold(n_splits=K, shuffle=True, random_state=102)\n",
    "kfold.get_n_splits(train)\n",
    "print(kfold)"
   ]
  },
  {
   "cell_type": "code",
   "execution_count": 60,
   "metadata": {},
   "outputs": [
    {
     "name": "stdout",
     "output_type": "stream",
     "text": [
      "TRAIN: [     0      1      2 ... 559344 559346 559347] TEST: [     3     17     19 ... 559338 559339 559345]\n",
      "TRAIN: [     0      1      2 ... 559345 559346 559347] TEST: [    10     13     22 ... 559301 559324 559325]\n",
      "TRAIN: [     1      2      3 ... 559345 559346 559347] TEST: [     0      8     12 ... 559314 559319 559322]\n",
      "TRAIN: [     0      1      2 ... 559345 559346 559347] TEST: [     4      9     11 ... 559302 559328 559334]\n",
      "TRAIN: [     0      1      2 ... 559345 559346 559347] TEST: [     7     20     29 ... 559283 559317 559318]\n",
      "TRAIN: [     0      1      2 ... 559345 559346 559347] TEST: [    16     25     27 ... 559312 559327 559336]\n",
      "TRAIN: [     0      1      2 ... 559344 559345 559347] TEST: [     6     37     49 ... 559335 559340 559346]\n",
      "TRAIN: [     0      1      3 ... 559345 559346 559347] TEST: [     2      5     21 ... 559306 559337 559342]\n",
      "TRAIN: [     0      1      2 ... 559345 559346 559347] TEST: [    26     48     64 ... 559326 559331 559344]\n",
      "TRAIN: [     0      2      3 ... 559344 559345 559346] TEST: [     1     14     18 ... 559341 559343 559347]\n"
     ]
    }
   ],
   "source": [
    "# Split our data based on folds\n",
    "X = np.array(train.drop('P_ISEV',axis=1))\n",
    "y = np.array(train['P_ISEV'])\n",
    "\n",
    "# Use lists to store all the datasets needed for each fold\n",
    "X_train = []\n",
    "X_test = []\n",
    "y_train = []\n",
    "y_test = []\n",
    "\n",
    "for train_index, test_index in kfold.split(train):\n",
    "    print(\"TRAIN:\", train_index, \"TEST:\", test_index)\n",
    "    X_train.append(X[train_index])\n",
    "    X_test.append(X[test_index])\n",
    "    y_train.append(y[train_index])\n",
    "    y_test.append(y[test_index])"
   ]
  },
  {
   "cell_type": "markdown",
   "metadata": {},
   "source": [
    "# Baseline Model (Majority Class Prediction)"
   ]
  },
  {
   "cell_type": "code",
   "execution_count": 61,
   "metadata": {},
   "outputs": [
    {
     "data": {
      "text/plain": [
       "[0.5624743005273979,\n",
       " 0.5639939215160454,\n",
       " 0.5590238669884687,\n",
       " 0.5644766246536158,\n",
       " 0.5585947975328507,\n",
       " 0.5617591847680343,\n",
       " 0.564726915169393,\n",
       " 0.5584517743809779,\n",
       " 0.5652376014588623,\n",
       " 0.5611256123288161]"
      ]
     },
     "execution_count": 61,
     "metadata": {},
     "output_type": "execute_result"
    }
   ],
   "source": [
    "# Create a baseline model where you guess the same class for everything\n",
    "\n",
    "# Want a list of all predictions for each of the 10 folds (predicitons for every row in the data set)\n",
    "predictions = []\n",
    "# Keep a list of accuracies for each fold\n",
    "accuracies = []\n",
    "\n",
    "# For each fold\n",
    "for i in range(K):\n",
    "    \n",
    "    # Train the model on the training set (get the most frequent class)\n",
    "    most_frequent = statistics.mode(y_train[i])\n",
    "    \n",
    "    # Evaluate the model on the testing set (use the most frequent class from above as predictions for all)\n",
    "    fold_predictions = [most_frequent] * len(y_test[i])\n",
    "    accuracies.append(accuracy_score(y_test[i], fold_predictions))\n",
    "    predictions = predictions + fold_predictions\n",
    "accuracies"
   ]
  },
  {
   "cell_type": "code",
   "execution_count": 62,
   "metadata": {},
   "outputs": [
    {
     "data": {
      "image/png": "[encoded data removed]",
      "text/plain": [
       "<Figure size 360x360 with 1 Axes>"
      ]
     },
     "metadata": {
      "needs_background": "light"
     },
     "output_type": "display_data"
    }
   ],
   "source": [
    "# Create the confusion matrix\n",
    "cm = confusion_matrix(np.hstack(y_test),predictions)\n",
    "fig, ax = plt.subplots(figsize=(5, 5))\n",
    "ax.imshow(cm)\n",
    "ax.grid(False)\n",
    "ax.xaxis.set(ticks=(0, 1), ticklabels=('Predicted 0s', 'Predicted 1s'))\n",
    "ax.yaxis.set(ticks=(0, 1), ticklabels=('Actual 0s', 'Actual 1s'))\n",
    "ax.set_ylim(1.5, -0.5)\n",
    "for i in range(2):\n",
    "    for j in range(2):\n",
    "        ax.text(j, i, cm[i, j], ha='center', va='center', color='red')\n",
    "plt.show()"
   ]
  },
  {
   "cell_type": "code",
   "execution_count": 63,
   "metadata": {},
   "outputs": [
    {
     "name": "stderr",
     "output_type": "stream",
     "text": [
      "/Library/Frameworks/Python.framework/Versions/3.6/lib/python3.6/site-packages/sklearn/metrics/_classification.py:1272: UndefinedMetricWarning: Precision and F-score are ill-defined and being set to 0.0 in labels with no predicted samples. Use `zero_division` parameter to control this behavior.\n",
      "  _warn_prf(average, modifier, msg_start, len(result))\n"
     ]
    },
    {
     "name": "stdout",
     "output_type": "stream",
     "text": [
      "              precision    recall  f1-score   support\n",
      "\n",
      "           0       0.00      0.00      0.00    245002\n",
      "           1       0.56      1.00      0.72    314346\n",
      "\n",
      "    accuracy                           0.56    559348\n",
      "   macro avg       0.28      0.50      0.36    559348\n",
      "weighted avg       0.32      0.56      0.40    559348\n",
      "\n"
     ]
    },
    {
     "data": {
      "image/png": "[encoded data removed]",
      "text/plain": [
       "<Figure size 504x504 with 1 Axes>"
      ]
     },
     "metadata": {
      "needs_background": "light"
     },
     "output_type": "display_data"
    }
   ],
   "source": [
    "# Evaluate model using the testing data set\n",
    "print(classification_report(np.hstack(y_test),predictions))\n",
    "\n",
    "# Create ROC curve and get AUC\n",
    "fpr, tpr, threshold = roc_curve(np.hstack(y_test), predictions)\n",
    "roc_auc = auc(fpr, tpr)\n",
    "\n",
    "fig, ax = plt.subplots(figsize=(7, 7))\n",
    "plt.title('Receiver Operating Characteristic')\n",
    "plt.plot(fpr, tpr, 'b', label = 'AUC = %0.2f' % roc_auc)\n",
    "plt.legend(loc = 'lower right')\n",
    "plt.plot([0, 1], [0, 1],'r--')\n",
    "plt.xlim([0, 1])\n",
    "plt.ylim([0, 1])\n",
    "plt.ylabel('True Positive Rate')\n",
    "plt.xlabel('False Positive Rate')\n",
    "plt.show()"
   ]
  },
  {
   "cell_type": "markdown",
   "metadata": {},
   "source": [
    "# Logistic Regression"
   ]
  },
  {
   "cell_type": "code",
   "execution_count": 64,
   "metadata": {
    "scrolled": true
   },
   "outputs": [
    {
     "name": "stderr",
     "output_type": "stream",
     "text": [
      "/Library/Frameworks/Python.framework/Versions/3.6/lib/python3.6/site-packages/sklearn/linear_model/_logistic.py:940: ConvergenceWarning: lbfgs failed to converge (status=1):\n",
      "STOP: TOTAL NO. of ITERATIONS REACHED LIMIT.\n",
      "\n",
      "Increase the number of iterations (max_iter) or scale the data as shown in:\n",
      "    https://scikit-learn.org/stable/modules/preprocessing.html\n",
      "Please also refer to the documentation for alternative solver options:\n",
      "    https://scikit-learn.org/stable/modules/linear_model.html#logistic-regression\n",
      "  extra_warning_msg=_LOGISTIC_SOLVER_CONVERGENCE_MSG)\n",
      "/Library/Frameworks/Python.framework/Versions/3.6/lib/python3.6/site-packages/sklearn/linear_model/_logistic.py:940: ConvergenceWarning: lbfgs failed to converge (status=1):\n",
      "STOP: TOTAL NO. of ITERATIONS REACHED LIMIT.\n",
      "\n",
      "Increase the number of iterations (max_iter) or scale the data as shown in:\n",
      "    https://scikit-learn.org/stable/modules/preprocessing.html\n",
      "Please also refer to the documentation for alternative solver options:\n",
      "    https://scikit-learn.org/stable/modules/linear_model.html#logistic-regression\n",
      "  extra_warning_msg=_LOGISTIC_SOLVER_CONVERGENCE_MSG)\n",
      "/Library/Frameworks/Python.framework/Versions/3.6/lib/python3.6/site-packages/sklearn/linear_model/_logistic.py:940: ConvergenceWarning: lbfgs failed to converge (status=1):\n",
      "STOP: TOTAL NO. of ITERATIONS REACHED LIMIT.\n",
      "\n",
      "Increase the number of iterations (max_iter) or scale the data as shown in:\n",
      "    https://scikit-learn.org/stable/modules/preprocessing.html\n",
      "Please also refer to the documentation for alternative solver options:\n",
      "    https://scikit-learn.org/stable/modules/linear_model.html#logistic-regression\n",
      "  extra_warning_msg=_LOGISTIC_SOLVER_CONVERGENCE_MSG)\n",
      "/Library/Frameworks/Python.framework/Versions/3.6/lib/python3.6/site-packages/sklearn/linear_model/_logistic.py:940: ConvergenceWarning: lbfgs failed to converge (status=1):\n",
      "STOP: TOTAL NO. of ITERATIONS REACHED LIMIT.\n",
      "\n",
      "Increase the number of iterations (max_iter) or scale the data as shown in:\n",
      "    https://scikit-learn.org/stable/modules/preprocessing.html\n",
      "Please also refer to the documentation for alternative solver options:\n",
      "    https://scikit-learn.org/stable/modules/linear_model.html#logistic-regression\n",
      "  extra_warning_msg=_LOGISTIC_SOLVER_CONVERGENCE_MSG)\n",
      "/Library/Frameworks/Python.framework/Versions/3.6/lib/python3.6/site-packages/sklearn/linear_model/_logistic.py:940: ConvergenceWarning: lbfgs failed to converge (status=1):\n",
      "STOP: TOTAL NO. of ITERATIONS REACHED LIMIT.\n",
      "\n",
      "Increase the number of iterations (max_iter) or scale the data as shown in:\n",
      "    https://scikit-learn.org/stable/modules/preprocessing.html\n",
      "Please also refer to the documentation for alternative solver options:\n",
      "    https://scikit-learn.org/stable/modules/linear_model.html#logistic-regression\n",
      "  extra_warning_msg=_LOGISTIC_SOLVER_CONVERGENCE_MSG)\n",
      "/Library/Frameworks/Python.framework/Versions/3.6/lib/python3.6/site-packages/sklearn/linear_model/_logistic.py:940: ConvergenceWarning: lbfgs failed to converge (status=1):\n",
      "STOP: TOTAL NO. of ITERATIONS REACHED LIMIT.\n",
      "\n",
      "Increase the number of iterations (max_iter) or scale the data as shown in:\n",
      "    https://scikit-learn.org/stable/modules/preprocessing.html\n",
      "Please also refer to the documentation for alternative solver options:\n",
      "    https://scikit-learn.org/stable/modules/linear_model.html#logistic-regression\n",
      "  extra_warning_msg=_LOGISTIC_SOLVER_CONVERGENCE_MSG)\n",
      "/Library/Frameworks/Python.framework/Versions/3.6/lib/python3.6/site-packages/sklearn/linear_model/_logistic.py:940: ConvergenceWarning: lbfgs failed to converge (status=1):\n",
      "STOP: TOTAL NO. of ITERATIONS REACHED LIMIT.\n",
      "\n",
      "Increase the number of iterations (max_iter) or scale the data as shown in:\n",
      "    https://scikit-learn.org/stable/modules/preprocessing.html\n",
      "Please also refer to the documentation for alternative solver options:\n",
      "    https://scikit-learn.org/stable/modules/linear_model.html#logistic-regression\n",
      "  extra_warning_msg=_LOGISTIC_SOLVER_CONVERGENCE_MSG)\n",
      "/Library/Frameworks/Python.framework/Versions/3.6/lib/python3.6/site-packages/sklearn/linear_model/_logistic.py:940: ConvergenceWarning: lbfgs failed to converge (status=1):\n",
      "STOP: TOTAL NO. of ITERATIONS REACHED LIMIT.\n",
      "\n",
      "Increase the number of iterations (max_iter) or scale the data as shown in:\n",
      "    https://scikit-learn.org/stable/modules/preprocessing.html\n",
      "Please also refer to the documentation for alternative solver options:\n",
      "    https://scikit-learn.org/stable/modules/linear_model.html#logistic-regression\n",
      "  extra_warning_msg=_LOGISTIC_SOLVER_CONVERGENCE_MSG)\n",
      "/Library/Frameworks/Python.framework/Versions/3.6/lib/python3.6/site-packages/sklearn/linear_model/_logistic.py:940: ConvergenceWarning: lbfgs failed to converge (status=1):\n",
      "STOP: TOTAL NO. of ITERATIONS REACHED LIMIT.\n",
      "\n",
      "Increase the number of iterations (max_iter) or scale the data as shown in:\n",
      "    https://scikit-learn.org/stable/modules/preprocessing.html\n",
      "Please also refer to the documentation for alternative solver options:\n",
      "    https://scikit-learn.org/stable/modules/linear_model.html#logistic-regression\n",
      "  extra_warning_msg=_LOGISTIC_SOLVER_CONVERGENCE_MSG)\n",
      "/Library/Frameworks/Python.framework/Versions/3.6/lib/python3.6/site-packages/sklearn/linear_model/_logistic.py:940: ConvergenceWarning: lbfgs failed to converge (status=1):\n",
      "STOP: TOTAL NO. of ITERATIONS REACHED LIMIT.\n",
      "\n",
      "Increase the number of iterations (max_iter) or scale the data as shown in:\n",
      "    https://scikit-learn.org/stable/modules/preprocessing.html\n",
      "Please also refer to the documentation for alternative solver options:\n",
      "    https://scikit-learn.org/stable/modules/linear_model.html#logistic-regression\n",
      "  extra_warning_msg=_LOGISTIC_SOLVER_CONVERGENCE_MSG)\n"
     ]
    },
    {
     "data": {
      "text/plain": [
       "[0.6437293286850809,\n",
       " 0.64717976222401,\n",
       " 0.6458389201752034,\n",
       " 0.6470724948601054,\n",
       " 0.6447304907481899,\n",
       " 0.6460355770090284,\n",
       " 0.6458389201752034,\n",
       " 0.644945025475999,\n",
       " 0.6476382879822649,\n",
       " 0.6486752243715808]"
      ]
     },
     "execution_count": 64,
     "metadata": {},
     "output_type": "execute_result"
    }
   ],
   "source": [
    "# Create logistic regression model\n",
    "\n",
    "# Keep a list of all predictions (1s and 0s) for each of the 10 folds (predicitons for every row in the data set)\n",
    "predictions = []\n",
    "# Keep a list of all prediction probabilities for each of the 10 folds \n",
    "probability_preds = []\n",
    "# Keep a list of accuracies for each fold\n",
    "accuracies = []\n",
    "\n",
    "# For each fold\n",
    "for i in range(K):\n",
    "    logmodel = LogisticRegression()\n",
    "    logmodel.fit(X_train[i],y_train[i])\n",
    "    fold_predictions = logmodel.predict(X_test[i])\n",
    "    fold_probabilities = logmodel.predict_proba(X_test[i])[:,1]\n",
    "    predictions = predictions + list(fold_predictions)\n",
    "    probability_preds = probability_preds + list(fold_probabilities)\n",
    "    accuracies.append(accuracy_score(y_test[i], fold_predictions))\n",
    "accuracies"
   ]
  },
  {
   "cell_type": "code",
   "execution_count": 65,
   "metadata": {
    "scrolled": false
   },
   "outputs": [
    {
     "name": "stdout",
     "output_type": "stream",
     "text": [
      "                    category  coefficient\n",
      "0                C_YEAR_2012     0.027116\n",
      "1                C_YEAR_2013     0.037504\n",
      "2                C_YEAR_2014     0.060807\n",
      "3                   C_MNTH_2     0.067474\n",
      "4                   C_MNTH_3     0.139520\n",
      "5                   C_MNTH_4     0.125748\n",
      "6                   C_MNTH_5     0.099178\n",
      "7                   C_MNTH_6     0.065077\n",
      "8                   C_MNTH_7     0.057534\n",
      "9                   C_MNTH_8     0.063628\n",
      "10                  C_MNTH_9     0.084050\n",
      "11                 C_MNTH_10     0.078794\n",
      "12                 C_MNTH_11     0.120449\n",
      "13                 C_MNTH_12     0.022533\n",
      "14                  C_WDAY_2    -0.018755\n",
      "15                  C_WDAY_3    -0.031661\n",
      "16                  C_WDAY_4    -0.058132\n",
      "17                  C_WDAY_5    -0.059578\n",
      "18                  C_WDAY_6    -0.111248\n",
      "19                  C_WDAY_7    -0.093291\n",
      "20         C_HOUR_[3.0, 6.0)     0.201475\n",
      "21         C_HOUR_[6.0, 9.0)    -0.332873\n",
      "22        C_HOUR_[9.0, 12.0)    -0.391088\n",
      "23       C_HOUR_[12.0, 15.0)    -0.428155\n",
      "24       C_HOUR_[15.0, 18.0)    -0.487886\n",
      "25       C_HOUR_[18.0, 21.0)    -0.506017\n",
      "26        C_HOUR_[21.0, inf)    -0.320373\n",
      "27        C_VEHS_[6.0, 26.0)    -0.856674\n",
      "28        C_VEHS_[26.0, inf)    -0.518832\n",
      "29       C_CONF_[21.0, 31.0)    -0.666786\n",
      "30       C_CONF_[31.0, 41.0)    -0.304025\n",
      "31        C_CONF_[41.0, inf)     0.115154\n",
      "32                  C_RCFG_2    -0.323306\n",
      "33                  C_RCFG_3    -0.527575\n",
      "34                  C_RCFG_4     0.848462\n",
      "35                  C_RCFG_5    -0.133140\n",
      "36                  C_RCFG_6     0.133852\n",
      "37                  C_RCFG_7     0.185394\n",
      "38                  C_RCFG_8    -0.129687\n",
      "39                  C_RCFG_9    -0.315426\n",
      "40                 C_RCFG_10     0.030555\n",
      "41                  C_WTHR_2     0.169850\n",
      "42                  C_WTHR_3    -0.069046\n",
      "43                  C_WTHR_4    -0.122060\n",
      "44                  C_WTHR_5    -0.135825\n",
      "45                  C_WTHR_6     0.132135\n",
      "46                  C_WTHR_7     0.259758\n",
      "47                  C_RSUR_2     0.044749\n",
      "48                  C_RSUR_3     0.334937\n",
      "49                  C_RSUR_4     0.347361\n",
      "50                  C_RSUR_5     0.596589\n",
      "51                  C_RSUR_6     1.104989\n",
      "52                  C_RSUR_7     0.607545\n",
      "53                  C_RSUR_8     0.256119\n",
      "54                  C_RSUR_9     0.197908\n",
      "55                  C_RALN_2    -0.021884\n",
      "56                  C_RALN_3     0.347849\n",
      "57                  C_RALN_4     0.254221\n",
      "58                  C_RALN_5     0.194453\n",
      "59                  C_RALN_6     0.351441\n",
      "60         C_TRAF_[3.0, 6.0)    -0.013981\n",
      "61         C_TRAF_[6.0, 7.0)    -0.446597\n",
      "62         C_TRAF_[7.0, 8.0)    -0.115374\n",
      "63        C_TRAF_[8.0, 10.0)    -0.144631\n",
      "64       C_TRAF_[10.0, 13.0)     0.166857\n",
      "65       C_TRAF_[13.0, 15.0)    -0.139919\n",
      "66       C_TRAF_[15.0, 17.0)     0.184640\n",
      "67       C_TRAF_[17.0, 18.0)     0.018993\n",
      "68        C_TRAF_[18.0, inf)     0.086890\n",
      "69         V_TYPE_[5.0, 8.0)    -0.573661\n",
      "70         V_TYPE_[8.0, 9.0)    -0.847397\n",
      "71        V_TYPE_[9.0, 14.0)    -1.407788\n",
      "72       V_TYPE_[14.0, 18.0)     0.932094\n",
      "73        V_TYPE_[18.0, inf)    -1.181318\n",
      "74   V_YEAR_[1950.0, 1980.0)     0.639490\n",
      "75   V_YEAR_[1980.0, 1990.0)     0.410836\n",
      "76   V_YEAR_[1990.0, 2000.0)     0.329619\n",
      "77   V_YEAR_[2000.0, 2010.0)     0.190909\n",
      "78      V_YEAR_[2010.0, inf)     0.068766\n",
      "79                   P_SEX_M    -0.761367\n",
      "80        P_AGE_[10.0, 20.0)     0.517568\n",
      "81        P_AGE_[20.0, 30.0)     0.705626\n",
      "82        P_AGE_[30.0, 40.0)     0.773082\n",
      "83        P_AGE_[40.0, 50.0)     0.772354\n",
      "84        P_AGE_[50.0, 60.0)     0.838618\n",
      "85        P_AGE_[60.0, 70.0)     0.799618\n",
      "86        P_AGE_[70.0, 80.0)     0.805916\n",
      "87        P_AGE_[80.0, 90.0)     0.898179\n",
      "88         P_AGE_[90.0, inf)     0.902264\n",
      "89        P_PSN_[21.0, 31.0)    -0.297892\n",
      "90        P_PSN_[31.0, 34.0)    -0.305072\n",
      "91        P_PSN_[34.0, 98.0)    -0.052645\n",
      "92        P_PSN_[98.0, 99.0)    -0.011700\n",
      "93         P_PSN_[99.0, inf)     0.000000\n",
      "94                  P_SAFE_2    -1.196195\n",
      "95                  P_SAFE_9     0.836707\n",
      "96                 P_SAFE_10     0.002139\n",
      "97                 P_SAFE_11     0.000000\n",
      "98                 P_SAFE_12    -0.159263\n",
      "99                 P_SAFE_13    -0.233396\n",
      "100                 P_USER_2    -0.060587\n",
      "101                 P_USER_4     0.837274\n",
      "102                 P_USER_5     0.094820\n"
     ]
    }
   ],
   "source": [
    "# Get model coefficients (for the last fold)\n",
    "coefficients = logmodel.coef_[0]\n",
    "cat_coefs = pd.DataFrame({'category': categories, 'coefficient': coefficients})\n",
    "with pd.option_context('display.max_rows', None, 'display.max_columns', None):  # more options can be specified also\n",
    "    print(cat_coefs)"
   ]
  },
  {
   "cell_type": "code",
   "execution_count": 66,
   "metadata": {},
   "outputs": [
    {
     "data": {
      "image/png": "[encoded data removed]",
      "text/plain": [
       "<Figure size 360x360 with 1 Axes>"
      ]
     },
     "metadata": {
      "needs_background": "light"
     },
     "output_type": "display_data"
    }
   ],
   "source": [
    "# Create the confusion matrix\n",
    "cm = confusion_matrix(np.hstack(y_test),predictions)\n",
    "fig, ax = plt.subplots(figsize=(5, 5))\n",
    "ax.imshow(cm)\n",
    "ax.grid(False)\n",
    "ax.xaxis.set(ticks=(0, 1), ticklabels=('Predicted 0s', 'Predicted 1s'))\n",
    "ax.yaxis.set(ticks=(0, 1), ticklabels=('Actual 0s', 'Actual 1s'))\n",
    "ax.set_ylim(1.5, -0.5)\n",
    "for i in range(2):\n",
    "    for j in range(2):\n",
    "        ax.text(j, i, cm[i, j], ha='center', va='center', color='red')\n",
    "plt.show()"
   ]
  },
  {
   "cell_type": "code",
   "execution_count": 67,
   "metadata": {},
   "outputs": [
    {
     "name": "stdout",
     "output_type": "stream",
     "text": [
      "              precision    recall  f1-score   support\n",
      "\n",
      "           0       0.61      0.53      0.57    245002\n",
      "           1       0.67      0.74      0.70    314346\n",
      "\n",
      "    accuracy                           0.65    559348\n",
      "   macro avg       0.64      0.63      0.63    559348\n",
      "weighted avg       0.64      0.65      0.64    559348\n",
      "\n"
     ]
    },
    {
     "data": {
      "image/png": "[encoded data removed]",
      "text/plain": [
       "<Figure size 504x504 with 1 Axes>"
      ]
     },
     "metadata": {
      "needs_background": "light"
     },
     "output_type": "display_data"
    }
   ],
   "source": [
    "# Evaluate model using the testing data set\n",
    "print(classification_report(np.hstack(y_test),predictions))\n",
    "\n",
    "# Create ROC curve and get AUC\n",
    "fpr, tpr, threshold = roc_curve(np.hstack(y_test), probability_preds)\n",
    "roc_auc = auc(fpr, tpr)\n",
    "\n",
    "fig, ax = plt.subplots(figsize=(7, 7))\n",
    "plt.title('Receiver Operating Characteristic')\n",
    "plt.plot(fpr, tpr, 'b', label = 'AUC = %0.2f' % roc_auc)\n",
    "plt.legend(loc = 'lower right')\n",
    "plt.plot([0, 1], [0, 1],'r--')\n",
    "plt.xlim([0, 1])\n",
    "plt.ylim([0, 1])\n",
    "plt.ylabel('True Positive Rate')\n",
    "plt.xlabel('False Positive Rate')\n",
    "plt.show()"
   ]
  },
  {
   "cell_type": "markdown",
   "metadata": {},
   "source": [
    "# Neural Network"
   ]
  },
  {
   "cell_type": "code",
   "execution_count": 68,
   "metadata": {
    "scrolled": true
   },
   "outputs": [
    {
     "name": "stdout",
     "output_type": "stream",
     "text": [
      "Model: \"sequential\"\n",
      "_________________________________________________________________\n",
      "Layer (type)                 Output Shape              Param #   \n",
      "=================================================================\n",
      "dense (Dense)                (None, 103)               10712     \n",
      "_________________________________________________________________\n",
      "dense_1 (Dense)              (None, 20)                2080      \n",
      "_________________________________________________________________\n",
      "dense_2 (Dense)              (None, 1)                 21        \n",
      "=================================================================\n",
      "Total params: 12,813\n",
      "Trainable params: 12,813\n",
      "Non-trainable params: 0\n",
      "_________________________________________________________________\n",
      "Train on 453071 samples, validate on 50342 samples\n",
      "Epoch 1/15\n",
      "452352/453071 [============================>.] - ETA: 0s - loss: 0.6134 - accuracy: 0.6535\n",
      "Epoch 00001: accuracy improved from inf to 0.65355, saving model to model.h5\n",
      "453071/453071 [==============================] - 32s 72us/sample - loss: 0.6134 - accuracy: 0.6536 - val_loss: 0.6066 - val_accuracy: 0.6611\n",
      "Epoch 2/15\n",
      "452512/453071 [============================>.] - ETA: 0s - loss: 0.6042 - accuracy: 0.6621\n",
      "Epoch 00002: accuracy did not improve from 0.65355\n",
      "453071/453071 [==============================] - 27s 60us/sample - loss: 0.6042 - accuracy: 0.6621 - val_loss: 0.6038 - val_accuracy: 0.6619\n",
      "Epoch 3/15\n",
      "452544/453071 [============================>.] - ETA: 0s - loss: 0.6017 - accuracy: 0.6640\n",
      "Epoch 00003: accuracy did not improve from 0.65355\n",
      "453071/453071 [==============================] - 33s 72us/sample - loss: 0.6017 - accuracy: 0.6640 - val_loss: 0.6043 - val_accuracy: 0.6638\n",
      "Epoch 4/15\n",
      "452768/453071 [============================>.] - ETA: 0s - loss: 0.5999 - accuracy: 0.6651\n",
      "Epoch 00004: accuracy did not improve from 0.65355\n",
      "453071/453071 [==============================] - 29s 65us/sample - loss: 0.5999 - accuracy: 0.6651 - val_loss: 0.6033 - val_accuracy: 0.6648\n",
      "Epoch 5/15\n",
      "452384/453071 [============================>.] - ETA: 0s - loss: 0.5983 - accuracy: 0.6664\n",
      "Epoch 00005: accuracy did not improve from 0.65355\n",
      "453071/453071 [==============================] - 29s 64us/sample - loss: 0.5984 - accuracy: 0.6663 - val_loss: 0.6039 - val_accuracy: 0.6645\n",
      "Epoch 6/15\n",
      "452800/453071 [============================>.] - ETA: 0s - loss: 0.5972 - accuracy: 0.6669\n",
      "Epoch 00006: accuracy did not improve from 0.65355\n",
      "453071/453071 [==============================] - 27s 59us/sample - loss: 0.5972 - accuracy: 0.6669 - val_loss: 0.6029 - val_accuracy: 0.6653\n",
      "Epoch 7/15\n",
      "452480/453071 [============================>.] - ETA: 0s - loss: 0.5961 - accuracy: 0.6682 - ETA: 0s - loss: 0.596\n",
      "Epoch 00007: accuracy did not improve from 0.65355\n",
      "453071/453071 [==============================] - 27s 59us/sample - loss: 0.5961 - accuracy: 0.6682 - val_loss: 0.6027 - val_accuracy: 0.6659\n",
      "Epoch 8/15\n",
      "452768/453071 [============================>.] - ETA: 0s - loss: 0.5951 - accuracy: 0.6685\n",
      "Epoch 00008: accuracy did not improve from 0.65355\n",
      "453071/453071 [==============================] - 29s 63us/sample - loss: 0.5951 - accuracy: 0.6685 - val_loss: 0.6031 - val_accuracy: 0.6652\n",
      "Epoch 9/15\n",
      "452448/453071 [============================>.] - ETA: 0s - loss: 0.5941 - accuracy: 0.6694\n",
      "Epoch 00009: accuracy did not improve from 0.65355\n",
      "453071/453071 [==============================] - 28s 62us/sample - loss: 0.5941 - accuracy: 0.6694 - val_loss: 0.6035 - val_accuracy: 0.6650\n",
      "Epoch 10/15\n",
      "452768/453071 [============================>.] - ETA: 0s - loss: 0.5931 - accuracy: 0.6700\n",
      "Epoch 00010: accuracy did not improve from 0.65355\n",
      "453071/453071 [==============================] - 28s 61us/sample - loss: 0.5931 - accuracy: 0.6700 - val_loss: 0.6038 - val_accuracy: 0.6645\n",
      "Epoch 11/15\n",
      "452800/453071 [============================>.] - ETA: 0s - loss: 0.5923 - accuracy: 0.6706\n",
      "Epoch 00011: accuracy did not improve from 0.65355\n",
      "453071/453071 [==============================] - 29s 63us/sample - loss: 0.5923 - accuracy: 0.6706 - val_loss: 0.6049 - val_accuracy: 0.6636\n",
      "Epoch 12/15\n",
      "452448/453071 [============================>.] - ETA: 0s - loss: 0.5914 - accuracy: 0.6712\n",
      "Epoch 00012: accuracy did not improve from 0.65355\n",
      "453071/453071 [==============================] - 27s 60us/sample - loss: 0.5914 - accuracy: 0.6712 - val_loss: 0.6043 - val_accuracy: 0.6626\n",
      "Epoch 13/15\n",
      "452896/453071 [============================>.] - ETA: 0s - loss: 0.5909 - accuracy: 0.6719 ETA: \n",
      "Epoch 00013: accuracy did not improve from 0.65355\n",
      "453071/453071 [==============================] - 35s 77us/sample - loss: 0.5909 - accuracy: 0.6719 - val_loss: 0.6051 - val_accuracy: 0.6623\n",
      "Epoch 14/15\n",
      "452480/453071 [============================>.] - ETA: 0s - loss: 0.5901 - accuracy: 0.6721\n",
      "Epoch 00014: accuracy did not improve from 0.65355\n",
      "453071/453071 [==============================] - 30s 65us/sample - loss: 0.5901 - accuracy: 0.6720 - val_loss: 0.6056 - val_accuracy: 0.6630\n",
      "Epoch 15/15\n",
      "453056/453071 [============================>.] - ETA: 0s - loss: 0.5894 - accuracy: 0.6724\n",
      "Epoch 00015: accuracy did not improve from 0.65355\n",
      "453071/453071 [==============================] - 30s 66us/sample - loss: 0.5894 - accuracy: 0.6724 - val_loss: 0.6057 - val_accuracy: 0.6625\n",
      "Train on 453071 samples, validate on 50342 samples\n",
      "Epoch 1/15\n",
      "452640/453071 [============================>.] - ETA: 0s - loss: 0.5859 - accuracy: 0.6750\n",
      "Epoch 00001: accuracy did not improve from 0.65355\n",
      "453071/453071 [==============================] - 30s 67us/sample - loss: 0.5859 - accuracy: 0.6750 - val_loss: 0.6070 - val_accuracy: 0.6616\n",
      "Epoch 2/15\n",
      "453056/453071 [============================>.] - ETA: 0s - loss: 0.5849 - accuracy: 0.6760\n",
      "Epoch 00002: accuracy did not improve from 0.65355\n",
      "453071/453071 [==============================] - 30s 67us/sample - loss: 0.5849 - accuracy: 0.6759 - val_loss: 0.6075 - val_accuracy: 0.6614\n",
      "Epoch 3/15\n",
      "452576/453071 [============================>.] - ETA: 0s - loss: 0.5844 - accuracy: 0.6767\n",
      "Epoch 00003: accuracy did not improve from 0.65355\n",
      "453071/453071 [==============================] - 30s 67us/sample - loss: 0.5844 - accuracy: 0.6768 - val_loss: 0.6092 - val_accuracy: 0.6612\n",
      "Epoch 4/15\n",
      "452896/453071 [============================>.] - ETA: 0s - loss: 0.5839 - accuracy: 0.6767\n",
      "Epoch 00004: accuracy did not improve from 0.65355\n",
      "453071/453071 [==============================] - 30s 66us/sample - loss: 0.5839 - accuracy: 0.6767 - val_loss: 0.6090 - val_accuracy: 0.6614\n",
      "Train on 453071 samples, validate on 50342 samples\n",
      "Epoch 1/15\n",
      "452416/453071 [============================>.] - ETA: 0s - loss: 0.5817 - accuracy: 0.6782\n",
      "Epoch 00001: accuracy did not improve from 0.65355\n",
      "453071/453071 [==============================] - 31s 67us/sample - loss: 0.5816 - accuracy: 0.6783 - val_loss: 0.6100 - val_accuracy: 0.6614\n",
      "Epoch 2/15\n",
      "452320/453071 [============================>.] - ETA: 0s - loss: 0.5811 - accuracy: 0.6784\n",
      "Epoch 00002: accuracy did not improve from 0.65355\n",
      "453071/453071 [==============================] - 30s 67us/sample - loss: 0.5811 - accuracy: 0.6785 - val_loss: 0.6098 - val_accuracy: 0.6614\n",
      "Epoch 3/15\n",
      "452448/453071 [============================>.] - ETA: 0s - loss: 0.5808 - accuracy: 0.6790\n",
      "Epoch 00003: accuracy did not improve from 0.65355\n",
      "453071/453071 [==============================] - 34s 75us/sample - loss: 0.5808 - accuracy: 0.6790 - val_loss: 0.6107 - val_accuracy: 0.6609\n",
      "Epoch 4/15\n",
      "452640/453071 [============================>.] - ETA: 0s - loss: 0.5805 - accuracy: 0.6790 ETA: 0s - loss: 0.5805 - accu\n",
      "Epoch 00004: accuracy did not improve from 0.65355\n",
      "453071/453071 [==============================] - 31s 68us/sample - loss: 0.5805 - accuracy: 0.6790 - val_loss: 0.6112 - val_accuracy: 0.6616\n",
      "Model: \"sequential_1\"\n",
      "_________________________________________________________________\n",
      "Layer (type)                 Output Shape              Param #   \n",
      "=================================================================\n",
      "dense_3 (Dense)              (None, 103)               10712     \n",
      "_________________________________________________________________\n",
      "dense_4 (Dense)              (None, 20)                2080      \n",
      "_________________________________________________________________\n",
      "dense_5 (Dense)              (None, 1)                 21        \n",
      "=================================================================\n",
      "Total params: 12,813\n",
      "Trainable params: 12,813\n",
      "Non-trainable params: 0\n",
      "_________________________________________________________________\n",
      "Train on 453071 samples, validate on 50342 samples\n",
      "Epoch 1/15\n"
     ]
    },
    {
     "name": "stdout",
     "output_type": "stream",
     "text": [
      "452736/453071 [============================>.] - ETA: 0s - loss: 0.6137 - accuracy: 0.6534\n",
      "Epoch 00001: accuracy improved from inf to 0.65334, saving model to model.h5\n",
      "453071/453071 [==============================] - 28s 62us/sample - loss: 0.6137 - accuracy: 0.6533 - val_loss: 0.6068 - val_accuracy: 0.6605\n",
      "Epoch 2/15\n",
      "452672/453071 [============================>.] - ETA: 0s - loss: 0.6042 - accuracy: 0.6623\n",
      "Epoch 00002: accuracy did not improve from 0.65334\n",
      "453071/453071 [==============================] - 28s 61us/sample - loss: 0.6042 - accuracy: 0.6622 - val_loss: 0.6073 - val_accuracy: 0.6589\n",
      "Epoch 3/15\n",
      "452608/453071 [============================>.] - ETA: 0s - loss: 0.6018 - accuracy: 0.6638\n",
      "Epoch 00003: accuracy did not improve from 0.65334\n",
      "453071/453071 [==============================] - 27s 60us/sample - loss: 0.6018 - accuracy: 0.6638 - val_loss: 0.6048 - val_accuracy: 0.6609\n",
      "Epoch 4/15\n",
      "452864/453071 [============================>.] - ETA: 0s - loss: 0.6000 - accuracy: 0.6653\n",
      "Epoch 00004: accuracy did not improve from 0.65334\n",
      "453071/453071 [==============================] - 27s 60us/sample - loss: 0.6000 - accuracy: 0.6653 - val_loss: 0.6030 - val_accuracy: 0.6644\n",
      "Epoch 5/15\n",
      "452544/453071 [============================>.] - ETA: 0s - loss: 0.5986 - accuracy: 0.6660\n",
      "Epoch 00005: accuracy did not improve from 0.65334\n",
      "453071/453071 [==============================] - 27s 60us/sample - loss: 0.5986 - accuracy: 0.6660 - val_loss: 0.6030 - val_accuracy: 0.6644\n",
      "Epoch 6/15\n",
      "452704/453071 [============================>.] - ETA: 0s - loss: 0.5974 - accuracy: 0.6672\n",
      "Epoch 00006: accuracy did not improve from 0.65334\n",
      "453071/453071 [==============================] - 27s 60us/sample - loss: 0.5974 - accuracy: 0.6672 - val_loss: 0.6031 - val_accuracy: 0.6637\n",
      "Epoch 7/15\n",
      "452640/453071 [============================>.] - ETA: 0s - loss: 0.5961 - accuracy: 0.6679\n",
      "Epoch 00007: accuracy did not improve from 0.65334\n",
      "453071/453071 [==============================] - 27s 60us/sample - loss: 0.5961 - accuracy: 0.6679 - val_loss: 0.6033 - val_accuracy: 0.6646\n",
      "Epoch 8/15\n",
      "453024/453071 [============================>.] - ETA: 0s - loss: 0.5951 - accuracy: 0.6686\n",
      "Epoch 00008: accuracy did not improve from 0.65334\n",
      "453071/453071 [==============================] - 27s 60us/sample - loss: 0.5951 - accuracy: 0.6686 - val_loss: 0.6048 - val_accuracy: 0.6625\n",
      "Epoch 9/15\n",
      "452832/453071 [============================>.] - ETA: 0s - loss: 0.5941 - accuracy: 0.6691\n",
      "Epoch 00009: accuracy did not improve from 0.65334\n",
      "453071/453071 [==============================] - 29s 63us/sample - loss: 0.5941 - accuracy: 0.6691 - val_loss: 0.6053 - val_accuracy: 0.6628\n",
      "Epoch 10/15\n",
      "453056/453071 [============================>.] - ETA: 0s - loss: 0.5932 - accuracy: 0.6701\n",
      "Epoch 00010: accuracy did not improve from 0.65334\n",
      "453071/453071 [==============================] - 27s 60us/sample - loss: 0.5932 - accuracy: 0.6701 - val_loss: 0.6051 - val_accuracy: 0.6626\n",
      "Epoch 11/15\n",
      "452416/453071 [============================>.] - ETA: 0s - loss: 0.5923 - accuracy: 0.6710\n",
      "Epoch 00011: accuracy did not improve from 0.65334\n",
      "453071/453071 [==============================] - 27s 60us/sample - loss: 0.5923 - accuracy: 0.6709 - val_loss: 0.6048 - val_accuracy: 0.6647\n",
      "Epoch 12/15\n",
      "453056/453071 [============================>.] - ETA: 0s - loss: 0.5916 - accuracy: 0.6712\n",
      "Epoch 00012: accuracy did not improve from 0.65334\n",
      "453071/453071 [==============================] - 27s 60us/sample - loss: 0.5916 - accuracy: 0.6713 - val_loss: 0.6064 - val_accuracy: 0.6623\n",
      "Epoch 13/15\n",
      "452896/453071 [============================>.] - ETA: 0s - loss: 0.5908 - accuracy: 0.67 - ETA: 0s - loss: 0.5908 - accuracy: 0.6718\n",
      "Epoch 00013: accuracy did not improve from 0.65334\n",
      "453071/453071 [==============================] - 27s 60us/sample - loss: 0.5908 - accuracy: 0.6718 - val_loss: 0.6076 - val_accuracy: 0.6628\n",
      "Epoch 14/15\n",
      "452512/453071 [============================>.] - ETA: 0s - loss: 0.5902 - accuracy: 0.6720\n",
      "Epoch 00014: accuracy did not improve from 0.65334\n",
      "453071/453071 [==============================] - 27s 61us/sample - loss: 0.5902 - accuracy: 0.6720 - val_loss: 0.6064 - val_accuracy: 0.6657\n",
      "Epoch 15/15\n",
      "452832/453071 [============================>.] - ETA: 0s - loss: 0.5895 - accuracy: 0.6727\n",
      "Epoch 00015: accuracy did not improve from 0.65334\n",
      "453071/453071 [==============================] - 27s 60us/sample - loss: 0.5895 - accuracy: 0.6727 - val_loss: 0.6075 - val_accuracy: 0.6639\n",
      "Train on 453071 samples, validate on 50342 samples\n",
      "Epoch 1/15\n",
      "452448/453071 [============================>.] - ETA: 0s - loss: 0.5859 - accuracy: 0.6750\n",
      "Epoch 00001: accuracy did not improve from 0.65334\n",
      "453071/453071 [==============================] - 28s 61us/sample - loss: 0.5859 - accuracy: 0.6751 - val_loss: 0.6089 - val_accuracy: 0.6632\n",
      "Epoch 2/15\n",
      "453024/453071 [============================>.] - ETA: 0s - loss: 0.5849 - accuracy: 0.6753 ETA: 0s - loss: 0.5849 - accu\n",
      "Epoch 00002: accuracy did not improve from 0.65334\n",
      "453071/453071 [==============================] - 27s 60us/sample - loss: 0.5849 - accuracy: 0.6753 - val_loss: 0.6096 - val_accuracy: 0.6649\n",
      "Epoch 3/15\n",
      "452288/453071 [============================>.] - ETA: 0s - loss: 0.5844 - accuracy: 0.6760\n",
      "Epoch 00003: accuracy did not improve from 0.65334\n",
      "453071/453071 [==============================] - 27s 60us/sample - loss: 0.5844 - accuracy: 0.6760 - val_loss: 0.6101 - val_accuracy: 0.6631\n",
      "Epoch 4/15\n",
      "452768/453071 [============================>.] - ETA: 0s - loss: 0.5839 - accuracy: 0.6767\n",
      "Epoch 00004: accuracy did not improve from 0.65334\n",
      "453071/453071 [==============================] - 27s 60us/sample - loss: 0.5839 - accuracy: 0.6767 - val_loss: 0.6099 - val_accuracy: 0.6620\n",
      "Epoch 5/15\n",
      "452928/453071 [============================>.] - ETA: 0s - loss: 0.5835 - accuracy: 0.6769\n",
      "Epoch 00005: accuracy did not improve from 0.65334\n",
      "453071/453071 [==============================] - 29s 64us/sample - loss: 0.5835 - accuracy: 0.6769 - val_loss: 0.6115 - val_accuracy: 0.6634\n",
      "Epoch 6/15\n",
      "453024/453071 [============================>.] - ETA: 0s - loss: 0.5831 - accuracy: 0.6770 ETA: 0s - l\n",
      "Epoch 00006: accuracy did not improve from 0.65334\n",
      "453071/453071 [==============================] - 28s 61us/sample - loss: 0.5831 - accuracy: 0.6770 - val_loss: 0.6110 - val_accuracy: 0.6624\n",
      "Epoch 7/15\n",
      "452288/453071 [============================>.] - ETA: 0s - loss: 0.5827 - accuracy: 0.6774\n",
      "Epoch 00007: accuracy did not improve from 0.65334\n",
      "453071/453071 [==============================] - 27s 60us/sample - loss: 0.5827 - accuracy: 0.6774 - val_loss: 0.6123 - val_accuracy: 0.6623\n",
      "Epoch 8/15\n",
      "452192/453071 [============================>.] - ETA: 0s - loss: 0.5824 - accuracy: 0.6775\n",
      "Epoch 00008: accuracy did not improve from 0.65334\n",
      "453071/453071 [==============================] - 27s 60us/sample - loss: 0.5824 - accuracy: 0.6775 - val_loss: 0.6132 - val_accuracy: 0.6611\n",
      "Epoch 9/15\n",
      "452352/453071 [============================>.] - ETA: 0s - loss: 0.5822 - accuracy: 0.6779\n",
      "Epoch 00009: accuracy did not improve from 0.65334\n",
      "453071/453071 [==============================] - 27s 60us/sample - loss: 0.5822 - accuracy: 0.6779 - val_loss: 0.6134 - val_accuracy: 0.6627\n",
      "Epoch 10/15\n",
      "453024/453071 [============================>.] - ETA: 0s - loss: 0.5818 - accuracy: 0.6778\n",
      "Epoch 00010: accuracy did not improve from 0.65334\n",
      "453071/453071 [==============================] - 27s 60us/sample - loss: 0.5818 - accuracy: 0.6778 - val_loss: 0.6126 - val_accuracy: 0.6620\n",
      "Train on 453071 samples, validate on 50342 samples\n",
      "Epoch 1/15\n",
      "452928/453071 [============================>.] - ETA: 0s - loss: 0.5795 - accuracy: 0.6797\n",
      "Epoch 00001: accuracy did not improve from 0.65334\n",
      "453071/453071 [==============================] - 28s 62us/sample - loss: 0.5795 - accuracy: 0.6797 - val_loss: 0.6134 - val_accuracy: 0.6622\n",
      "Epoch 2/15\n",
      "452800/453071 [============================>.] - ETA: 0s - loss: 0.5790 - accuracy: 0.6797 ETA: 0s - loss: 0.5789 - accuracy: \n",
      "Epoch 00002: accuracy did not improve from 0.65334\n",
      "453071/453071 [==============================] - 27s 60us/sample - loss: 0.5790 - accuracy: 0.6797 - val_loss: 0.6148 - val_accuracy: 0.6611\n",
      "Model: \"sequential_2\"\n",
      "_________________________________________________________________\n",
      "Layer (type)                 Output Shape              Param #   \n",
      "=================================================================\n",
      "dense_6 (Dense)              (None, 103)               10712     \n",
      "_________________________________________________________________\n",
      "dense_7 (Dense)              (None, 20)                2080      \n",
      "_________________________________________________________________\n",
      "dense_8 (Dense)              (None, 1)                 21        \n",
      "=================================================================\n",
      "Total params: 12,813\n",
      "Trainable params: 12,813\n",
      "Non-trainable params: 0\n",
      "_________________________________________________________________\n",
      "Train on 453071 samples, validate on 50342 samples\n",
      "Epoch 1/15\n"
     ]
    },
    {
     "name": "stdout",
     "output_type": "stream",
     "text": [
      "452736/453071 [============================>.] - ETA: 0s - loss: 0.6130 - accuracy: 0.6544 ETA: 1s - l\n",
      "Epoch 00001: accuracy improved from inf to 0.65439, saving model to model.h5\n",
      "453071/453071 [==============================] - 28s 61us/sample - loss: 0.6130 - accuracy: 0.6544 - val_loss: 0.6072 - val_accuracy: 0.6615\n",
      "Epoch 2/15\n",
      "452640/453071 [============================>.] - ETA: 0s - loss: 0.6044 - accuracy: 0.6619 ETA - E - ETA: 1s - los - ETA: 0s - loss: 0.6\n",
      "Epoch 00002: accuracy did not improve from 0.65439\n",
      "453071/453071 [==============================] - 27s 60us/sample - loss: 0.6044 - accuracy: 0.6619 - val_loss: 0.6049 - val_accuracy: 0.6623\n",
      "Epoch 3/15\n",
      "452832/453071 [============================>.] - ETA: 0s - loss: 0.6019 - accuracy: 0.6636 ETA: 0s - loss: 0.6019 - accuracy: 0.\n",
      "Epoch 00003: accuracy did not improve from 0.65439\n",
      "453071/453071 [==============================] - 27s 60us/sample - loss: 0.6019 - accuracy: 0.6636 - val_loss: 0.6031 - val_accuracy: 0.6637\n",
      "Epoch 4/15\n",
      "452320/453071 [============================>.] - ETA: 0s - loss: 0.5999 - accuracy: 0.6646\n",
      "Epoch 00004: accuracy did not improve from 0.65439\n",
      "453071/453071 [==============================] - 27s 60us/sample - loss: 0.5999 - accuracy: 0.6646 - val_loss: 0.6072 - val_accuracy: 0.6625\n",
      "Epoch 5/15\n",
      "452288/453071 [============================>.] - ETA: 0s - loss: 0.5986 - accuracy: 0.6663\n",
      "Epoch 00005: accuracy did not improve from 0.65439\n",
      "453071/453071 [==============================] - 28s 62us/sample - loss: 0.5986 - accuracy: 0.6663 - val_loss: 0.6022 - val_accuracy: 0.6637\n",
      "Epoch 6/15\n",
      "452384/453071 [============================>.] - ETA: 0s - loss: 0.5973 - accuracy: 0.6671\n",
      "Epoch 00006: accuracy did not improve from 0.65439\n",
      "453071/453071 [==============================] - 26s 57us/sample - loss: 0.5973 - accuracy: 0.6671 - val_loss: 0.6028 - val_accuracy: 0.6646\n",
      "Epoch 7/15\n",
      "452928/453071 [============================>.] - ETA: 0s - loss: 0.5962 - accuracy: 0.6684\n",
      "Epoch 00007: accuracy did not improve from 0.65439\n",
      "453071/453071 [==============================] - 25s 54us/sample - loss: 0.5962 - accuracy: 0.6684 - val_loss: 0.6029 - val_accuracy: 0.6626\n",
      "Epoch 8/15\n",
      "452896/453071 [============================>.] - ETA: 0s - loss: 0.5950 - accuracy: 0.6689\n",
      "Epoch 00008: accuracy did not improve from 0.65439\n",
      "453071/453071 [==============================] - 25s 54us/sample - loss: 0.5951 - accuracy: 0.6689 - val_loss: 0.6043 - val_accuracy: 0.6614\n",
      "Epoch 9/15\n",
      "452160/453071 [============================>.] - ETA: 0s - loss: 0.5943 - accuracy: 0.6692\n",
      "Epoch 00009: accuracy did not improve from 0.65439\n",
      "453071/453071 [==============================] - 24s 54us/sample - loss: 0.5943 - accuracy: 0.6692 - val_loss: 0.6035 - val_accuracy: 0.6631\n",
      "Epoch 10/15\n",
      "452256/453071 [============================>.] - ETA: 0s - loss: 0.5933 - accuracy: 0.6702\n",
      "Epoch 00010: accuracy did not improve from 0.65439\n",
      "453071/453071 [==============================] - 25s 54us/sample - loss: 0.5933 - accuracy: 0.6702 - val_loss: 0.6041 - val_accuracy: 0.6619\n",
      "Epoch 11/15\n",
      "452416/453071 [============================>.] - ETA: 0s - loss: 0.5925 - accuracy: 0.6703\n",
      "Epoch 00011: accuracy did not improve from 0.65439\n",
      "453071/453071 [==============================] - 25s 54us/sample - loss: 0.5925 - accuracy: 0.6703 - val_loss: 0.6048 - val_accuracy: 0.6619\n",
      "Epoch 12/15\n",
      "453024/453071 [============================>.] - ETA: 0s - loss: 0.5918 - accuracy: 0.6708\n",
      "Epoch 00012: accuracy did not improve from 0.65439\n",
      "453071/453071 [==============================] - 25s 54us/sample - loss: 0.5918 - accuracy: 0.6709 - val_loss: 0.6052 - val_accuracy: 0.6618\n",
      "Epoch 13/15\n",
      "452864/453071 [============================>.] - ETA: 0s - loss: 0.5911 - accuracy: 0.6714\n",
      "Epoch 00013: accuracy did not improve from 0.65439\n",
      "453071/453071 [==============================] - 25s 54us/sample - loss: 0.5911 - accuracy: 0.6714 - val_loss: 0.6059 - val_accuracy: 0.6615\n",
      "Epoch 14/15\n",
      "452064/453071 [============================>.] - ETA: 0s - loss: 0.5904 - accuracy: 0.6723\n",
      "Epoch 00014: accuracy did not improve from 0.65439\n",
      "453071/453071 [==============================] - 25s 54us/sample - loss: 0.5905 - accuracy: 0.6723 - val_loss: 0.6058 - val_accuracy: 0.6620\n",
      "Epoch 15/15\n",
      "452768/453071 [============================>.] - ETA: 0s - loss: 0.5898 - accuracy: 0.6724\n",
      "Epoch 00015: accuracy did not improve from 0.65439\n",
      "453071/453071 [==============================] - 25s 55us/sample - loss: 0.5898 - accuracy: 0.6724 - val_loss: 0.6054 - val_accuracy: 0.6630\n",
      "Train on 453071 samples, validate on 50342 samples\n",
      "Epoch 1/15\n",
      "452128/453071 [============================>.] - ETA: 0s - loss: 0.5864 - accuracy: 0.6752\n",
      "Epoch 00001: accuracy did not improve from 0.65439\n",
      "453071/453071 [==============================] - 25s 54us/sample - loss: 0.5864 - accuracy: 0.6752 - val_loss: 0.6074 - val_accuracy: 0.6603\n",
      "Epoch 2/15\n",
      "452352/453071 [============================>.] - ETA: 0s - loss: 0.5854 - accuracy: 0.6762\n",
      "Epoch 00002: accuracy did not improve from 0.65439\n",
      "453071/453071 [==============================] - 24s 53us/sample - loss: 0.5854 - accuracy: 0.6762 - val_loss: 0.6080 - val_accuracy: 0.6610\n",
      "Epoch 3/15\n",
      "452608/453071 [============================>.] - ETA: 0s - loss: 0.5849 - accuracy: 0.6760\n",
      "Epoch 00003: accuracy did not improve from 0.65439\n",
      "453071/453071 [==============================] - 24s 54us/sample - loss: 0.5849 - accuracy: 0.6759 - val_loss: 0.6086 - val_accuracy: 0.6602\n",
      "Train on 453071 samples, validate on 50342 samples\n",
      "Epoch 1/15\n",
      "453056/453071 [============================>.] - ETA: 0s - loss: 0.5828 - accuracy: 0.6778\n",
      "Epoch 00001: accuracy did not improve from 0.65439\n",
      "453071/453071 [==============================] - 25s 55us/sample - loss: 0.5828 - accuracy: 0.6778 - val_loss: 0.6105 - val_accuracy: 0.6600\n",
      "Epoch 2/15\n",
      "452672/453071 [============================>.] - ETA: 0s - loss: 0.5823 - accuracy: 0.6780\n",
      "Epoch 00002: accuracy did not improve from 0.65439\n",
      "453071/453071 [==============================] - 24s 54us/sample - loss: 0.5822 - accuracy: 0.6781 - val_loss: 0.6107 - val_accuracy: 0.6606\n",
      "Epoch 3/15\n",
      "452896/453071 [============================>.] - ETA: 0s - loss: 0.5819 - accuracy: 0.6780\n",
      "Epoch 00003: accuracy did not improve from 0.65439\n",
      "453071/453071 [==============================] - 24s 54us/sample - loss: 0.5819 - accuracy: 0.6780 - val_loss: 0.6111 - val_accuracy: 0.6595\n",
      "Model: \"sequential_3\"\n",
      "_________________________________________________________________\n",
      "Layer (type)                 Output Shape              Param #   \n",
      "=================================================================\n",
      "dense_9 (Dense)              (None, 103)               10712     \n",
      "_________________________________________________________________\n",
      "dense_10 (Dense)             (None, 20)                2080      \n",
      "_________________________________________________________________\n",
      "dense_11 (Dense)             (None, 1)                 21        \n",
      "=================================================================\n",
      "Total params: 12,813\n",
      "Trainable params: 12,813\n",
      "Non-trainable params: 0\n",
      "_________________________________________________________________\n",
      "Train on 453071 samples, validate on 50342 samples\n",
      "Epoch 1/15\n",
      "452512/453071 [============================>.] - ETA: 0s - loss: 0.6140 - accuracy: 0.6535\n",
      "Epoch 00001: accuracy improved from inf to 0.65348, saving model to model.h5\n",
      "453071/453071 [==============================] - 24s 53us/sample - loss: 0.6140 - accuracy: 0.6535 - val_loss: 0.6063 - val_accuracy: 0.6613\n",
      "Epoch 2/15\n",
      "452640/453071 [============================>.] - ETA: 0s - loss: 0.6045 - accuracy: 0.6621\n",
      "Epoch 00002: accuracy did not improve from 0.65348\n",
      "453071/453071 [==============================] - 24s 52us/sample - loss: 0.6045 - accuracy: 0.6620 - val_loss: 0.6030 - val_accuracy: 0.6643\n",
      "Epoch 3/15\n",
      "452448/453071 [============================>.] - ETA: 0s - loss: 0.6020 - accuracy: 0.6639\n",
      "Epoch 00003: accuracy did not improve from 0.65348\n",
      "453071/453071 [==============================] - 24s 52us/sample - loss: 0.6019 - accuracy: 0.6640 - val_loss: 0.6026 - val_accuracy: 0.6641\n",
      "Epoch 4/15\n"
     ]
    },
    {
     "name": "stdout",
     "output_type": "stream",
     "text": [
      "452928/453071 [============================>.] - ETA: 0s - loss: 0.6002 - accuracy: 0.6650\n",
      "Epoch 00004: accuracy did not improve from 0.65348\n",
      "453071/453071 [==============================] - 24s 52us/sample - loss: 0.6002 - accuracy: 0.6650 - val_loss: 0.6029 - val_accuracy: 0.6640\n",
      "Epoch 5/15\n",
      "452608/453071 [============================>.] - ETA: 0s - loss: 0.5987 - accuracy: 0.6662\n",
      "Epoch 00005: accuracy did not improve from 0.65348\n",
      "453071/453071 [==============================] - 24s 52us/sample - loss: 0.5986 - accuracy: 0.6663 - val_loss: 0.6021 - val_accuracy: 0.6643\n",
      "Epoch 6/15\n",
      "453024/453071 [============================>.] - ETA: 0s - loss: 0.5974 - accuracy: 0.6674\n",
      "Epoch 00006: accuracy did not improve from 0.65348\n",
      "453071/453071 [==============================] - 24s 53us/sample - loss: 0.5974 - accuracy: 0.6674 - val_loss: 0.6025 - val_accuracy: 0.6623\n",
      "Epoch 7/15\n",
      "452704/453071 [============================>.] - ETA: 0s - loss: 0.5960 - accuracy: 0.6681\n",
      "Epoch 00007: accuracy did not improve from 0.65348\n",
      "453071/453071 [==============================] - 24s 52us/sample - loss: 0.5960 - accuracy: 0.6681 - val_loss: 0.6053 - val_accuracy: 0.6631\n",
      "Epoch 8/15\n",
      "452608/453071 [============================>.] - ETA: 0s - loss: 0.5951 - accuracy: 0.6684\n",
      "Epoch 00008: accuracy did not improve from 0.65348\n",
      "453071/453071 [==============================] - 24s 53us/sample - loss: 0.5951 - accuracy: 0.6684 - val_loss: 0.6025 - val_accuracy: 0.6640\n",
      "Epoch 9/15\n",
      "452160/453071 [============================>.] - ETA: 0s - loss: 0.5942 - accuracy: 0.6694\n",
      "Epoch 00009: accuracy did not improve from 0.65348\n",
      "453071/453071 [==============================] - 24s 52us/sample - loss: 0.5942 - accuracy: 0.6694 - val_loss: 0.6020 - val_accuracy: 0.6651\n",
      "Epoch 10/15\n",
      "452896/453071 [============================>.] - ETA: 0s - loss: 0.5932 - accuracy: 0.6700\n",
      "Epoch 00010: accuracy did not improve from 0.65348\n",
      "453071/453071 [==============================] - 24s 52us/sample - loss: 0.5932 - accuracy: 0.6701 - val_loss: 0.6035 - val_accuracy: 0.6634\n",
      "Epoch 11/15\n",
      "453056/453071 [============================>.] - ETA: 0s - loss: 0.5924 - accuracy: 0.6705\n",
      "Epoch 00011: accuracy did not improve from 0.65348\n",
      "453071/453071 [==============================] - 24s 52us/sample - loss: 0.5925 - accuracy: 0.6705 - val_loss: 0.6044 - val_accuracy: 0.6633\n",
      "Epoch 12/15\n",
      "452352/453071 [============================>.] - ETA: 0s - loss: 0.5915 - accuracy: 0.6717\n",
      "Epoch 00012: accuracy did not improve from 0.65348\n",
      "453071/453071 [==============================] - 24s 52us/sample - loss: 0.5915 - accuracy: 0.6717 - val_loss: 0.6044 - val_accuracy: 0.6632\n",
      "Epoch 13/15\n",
      "452672/453071 [============================>.] - ETA: 0s - loss: 0.5908 - accuracy: 0.6722 ETA: 0s - loss: 0.5908 - accuracy: \n",
      "Epoch 00013: accuracy did not improve from 0.65348\n",
      "453071/453071 [==============================] - 24s 52us/sample - loss: 0.5908 - accuracy: 0.6722 - val_loss: 0.6044 - val_accuracy: 0.6643\n",
      "Epoch 14/15\n",
      "452224/453071 [============================>.] - ETA: 0s - loss: 0.5903 - accuracy: 0.6723\n",
      "Epoch 00014: accuracy did not improve from 0.65348\n",
      "453071/453071 [==============================] - 24s 52us/sample - loss: 0.5902 - accuracy: 0.6724 - val_loss: 0.6054 - val_accuracy: 0.6643\n",
      "Epoch 15/15\n",
      "452544/453071 [============================>.] - ETA: 0s - loss: 0.5895 - accuracy: 0.6731\n",
      "Epoch 00015: accuracy did not improve from 0.65348\n",
      "453071/453071 [==============================] - 24s 52us/sample - loss: 0.5894 - accuracy: 0.6731 - val_loss: 0.6060 - val_accuracy: 0.6645\n",
      "Train on 453071 samples, validate on 50342 samples\n",
      "Epoch 1/15\n",
      "452480/453071 [============================>.] - ETA: 0s - loss: 0.5859 - accuracy: 0.6754\n",
      "Epoch 00001: accuracy did not improve from 0.65348\n",
      "453071/453071 [==============================] - 24s 54us/sample - loss: 0.5859 - accuracy: 0.6754 - val_loss: 0.6091 - val_accuracy: 0.6629\n",
      "Epoch 2/15\n",
      "452992/453071 [============================>.] - ETA: 0s - loss: 0.5849 - accuracy: 0.6764\n",
      "Epoch 00002: accuracy did not improve from 0.65348\n",
      "453071/453071 [==============================] - 24s 53us/sample - loss: 0.5849 - accuracy: 0.6764 - val_loss: 0.6084 - val_accuracy: 0.6632\n",
      "Epoch 3/15\n",
      "452640/453071 [============================>.] - ETA: 0s - loss: 0.5844 - accuracy: 0.6765\n",
      "Epoch 00003: accuracy did not improve from 0.65348\n",
      "453071/453071 [==============================] - 24s 54us/sample - loss: 0.5844 - accuracy: 0.6765 - val_loss: 0.6087 - val_accuracy: 0.6613\n",
      "Epoch 4/15\n",
      "452416/453071 [============================>.] - ETA: 0s - loss: 0.5839 - accuracy: 0.6770\n",
      "Epoch 00004: accuracy did not improve from 0.65348\n",
      "453071/453071 [==============================] - 24s 52us/sample - loss: 0.5839 - accuracy: 0.6770 - val_loss: 0.6092 - val_accuracy: 0.6621\n",
      "Epoch 5/15\n",
      "452992/453071 [============================>.] - ETA: 0s - loss: 0.5835 - accuracy: 0.6771\n",
      "Epoch 00005: accuracy did not improve from 0.65348\n",
      "453071/453071 [==============================] - 24s 53us/sample - loss: 0.5835 - accuracy: 0.6771 - val_loss: 0.6101 - val_accuracy: 0.6615\n",
      "Epoch 6/15\n",
      "452608/453071 [============================>.] - ETA: 0s - loss: 0.5831 - accuracy: 0.6771\n",
      "Epoch 00006: accuracy did not improve from 0.65348\n",
      "453071/453071 [==============================] - 24s 53us/sample - loss: 0.5831 - accuracy: 0.6771 - val_loss: 0.6116 - val_accuracy: 0.6621\n",
      "Epoch 7/15\n",
      "452384/453071 [============================>.] - ETA: 0s - loss: 0.5827 - accuracy: 0.6777\n",
      "Epoch 00007: accuracy did not improve from 0.65348\n",
      "453071/453071 [==============================] - 24s 53us/sample - loss: 0.5827 - accuracy: 0.6776 - val_loss: 0.6108 - val_accuracy: 0.6609\n",
      "Epoch 8/15\n",
      "452160/453071 [============================>.] - ETA: 0s - loss: 0.5823 - accuracy: 0.6778\n",
      "Epoch 00008: accuracy did not improve from 0.65348\n",
      "453071/453071 [==============================] - 24s 53us/sample - loss: 0.5824 - accuracy: 0.6778 - val_loss: 0.6103 - val_accuracy: 0.6624\n",
      "Epoch 9/15\n",
      "452672/453071 [============================>.] - ETA: 0s - loss: 0.5821 - accuracy: 0.6778\n",
      "Epoch 00009: accuracy did not improve from 0.65348\n",
      "453071/453071 [==============================] - 25s 55us/sample - loss: 0.5821 - accuracy: 0.6778 - val_loss: 0.6110 - val_accuracy: 0.6621\n",
      "Epoch 10/15\n",
      "452288/453071 [============================>.] - ETA: 0s - loss: 0.5818 - accuracy: 0.6782\n",
      "Epoch 00010: accuracy did not improve from 0.65348\n",
      "453071/453071 [==============================] - 24s 54us/sample - loss: 0.5818 - accuracy: 0.6782 - val_loss: 0.6130 - val_accuracy: 0.6617\n",
      "Epoch 11/15\n",
      "452992/453071 [============================>.] - ETA: 0s - loss: 0.5816 - accuracy: 0.6784\n",
      "Epoch 00011: accuracy did not improve from 0.65348\n",
      "453071/453071 [==============================] - 25s 55us/sample - loss: 0.5816 - accuracy: 0.6784 - val_loss: 0.6108 - val_accuracy: 0.6626\n",
      "Epoch 12/15\n",
      "452896/453071 [============================>.] - ETA: 0s - loss: 0.5813 - accuracy: 0.6787\n",
      "Epoch 00012: accuracy did not improve from 0.65348\n",
      "453071/453071 [==============================] - 25s 55us/sample - loss: 0.5813 - accuracy: 0.6787 - val_loss: 0.6123 - val_accuracy: 0.6610\n",
      "Epoch 13/15\n",
      "452512/453071 [============================>.] - ETA: 0s - loss: 0.5811 - accuracy: 0.6785\n",
      "Epoch 00013: accuracy did not improve from 0.65348\n",
      "453071/453071 [==============================] - 25s 55us/sample - loss: 0.5811 - accuracy: 0.6785 - val_loss: 0.6120 - val_accuracy: 0.6623\n",
      "Train on 453071 samples, validate on 50342 samples\n",
      "Epoch 1/15\n",
      "452896/453071 [============================>.] - ETA: 0s - loss: 0.5787 - accuracy: 0.6804\n",
      "Epoch 00001: accuracy did not improve from 0.65348\n",
      "453071/453071 [==============================] - 25s 55us/sample - loss: 0.5787 - accuracy: 0.6804 - val_loss: 0.6146 - val_accuracy: 0.6610\n",
      "Epoch 2/15\n",
      "453024/453071 [============================>.] - ETA: 0s - loss: 0.5783 - accuracy: 0.6808\n",
      "Epoch 00002: accuracy did not improve from 0.65348\n",
      "453071/453071 [==============================] - 25s 55us/sample - loss: 0.5783 - accuracy: 0.6807 - val_loss: 0.6153 - val_accuracy: 0.6616\n",
      "Epoch 3/15\n",
      "452992/453071 [============================>.] - ETA: 0s - loss: 0.5781 - accuracy: 0.6809\n",
      "Epoch 00003: accuracy did not improve from 0.65348\n",
      "453071/453071 [==============================] - 24s 54us/sample - loss: 0.5781 - accuracy: 0.6809 - val_loss: 0.6157 - val_accuracy: 0.6617\n"
     ]
    },
    {
     "name": "stdout",
     "output_type": "stream",
     "text": [
      "Epoch 4/15\n",
      "452480/453071 [============================>.] - ETA: 0s - loss: 0.5779 - accuracy: 0.6809\n",
      "Epoch 00004: accuracy did not improve from 0.65348\n",
      "453071/453071 [==============================] - 26s 56us/sample - loss: 0.5779 - accuracy: 0.6809 - val_loss: 0.6161 - val_accuracy: 0.6615\n",
      "Epoch 5/15\n",
      "452928/453071 [============================>.] - ETA: 0s - loss: 0.5777 - accuracy: 0.6810\n",
      "Epoch 00005: accuracy did not improve from 0.65348\n",
      "453071/453071 [==============================] - 25s 56us/sample - loss: 0.5777 - accuracy: 0.6810 - val_loss: 0.6162 - val_accuracy: 0.6614\n",
      "Epoch 6/15\n",
      "453056/453071 [============================>.] - ETA: 0s - loss: 0.5775 - accuracy: 0.6812\n",
      "Epoch 00006: accuracy did not improve from 0.65348\n",
      "453071/453071 [==============================] - 25s 54us/sample - loss: 0.5775 - accuracy: 0.6812 - val_loss: 0.6164 - val_accuracy: 0.6608\n",
      "Epoch 7/15\n",
      "452672/453071 [============================>.] - ETA: 0s - loss: 0.5774 - accuracy: 0.6813\n",
      "Epoch 00007: accuracy did not improve from 0.65348\n",
      "453071/453071 [==============================] - 25s 54us/sample - loss: 0.5774 - accuracy: 0.6813 - val_loss: 0.6171 - val_accuracy: 0.6613\n",
      "Epoch 8/15\n",
      "452736/453071 [============================>.] - ETA: 0s - loss: 0.5772 - accuracy: 0.6813\n",
      "Epoch 00008: accuracy did not improve from 0.65348\n",
      "453071/453071 [==============================] - 25s 55us/sample - loss: 0.5772 - accuracy: 0.6813 - val_loss: 0.6167 - val_accuracy: 0.6600\n",
      "Epoch 9/15\n",
      "452128/453071 [============================>.] - ETA: 0s - loss: 0.5770 - accuracy: 0.6812\n",
      "Epoch 00009: accuracy did not improve from 0.65348\n",
      "453071/453071 [==============================] - 25s 55us/sample - loss: 0.5771 - accuracy: 0.6812 - val_loss: 0.6178 - val_accuracy: 0.6602\n",
      "Model: \"sequential_4\"\n",
      "_________________________________________________________________\n",
      "Layer (type)                 Output Shape              Param #   \n",
      "=================================================================\n",
      "dense_12 (Dense)             (None, 103)               10712     \n",
      "_________________________________________________________________\n",
      "dense_13 (Dense)             (None, 20)                2080      \n",
      "_________________________________________________________________\n",
      "dense_14 (Dense)             (None, 1)                 21        \n",
      "=================================================================\n",
      "Total params: 12,813\n",
      "Trainable params: 12,813\n",
      "Non-trainable params: 0\n",
      "_________________________________________________________________\n",
      "Train on 453071 samples, validate on 50342 samples\n",
      "Epoch 1/15\n",
      "452448/453071 [============================>.] - ETA: 0s - loss: 0.6121 - accuracy: 0.6552\n",
      "Epoch 00001: accuracy improved from inf to 0.65518, saving model to model.h5\n",
      "453071/453071 [==============================] - 25s 56us/sample - loss: 0.6122 - accuracy: 0.6552 - val_loss: 0.6077 - val_accuracy: 0.6581\n",
      "Epoch 2/15\n",
      "453056/453071 [============================>.] - ETA: 0s - loss: 0.6037 - accuracy: 0.6627\n",
      "Epoch 00002: accuracy did not improve from 0.65518\n",
      "453071/453071 [==============================] - 25s 54us/sample - loss: 0.6037 - accuracy: 0.6627 - val_loss: 0.6063 - val_accuracy: 0.6599\n",
      "Epoch 3/15\n",
      "452448/453071 [============================>.] - ETA: 0s - loss: 0.6012 - accuracy: 0.6651\n",
      "Epoch 00003: accuracy did not improve from 0.65518\n",
      "453071/453071 [==============================] - 25s 55us/sample - loss: 0.6012 - accuracy: 0.6651 - val_loss: 0.6070 - val_accuracy: 0.6602\n",
      "Epoch 4/15\n",
      "452864/453071 [============================>.] - ETA: 0s - loss: 0.5994 - accuracy: 0.6658\n",
      "Epoch 00004: accuracy did not improve from 0.65518\n",
      "453071/453071 [==============================] - 25s 54us/sample - loss: 0.5994 - accuracy: 0.6659 - val_loss: 0.6074 - val_accuracy: 0.6602\n",
      "Epoch 5/15\n",
      "452256/453071 [============================>.] - ETA: 0s - loss: 0.5978 - accuracy: 0.6673\n",
      "Epoch 00005: accuracy did not improve from 0.65518\n",
      "453071/453071 [==============================] - 25s 55us/sample - loss: 0.5978 - accuracy: 0.6673 - val_loss: 0.6058 - val_accuracy: 0.6616\n",
      "Epoch 6/15\n",
      "453056/453071 [============================>.] - ETA: 0s - loss: 0.5966 - accuracy: 0.6681\n",
      "Epoch 00006: accuracy did not improve from 0.65518\n",
      "453071/453071 [==============================] - 25s 55us/sample - loss: 0.5966 - accuracy: 0.6681 - val_loss: 0.6057 - val_accuracy: 0.6605\n",
      "Epoch 7/15\n",
      "452768/453071 [============================>.] - ETA: 0s - loss: 0.5953 - accuracy: 0.6689\n",
      "Epoch 00007: accuracy did not improve from 0.65518\n",
      "453071/453071 [==============================] - 25s 55us/sample - loss: 0.5953 - accuracy: 0.6689 - val_loss: 0.6063 - val_accuracy: 0.6610\n",
      "Epoch 8/15\n",
      "452768/453071 [============================>.] - ETA: 0s - loss: 0.5943 - accuracy: 0.6698\n",
      "Epoch 00008: accuracy did not improve from 0.65518\n",
      "453071/453071 [==============================] - 25s 55us/sample - loss: 0.5943 - accuracy: 0.6698 - val_loss: 0.6059 - val_accuracy: 0.6614\n",
      "Epoch 9/15\n",
      "452160/453071 [============================>.] - ETA: 0s - loss: 0.5933 - accuracy: 0.6705\n",
      "Epoch 00009: accuracy did not improve from 0.65518\n",
      "453071/453071 [==============================] - 25s 54us/sample - loss: 0.5934 - accuracy: 0.6705 - val_loss: 0.6069 - val_accuracy: 0.6609\n",
      "Epoch 10/15\n",
      "452672/453071 [============================>.] - ETA: 0s - loss: 0.5924 - accuracy: 0.6710\n",
      "Epoch 00010: accuracy did not improve from 0.65518\n",
      "453071/453071 [==============================] - 25s 55us/sample - loss: 0.5924 - accuracy: 0.6710 - val_loss: 0.6080 - val_accuracy: 0.6605\n",
      "Epoch 11/15\n",
      "452768/453071 [============================>.] - ETA: 0s - loss: 0.5917 - accuracy: 0.6717\n",
      "Epoch 00011: accuracy did not improve from 0.65518\n",
      "453071/453071 [==============================] - 25s 54us/sample - loss: 0.5917 - accuracy: 0.6717 - val_loss: 0.6071 - val_accuracy: 0.6596\n",
      "Epoch 12/15\n",
      "452192/453071 [============================>.] - ETA: 0s - loss: 0.5909 - accuracy: 0.6717\n",
      "Epoch 00012: accuracy did not improve from 0.65518\n",
      "453071/453071 [==============================] - 26s 57us/sample - loss: 0.5909 - accuracy: 0.6717 - val_loss: 0.6072 - val_accuracy: 0.6607\n",
      "Train on 453071 samples, validate on 50342 samples\n",
      "Epoch 1/15\n",
      "452416/453071 [============================>.] - ETA: 0s - loss: 0.5874 - accuracy: 0.6751\n",
      "Epoch 00001: accuracy did not improve from 0.65518\n",
      "453071/453071 [==============================] - 24s 54us/sample - loss: 0.5873 - accuracy: 0.6751 - val_loss: 0.6086 - val_accuracy: 0.6600\n",
      "Epoch 2/15\n",
      "453024/453071 [============================>.] - ETA: 0s - loss: 0.5863 - accuracy: 0.6755\n",
      "Epoch 00002: accuracy did not improve from 0.65518\n",
      "453071/453071 [==============================] - 24s 53us/sample - loss: 0.5863 - accuracy: 0.6755 - val_loss: 0.6095 - val_accuracy: 0.6601\n",
      "Epoch 3/15\n",
      "452896/453071 [============================>.] - ETA: 0s - loss: 0.5857 - accuracy: 0.6758\n",
      "Epoch 00003: accuracy did not improve from 0.65518\n",
      "453071/453071 [==============================] - 24s 53us/sample - loss: 0.5857 - accuracy: 0.6758 - val_loss: 0.6104 - val_accuracy: 0.6587\n",
      "Epoch 4/15\n",
      "452896/453071 [============================>.] - ETA: 0s - loss: 0.5852 - accuracy: 0.6762\n",
      "Epoch 00004: accuracy did not improve from 0.65518\n",
      "453071/453071 [==============================] - 24s 52us/sample - loss: 0.5852 - accuracy: 0.6762 - val_loss: 0.6108 - val_accuracy: 0.6588\n",
      "Epoch 5/15\n",
      "452640/453071 [============================>.] - ETA: 0s - loss: 0.5847 - accuracy: 0.6763\n",
      "Epoch 00005: accuracy did not improve from 0.65518\n",
      "453071/453071 [==============================] - 24s 53us/sample - loss: 0.5847 - accuracy: 0.6763 - val_loss: 0.6115 - val_accuracy: 0.6576\n",
      "Epoch 6/15\n",
      "452960/453071 [============================>.] - ETA: 0s - loss: 0.5843 - accuracy: 0.6770\n",
      "Epoch 00006: accuracy did not improve from 0.65518\n",
      "453071/453071 [==============================] - 24s 53us/sample - loss: 0.5843 - accuracy: 0.6770 - val_loss: 0.6114 - val_accuracy: 0.6573\n",
      "Epoch 7/15\n",
      "452512/453071 [============================>.] - ETA: 0s - loss: 0.5839 - accuracy: 0.6771 ETA: 0s - loss: 0.5840 - accuracy: 0.67\n",
      "Epoch 00007: accuracy did not improve from 0.65518\n",
      "453071/453071 [==============================] - 24s 54us/sample - loss: 0.5839 - accuracy: 0.6771 - val_loss: 0.6123 - val_accuracy: 0.6587\n"
     ]
    },
    {
     "name": "stdout",
     "output_type": "stream",
     "text": [
      "Epoch 8/15\n",
      "452384/453071 [============================>.] - ETA: 0s - loss: 0.5836 - accuracy: 0.6774\n",
      "Epoch 00008: accuracy did not improve from 0.65518\n",
      "453071/453071 [==============================] - 24s 53us/sample - loss: 0.5836 - accuracy: 0.6774 - val_loss: 0.6113 - val_accuracy: 0.6571\n",
      "Epoch 9/15\n",
      "452160/453071 [============================>.] - ETA: 0s - loss: 0.5832 - accuracy: 0.6778\n",
      "Epoch 00009: accuracy did not improve from 0.65518\n",
      "453071/453071 [==============================] - 24s 53us/sample - loss: 0.5833 - accuracy: 0.6777 - val_loss: 0.6120 - val_accuracy: 0.6580\n",
      "Epoch 10/15\n",
      "452320/453071 [============================>.] - ETA: 0s - loss: 0.5830 - accuracy: 0.6778\n",
      "Epoch 00010: accuracy did not improve from 0.65518\n",
      "453071/453071 [==============================] - 24s 54us/sample - loss: 0.5830 - accuracy: 0.6778 - val_loss: 0.6145 - val_accuracy: 0.6575\n",
      "Epoch 11/15\n",
      "452736/453071 [============================>.] - ETA: 0s - loss: 0.5826 - accuracy: 0.6783\n",
      "Epoch 00011: accuracy did not improve from 0.65518\n",
      "453071/453071 [==============================] - 24s 53us/sample - loss: 0.5827 - accuracy: 0.6782 - val_loss: 0.6138 - val_accuracy: 0.6566\n",
      "Epoch 12/15\n",
      "452800/453071 [============================>.] - ETA: 0s - loss: 0.5824 - accuracy: 0.6785\n",
      "Epoch 00012: accuracy did not improve from 0.65518\n",
      "453071/453071 [==============================] - 24s 52us/sample - loss: 0.5824 - accuracy: 0.6785 - val_loss: 0.6142 - val_accuracy: 0.6566\n",
      "Epoch 13/15\n",
      "453056/453071 [============================>.] - ETA: 0s - loss: 0.5820 - accuracy: 0.6786\n",
      "Epoch 00013: accuracy did not improve from 0.65518\n",
      "453071/453071 [==============================] - 24s 53us/sample - loss: 0.5820 - accuracy: 0.6786 - val_loss: 0.6139 - val_accuracy: 0.6564\n",
      "Epoch 14/15\n",
      "452352/453071 [============================>.] - ETA: 0s - loss: 0.5818 - accuracy: 0.6787\n",
      "Epoch 00014: accuracy did not improve from 0.65518\n",
      "453071/453071 [==============================] - 24s 54us/sample - loss: 0.5818 - accuracy: 0.6788 - val_loss: 0.6145 - val_accuracy: 0.6577\n",
      "Epoch 15/15\n",
      "452896/453071 [============================>.] - ETA: 0s - loss: 0.5815 - accuracy: 0.6792\n",
      "Epoch 00015: accuracy did not improve from 0.65518\n",
      "453071/453071 [==============================] - 24s 53us/sample - loss: 0.5815 - accuracy: 0.6792 - val_loss: 0.6150 - val_accuracy: 0.6573\n",
      "Train on 453071 samples, validate on 50342 samples\n",
      "Epoch 1/15\n",
      "452192/453071 [============================>.] - ETA: 0s - loss: 0.5793 - accuracy: 0.6810\n",
      "Epoch 00001: accuracy did not improve from 0.65518\n",
      "453071/453071 [==============================] - 26s 57us/sample - loss: 0.5792 - accuracy: 0.6810 - val_loss: 0.6161 - val_accuracy: 0.6567\n",
      "Epoch 2/15\n",
      "452896/453071 [============================>.] - ETA: 0s - loss: 0.5787 - accuracy: 0.6813\n",
      "Epoch 00002: accuracy did not improve from 0.65518\n",
      "453071/453071 [==============================] - 25s 54us/sample - loss: 0.5787 - accuracy: 0.6814 - val_loss: 0.6162 - val_accuracy: 0.6569\n",
      "Epoch 3/15\n",
      "452416/453071 [============================>.] - ETA: 0s - loss: 0.5785 - accuracy: 0.6814\n",
      "Epoch 00003: accuracy did not improve from 0.65518\n",
      "453071/453071 [==============================] - 24s 54us/sample - loss: 0.5785 - accuracy: 0.6814 - val_loss: 0.6164 - val_accuracy: 0.6566\n",
      "Epoch 4/15\n",
      "452672/453071 [============================>.] - ETA: 0s - loss: 0.5783 - accuracy: 0.6814\n",
      "Epoch 00004: accuracy did not improve from 0.65518\n",
      "453071/453071 [==============================] - 25s 55us/sample - loss: 0.5783 - accuracy: 0.6813 - val_loss: 0.6174 - val_accuracy: 0.6563\n",
      "Model: \"sequential_5\"\n",
      "_________________________________________________________________\n",
      "Layer (type)                 Output Shape              Param #   \n",
      "=================================================================\n",
      "dense_15 (Dense)             (None, 103)               10712     \n",
      "_________________________________________________________________\n",
      "dense_16 (Dense)             (None, 20)                2080      \n",
      "_________________________________________________________________\n",
      "dense_17 (Dense)             (None, 1)                 21        \n",
      "=================================================================\n",
      "Total params: 12,813\n",
      "Trainable params: 12,813\n",
      "Non-trainable params: 0\n",
      "_________________________________________________________________\n",
      "Train on 453071 samples, validate on 50342 samples\n",
      "Epoch 1/15\n",
      "452704/453071 [============================>.] - ETA: 0s - loss: 0.6129 - accuracy: 0.6544\n",
      "Epoch 00001: accuracy improved from inf to 0.65435, saving model to model.h5\n",
      "453071/453071 [==============================] - 25s 54us/sample - loss: 0.6130 - accuracy: 0.6543 - val_loss: 0.6109 - val_accuracy: 0.6585\n",
      "Epoch 2/15\n",
      "452960/453071 [============================>.] - ETA: 0s - loss: 0.6041 - accuracy: 0.6622\n",
      "Epoch 00002: accuracy did not improve from 0.65435\n",
      "453071/453071 [==============================] - 24s 53us/sample - loss: 0.6041 - accuracy: 0.6622 - val_loss: 0.6059 - val_accuracy: 0.6613\n",
      "Epoch 3/15\n",
      "452416/453071 [============================>.] - ETA: 0s - loss: 0.6016 - accuracy: 0.6638\n",
      "Epoch 00003: accuracy did not improve from 0.65435\n",
      "453071/453071 [==============================] - 24s 53us/sample - loss: 0.6015 - accuracy: 0.6639 - val_loss: 0.6057 - val_accuracy: 0.6600\n",
      "Epoch 4/15\n",
      "452128/453071 [============================>.] - ETA: 0s - loss: 0.5998 - accuracy: 0.6652\n",
      "Epoch 00004: accuracy did not improve from 0.65435\n",
      "453071/453071 [==============================] - 24s 53us/sample - loss: 0.5998 - accuracy: 0.6652 - val_loss: 0.6056 - val_accuracy: 0.6619\n",
      "Epoch 5/15\n",
      "453024/453071 [============================>.] - ETA: 0s - loss: 0.5984 - accuracy: 0.6659\n",
      "Epoch 00005: accuracy did not improve from 0.65435\n",
      "453071/453071 [==============================] - 24s 53us/sample - loss: 0.5984 - accuracy: 0.6659 - val_loss: 0.6044 - val_accuracy: 0.6612\n",
      "Epoch 6/15\n",
      "452928/453071 [============================>.] - ETA: 0s - loss: 0.5971 - accuracy: 0.6673\n",
      "Epoch 00006: accuracy did not improve from 0.65435\n",
      "453071/453071 [==============================] - 24s 53us/sample - loss: 0.5971 - accuracy: 0.6673 - val_loss: 0.6046 - val_accuracy: 0.6620\n",
      "Epoch 7/15\n",
      "452320/453071 [============================>.] - ETA: 0s - loss: 0.5960 - accuracy: 0.6678\n",
      "Epoch 00007: accuracy did not improve from 0.65435\n",
      "453071/453071 [==============================] - 24s 53us/sample - loss: 0.5960 - accuracy: 0.6678 - val_loss: 0.6065 - val_accuracy: 0.6604\n",
      "Epoch 8/15\n",
      "452448/453071 [============================>.] - ETA: 0s - loss: 0.5949 - accuracy: 0.6689\n",
      "Epoch 00008: accuracy did not improve from 0.65435\n",
      "453071/453071 [==============================] - 24s 53us/sample - loss: 0.5950 - accuracy: 0.6688 - val_loss: 0.6053 - val_accuracy: 0.6607\n",
      "Epoch 9/15\n",
      "452608/453071 [============================>.] - ETA: 0s - loss: 0.5939 - accuracy: 0.6694\n",
      "Epoch 00009: accuracy did not improve from 0.65435\n",
      "453071/453071 [==============================] - 24s 53us/sample - loss: 0.5939 - accuracy: 0.6694 - val_loss: 0.6051 - val_accuracy: 0.6617\n",
      "Epoch 10/15\n",
      "452544/453071 [============================>.] - ETA: 0s - loss: 0.5932 - accuracy: 0.6695\n",
      "Epoch 00010: accuracy did not improve from 0.65435\n",
      "453071/453071 [==============================] - 24s 53us/sample - loss: 0.5931 - accuracy: 0.6694 - val_loss: 0.6068 - val_accuracy: 0.6607\n",
      "Epoch 11/15\n",
      "452512/453071 [============================>.] - ETA: 0s - loss: 0.5923 - accuracy: 0.6704\n",
      "Epoch 00011: accuracy did not improve from 0.65435\n",
      "453071/453071 [==============================] - 24s 53us/sample - loss: 0.5923 - accuracy: 0.6704 - val_loss: 0.6054 - val_accuracy: 0.6626\n",
      "Epoch 12/15\n",
      "452256/453071 [============================>.] - ETA: 0s - loss: 0.5916 - accuracy: 0.6716\n",
      "Epoch 00012: accuracy did not improve from 0.65435\n",
      "453071/453071 [==============================] - 24s 53us/sample - loss: 0.5916 - accuracy: 0.6716 - val_loss: 0.6090 - val_accuracy: 0.6605\n",
      "Epoch 13/15\n",
      "452736/453071 [============================>.] - ETA: 0s - loss: 0.5909 - accuracy: 0.6717\n",
      "Epoch 00013: accuracy did not improve from 0.65435\n",
      "453071/453071 [==============================] - 24s 53us/sample - loss: 0.5909 - accuracy: 0.6717 - val_loss: 0.6085 - val_accuracy: 0.6617\n"
     ]
    },
    {
     "name": "stdout",
     "output_type": "stream",
     "text": [
      "Epoch 14/15\n",
      "452320/453071 [============================>.] - ETA: 0s - loss: 0.5904 - accuracy: 0.6719\n",
      "Epoch 00014: accuracy did not improve from 0.65435\n",
      "453071/453071 [==============================] - 24s 54us/sample - loss: 0.5904 - accuracy: 0.6719 - val_loss: 0.6079 - val_accuracy: 0.6615\n",
      "Epoch 15/15\n",
      "452544/453071 [============================>.] - ETA: 0s - loss: 0.5899 - accuracy: 0.6726\n",
      "Epoch 00015: accuracy did not improve from 0.65435\n",
      "453071/453071 [==============================] - 33s 72us/sample - loss: 0.5899 - accuracy: 0.6726 - val_loss: 0.6103 - val_accuracy: 0.6606\n",
      "Train on 453071 samples, validate on 50342 samples\n",
      "Epoch 1/15\n",
      "453056/453071 [============================>.] - ETA: 0s - loss: 0.5864 - accuracy: 0.6746\n",
      "Epoch 00001: accuracy did not improve from 0.65435\n",
      "453071/453071 [==============================] - 27s 60us/sample - loss: 0.5864 - accuracy: 0.6746 - val_loss: 0.6088 - val_accuracy: 0.6619\n",
      "Epoch 2/15\n",
      "452768/453071 [============================>.] - ETA: 0s - loss: 0.5855 - accuracy: 0.6757\n",
      "Epoch 00002: accuracy did not improve from 0.65435\n",
      "453071/453071 [==============================] - 25s 55us/sample - loss: 0.5855 - accuracy: 0.6757 - val_loss: 0.6095 - val_accuracy: 0.6607\n",
      "Epoch 3/15\n",
      "452736/453071 [============================>.] - ETA: 0s - loss: 0.5850 - accuracy: 0.67 - ETA: 0s - loss: 0.5850 - accuracy: 0.6760\n",
      "Epoch 00003: accuracy did not improve from 0.65435\n",
      "453071/453071 [==============================] - 27s 59us/sample - loss: 0.5850 - accuracy: 0.6759 - val_loss: 0.6101 - val_accuracy: 0.6602\n",
      "Epoch 4/15\n",
      "452864/453071 [============================>.] - ETA: 0s - loss: 0.5845 - accuracy: 0.6759\n",
      "Epoch 00004: accuracy did not improve from 0.65435\n",
      "453071/453071 [==============================] - 25s 55us/sample - loss: 0.5845 - accuracy: 0.6759 - val_loss: 0.6100 - val_accuracy: 0.6604\n",
      "Epoch 5/15\n",
      "452576/453071 [============================>.] - ETA: 0s - loss: 0.5841 - accuracy: 0.6766 ETA: 0s - loss: 0.5841 - accuracy: 0.67\n",
      "Epoch 00005: accuracy did not improve from 0.65435\n",
      "453071/453071 [==============================] - 32s 71us/sample - loss: 0.5841 - accuracy: 0.6766 - val_loss: 0.6107 - val_accuracy: 0.6610\n",
      "Epoch 6/15\n",
      "452096/453071 [============================>.] - ETA: 0s - loss: 0.5838 - accuracy: 0.6765\n",
      "Epoch 00006: accuracy did not improve from 0.65435\n",
      "453071/453071 [==============================] - 25s 55us/sample - loss: 0.5838 - accuracy: 0.6765 - val_loss: 0.6119 - val_accuracy: 0.6617\n",
      "Train on 453071 samples, validate on 50342 samples\n",
      "Epoch 1/15\n",
      "452832/453071 [============================>.] - ETA: 0s - loss: 0.5816 - accuracy: 0.6781\n",
      "Epoch 00001: accuracy did not improve from 0.65435\n",
      "453071/453071 [==============================] - 27s 60us/sample - loss: 0.5816 - accuracy: 0.6781 - val_loss: 0.6128 - val_accuracy: 0.6609\n",
      "Epoch 2/15\n",
      "452928/453071 [============================>.] - ETA: 0s - loss: 0.5812 - accuracy: 0.6782\n",
      "Epoch 00002: accuracy did not improve from 0.65435\n",
      "453071/453071 [==============================] - 26s 58us/sample - loss: 0.5812 - accuracy: 0.6782 - val_loss: 0.6139 - val_accuracy: 0.6610\n",
      "Epoch 3/15\n",
      "452512/453071 [============================>.] - ETA: 6s - loss: 0.5809 - accuracy: 0.6781   ETA: 2:25 - loss: 0.\n",
      "Epoch 00003: accuracy did not improve from 0.65435\n",
      "453071/453071 [==============================] - 5054s 11ms/sample - loss: 0.5809 - accuracy: 0.6781 - val_loss: 0.6142 - val_accuracy: 0.6599\n",
      "Model: \"sequential_6\"\n",
      "_________________________________________________________________\n",
      "Layer (type)                 Output Shape              Param #   \n",
      "=================================================================\n",
      "dense_18 (Dense)             (None, 103)               10712     \n",
      "_________________________________________________________________\n",
      "dense_19 (Dense)             (None, 20)                2080      \n",
      "_________________________________________________________________\n",
      "dense_20 (Dense)             (None, 1)                 21        \n",
      "=================================================================\n",
      "Total params: 12,813\n",
      "Trainable params: 12,813\n",
      "Non-trainable params: 0\n",
      "_________________________________________________________________\n",
      "Train on 453071 samples, validate on 50342 samples\n",
      "Epoch 1/15\n",
      "452416/453071 [============================>.] - ETA: 0s - loss: 0.6137 - accuracy: 0.6537\n",
      "Epoch 00001: accuracy improved from inf to 0.65371, saving model to model.h5\n",
      "453071/453071 [==============================] - 29s 64us/sample - loss: 0.6137 - accuracy: 0.6537 - val_loss: 0.6060 - val_accuracy: 0.6593\n",
      "Epoch 2/15\n",
      "452672/453071 [============================>.] - ETA: 0s - loss: 0.6043 - accuracy: 0.6618\n",
      "Epoch 00002: accuracy did not improve from 0.65371\n",
      "453071/453071 [==============================] - 28s 63us/sample - loss: 0.6043 - accuracy: 0.6618 - val_loss: 0.6057 - val_accuracy: 0.6614\n",
      "Epoch 3/15\n",
      "452992/453071 [============================>.] - ETA: 0s - loss: 0.6016 - accuracy: 0.6644\n",
      "Epoch 00003: accuracy did not improve from 0.65371\n",
      "453071/453071 [==============================] - 29s 63us/sample - loss: 0.6016 - accuracy: 0.6644 - val_loss: 0.6026 - val_accuracy: 0.6625\n",
      "Epoch 4/15\n",
      "452320/453071 [============================>.] - ETA: 0s - loss: 0.5997 - accuracy: 0.6655\n",
      "Epoch 00004: accuracy did not improve from 0.65371\n",
      "453071/453071 [==============================] - 28s 63us/sample - loss: 0.5997 - accuracy: 0.6656 - val_loss: 0.6046 - val_accuracy: 0.6627\n",
      "Epoch 5/15\n",
      "453024/453071 [============================>.] - ETA: 0s - loss: 0.5983 - accuracy: 0.6666\n",
      "Epoch 00005: accuracy did not improve from 0.65371\n",
      "453071/453071 [==============================] - 28s 63us/sample - loss: 0.5983 - accuracy: 0.6666 - val_loss: 0.6025 - val_accuracy: 0.6631\n",
      "Epoch 6/15\n",
      "452416/453071 [============================>.] - ETA: 0s - loss: 0.5969 - accuracy: 0.6673\n",
      "Epoch 00006: accuracy did not improve from 0.65371\n",
      "453071/453071 [==============================] - 28s 63us/sample - loss: 0.5969 - accuracy: 0.6673 - val_loss: 0.6020 - val_accuracy: 0.6644\n",
      "Epoch 7/15\n",
      "452544/453071 [============================>.] - ETA: 0s - loss: 0.5958 - accuracy: 0.6684\n",
      "Epoch 00007: accuracy did not improve from 0.65371\n",
      "453071/453071 [==============================] - 29s 65us/sample - loss: 0.5958 - accuracy: 0.6684 - val_loss: 0.6043 - val_accuracy: 0.6633\n",
      "Epoch 8/15\n",
      "452672/453071 [============================>.] - ETA: 0s - loss: 0.5949 - accuracy: 0.6693 ETA: \n",
      "Epoch 00008: accuracy did not improve from 0.65371\n",
      "453071/453071 [==============================] - 29s 65us/sample - loss: 0.5949 - accuracy: 0.6693 - val_loss: 0.6023 - val_accuracy: 0.6634\n",
      "Epoch 9/15\n",
      "452800/453071 [============================>.] - ETA: 0s - loss: 0.5938 - accuracy: 0.6699\n",
      "Epoch 00009: accuracy did not improve from 0.65371\n",
      "453071/453071 [==============================] - 29s 64us/sample - loss: 0.5938 - accuracy: 0.6699 - val_loss: 0.6042 - val_accuracy: 0.6626\n",
      "Epoch 10/15\n",
      "452448/453071 [============================>.] - ETA: 0s - loss: 0.5930 - accuracy: 0.6703\n",
      "Epoch 00010: accuracy did not improve from 0.65371\n",
      "453071/453071 [==============================] - 30s 67us/sample - loss: 0.5930 - accuracy: 0.6703 - val_loss: 0.6042 - val_accuracy: 0.6629\n",
      "Epoch 11/15\n",
      "452480/453071 [============================>.] - ETA: 0s - loss: 0.5920 - accuracy: 0.6710\n",
      "Epoch 00011: accuracy did not improve from 0.65371\n",
      "453071/453071 [==============================] - 29s 64us/sample - loss: 0.5920 - accuracy: 0.6710 - val_loss: 0.6049 - val_accuracy: 0.6646\n",
      "Epoch 12/15\n",
      "452768/453071 [============================>.] - ETA: 0s - loss: 0.5914 - accuracy: 0.6713\n",
      "Epoch 00012: accuracy did not improve from 0.65371\n",
      "453071/453071 [==============================] - 29s 63us/sample - loss: 0.5914 - accuracy: 0.6713 - val_loss: 0.6040 - val_accuracy: 0.6642\n",
      "Epoch 13/15\n",
      "452352/453071 [============================>.] - ETA: 0s - loss: 0.5906 - accuracy: 0.6724\n",
      "Epoch 00013: accuracy did not improve from 0.65371\n",
      "453071/453071 [==============================] - 29s 63us/sample - loss: 0.5906 - accuracy: 0.6724 - val_loss: 0.6060 - val_accuracy: 0.6642\n",
      "Epoch 14/15\n"
     ]
    },
    {
     "name": "stdout",
     "output_type": "stream",
     "text": [
      "452704/453071 [============================>.] - ETA: 0s - loss: 0.5900 - accuracy: 0.6727\n",
      "Epoch 00014: accuracy did not improve from 0.65371\n",
      "453071/453071 [==============================] - 27s 60us/sample - loss: 0.5900 - accuracy: 0.6726 - val_loss: 0.6052 - val_accuracy: 0.6621\n",
      "Epoch 15/15\n",
      "452800/453071 [============================>.] - ETA: 0s - loss: 0.5893 - accuracy: 0.6732\n",
      "Epoch 00015: accuracy did not improve from 0.65371\n",
      "453071/453071 [==============================] - 27s 60us/sample - loss: 0.5893 - accuracy: 0.6732 - val_loss: 0.6047 - val_accuracy: 0.6616\n",
      "Train on 453071 samples, validate on 50342 samples\n",
      "Epoch 1/15\n",
      "452704/453071 [============================>.] - ETA: 0s - loss: 0.5858 - accuracy: 0.6754\n",
      "Epoch 00001: accuracy did not improve from 0.65371\n",
      "453071/453071 [==============================] - 27s 60us/sample - loss: 0.5858 - accuracy: 0.6753 - val_loss: 0.6073 - val_accuracy: 0.6625\n",
      "Epoch 2/15\n",
      "452960/453071 [============================>.] - ETA: 0s - loss: 0.5848 - accuracy: 0.6760\n",
      "Epoch 00002: accuracy did not improve from 0.65371\n",
      "453071/453071 [==============================] - 27s 60us/sample - loss: 0.5848 - accuracy: 0.6760 - val_loss: 0.6074 - val_accuracy: 0.6632\n",
      "Epoch 3/15\n",
      "453056/453071 [============================>.] - ETA: 0s - loss: 0.5843 - accuracy: 0.6763\n",
      "Epoch 00003: accuracy did not improve from 0.65371\n",
      "453071/453071 [==============================] - 27s 59us/sample - loss: 0.5843 - accuracy: 0.6763 - val_loss: 0.6081 - val_accuracy: 0.6623\n",
      "Epoch 4/15\n",
      "452480/453071 [============================>.] - ETA: 0s - loss: 0.5838 - accuracy: 0.6768\n",
      "Epoch 00004: accuracy did not improve from 0.65371\n",
      "453071/453071 [==============================] - 27s 59us/sample - loss: 0.5838 - accuracy: 0.6768 - val_loss: 0.6089 - val_accuracy: 0.6627\n",
      "Epoch 5/15\n",
      "452512/453071 [============================>.] - ETA: 0s - loss: 0.5834 - accuracy: 0.67 - ETA: 0s - loss: 0.5834 - accuracy: 0.6770\n",
      "Epoch 00005: accuracy did not improve from 0.65371\n",
      "453071/453071 [==============================] - 27s 60us/sample - loss: 0.5834 - accuracy: 0.6770 - val_loss: 0.6097 - val_accuracy: 0.6620\n",
      "Epoch 6/15\n",
      "452768/453071 [============================>.] - ETA: 0s - loss: 0.5830 - accuracy: 0.6770\n",
      "Epoch 00006: accuracy did not improve from 0.65371\n",
      "453071/453071 [==============================] - 27s 59us/sample - loss: 0.5830 - accuracy: 0.6770 - val_loss: 0.6103 - val_accuracy: 0.6611\n",
      "Train on 453071 samples, validate on 50342 samples\n",
      "Epoch 1/15\n",
      "452512/453071 [============================>.] - ETA: 0s - loss: 0.5807 - accuracy: 0.6787\n",
      "Epoch 00001: accuracy did not improve from 0.65371\n",
      "453071/453071 [==============================] - 28s 62us/sample - loss: 0.5807 - accuracy: 0.6786 - val_loss: 0.6119 - val_accuracy: 0.6610\n",
      "Epoch 2/15\n",
      "452288/453071 [============================>.] - ETA: 0s - loss: 0.5802 - accuracy: 0.6791\n",
      "Epoch 00002: accuracy did not improve from 0.65371\n",
      "453071/453071 [==============================] - 27s 60us/sample - loss: 0.5802 - accuracy: 0.6791 - val_loss: 0.6114 - val_accuracy: 0.6614\n",
      "Epoch 3/15\n",
      "452672/453071 [============================>.] - ETA: 0s - loss: 0.5800 - accuracy: 0.6795\n",
      "Epoch 00003: accuracy did not improve from 0.65371\n",
      "453071/453071 [==============================] - 27s 60us/sample - loss: 0.5800 - accuracy: 0.6795 - val_loss: 0.6134 - val_accuracy: 0.6608\n",
      "Epoch 4/15\n",
      "452704/453071 [============================>.] - ETA: 0s - loss: 0.5798 - accuracy: 0.6796\n",
      "Epoch 00004: accuracy did not improve from 0.65371\n",
      "453071/453071 [==============================] - 28s 61us/sample - loss: 0.5797 - accuracy: 0.6797 - val_loss: 0.6130 - val_accuracy: 0.6617\n",
      "Epoch 5/15\n",
      "452512/453071 [============================>.] - ETA: 0s - loss: 0.5795 - accuracy: 0.6796\n",
      "Epoch 00005: accuracy did not improve from 0.65371\n",
      "453071/453071 [==============================] - 27s 60us/sample - loss: 0.5795 - accuracy: 0.6796 - val_loss: 0.6131 - val_accuracy: 0.6611\n",
      "Model: \"sequential_7\"\n",
      "_________________________________________________________________\n",
      "Layer (type)                 Output Shape              Param #   \n",
      "=================================================================\n",
      "dense_21 (Dense)             (None, 103)               10712     \n",
      "_________________________________________________________________\n",
      "dense_22 (Dense)             (None, 20)                2080      \n",
      "_________________________________________________________________\n",
      "dense_23 (Dense)             (None, 1)                 21        \n",
      "=================================================================\n",
      "Total params: 12,813\n",
      "Trainable params: 12,813\n",
      "Non-trainable params: 0\n",
      "_________________________________________________________________\n",
      "Train on 453071 samples, validate on 50342 samples\n",
      "Epoch 1/15\n",
      "452288/453071 [============================>.] - ETA: 0s - loss: 0.6128 - accuracy: 0.6547\n",
      "Epoch 00001: accuracy improved from inf to 0.65475, saving model to model.h5\n",
      "453071/453071 [==============================] - 28s 61us/sample - loss: 0.6127 - accuracy: 0.6547 - val_loss: 0.6068 - val_accuracy: 0.6600\n",
      "Epoch 2/15\n",
      "452416/453071 [============================>.] - ETA: 0s - loss: 0.6040 - accuracy: 0.6630\n",
      "Epoch 00002: accuracy did not improve from 0.65475\n",
      "453071/453071 [==============================] - 27s 60us/sample - loss: 0.6041 - accuracy: 0.6630 - val_loss: 0.6049 - val_accuracy: 0.6625\n",
      "Epoch 3/15\n",
      "453056/453071 [============================>.] - ETA: 0s - loss: 0.6016 - accuracy: 0.6647\n",
      "Epoch 00003: accuracy did not improve from 0.65475\n",
      "453071/453071 [==============================] - 27s 60us/sample - loss: 0.6016 - accuracy: 0.6647 - val_loss: 0.6027 - val_accuracy: 0.6637\n",
      "Epoch 4/15\n",
      "453024/453071 [============================>.] - ETA: 0s - loss: 0.5998 - accuracy: 0.6656 ETA: 0s - loss: 0.5998 - accuracy\n",
      "Epoch 00004: accuracy did not improve from 0.65475\n",
      "453071/453071 [==============================] - 27s 60us/sample - loss: 0.5998 - accuracy: 0.6656 - val_loss: 0.6035 - val_accuracy: 0.6642\n",
      "Epoch 5/15\n",
      "453056/453071 [============================>.] - ETA: 0s - loss: 0.5982 - accuracy: 0.6668\n",
      "Epoch 00005: accuracy did not improve from 0.65475\n",
      "453071/453071 [==============================] - 27s 60us/sample - loss: 0.5982 - accuracy: 0.6668 - val_loss: 0.6031 - val_accuracy: 0.6636\n",
      "Epoch 6/15\n",
      "452192/453071 [============================>.] - ETA: 0s - loss: 0.5970 - accuracy: 0.6673\n",
      "Epoch 00006: accuracy did not improve from 0.65475\n",
      "453071/453071 [==============================] - 27s 60us/sample - loss: 0.5970 - accuracy: 0.6672 - val_loss: 0.6028 - val_accuracy: 0.6636\n",
      "Epoch 7/15\n",
      "452960/453071 [============================>.] - ETA: 0s - loss: 0.5957 - accuracy: 0.6685\n",
      "Epoch 00007: accuracy did not improve from 0.65475\n",
      "453071/453071 [==============================] - 27s 60us/sample - loss: 0.5957 - accuracy: 0.6685 - val_loss: 0.6043 - val_accuracy: 0.6633\n",
      "Epoch 8/15\n",
      "452192/453071 [============================>.] - ETA: 0s - loss: 0.5947 - accuracy: 0.6689\n",
      "Epoch 00008: accuracy did not improve from 0.65475\n",
      "453071/453071 [==============================] - 27s 61us/sample - loss: 0.5946 - accuracy: 0.6689 - val_loss: 0.6034 - val_accuracy: 0.6651\n",
      "Epoch 9/15\n",
      "452608/453071 [============================>.] - ETA: 0s - loss: 0.5937 - accuracy: 0.6703\n",
      "Epoch 00009: accuracy did not improve from 0.65475\n",
      "453071/453071 [==============================] - 27s 60us/sample - loss: 0.5937 - accuracy: 0.6703 - val_loss: 0.6033 - val_accuracy: 0.6628\n",
      "Epoch 10/15\n",
      "452416/453071 [============================>.] - ETA: 0s - loss: 0.5928 - accuracy: 0.6705\n",
      "Epoch 00010: accuracy did not improve from 0.65475\n",
      "453071/453071 [==============================] - 28s 62us/sample - loss: 0.5928 - accuracy: 0.6706 - val_loss: 0.6034 - val_accuracy: 0.6629\n",
      "Epoch 11/15\n",
      "452512/453071 [============================>.] - ETA: 0s - loss: 0.5921 - accuracy: 0.6712 ETA: 1s - loss: 0.5920 - accuracy\n",
      "Epoch 00011: accuracy did not improve from 0.65475\n",
      "453071/453071 [==============================] - 27s 60us/sample - loss: 0.5921 - accuracy: 0.6712 - val_loss: 0.6036 - val_accuracy: 0.6631\n",
      "Epoch 12/15\n"
     ]
    },
    {
     "name": "stdout",
     "output_type": "stream",
     "text": [
      "452800/453071 [============================>.] - ETA: 0s - loss: 0.5913 - accuracy: 0.6719\n",
      "Epoch 00012: accuracy did not improve from 0.65475\n",
      "453071/453071 [==============================] - 27s 60us/sample - loss: 0.5913 - accuracy: 0.6719 - val_loss: 0.6059 - val_accuracy: 0.6623\n",
      "Epoch 13/15\n",
      "452736/453071 [============================>.] - ETA: 0s - loss: 0.5906 - accuracy: 0.6725\n",
      "Epoch 00013: accuracy did not improve from 0.65475\n",
      "453071/453071 [==============================] - 27s 60us/sample - loss: 0.5906 - accuracy: 0.6725 - val_loss: 0.6047 - val_accuracy: 0.6620\n",
      "Epoch 14/15\n",
      "452768/453071 [============================>.] - ETA: 0s - loss: 0.5899 - accuracy: 0.6724\n",
      "Epoch 00014: accuracy did not improve from 0.65475\n",
      "453071/453071 [==============================] - 27s 60us/sample - loss: 0.5899 - accuracy: 0.6724 - val_loss: 0.6051 - val_accuracy: 0.6628\n",
      "Train on 453071 samples, validate on 50342 samples\n",
      "Epoch 1/15\n",
      "452704/453071 [============================>.] - ETA: 0s - loss: 0.5864 - accuracy: 0.6747\n",
      "Epoch 00001: accuracy did not improve from 0.65475\n",
      "453071/453071 [==============================] - 28s 61us/sample - loss: 0.5864 - accuracy: 0.6747 - val_loss: 0.6065 - val_accuracy: 0.6629\n",
      "Epoch 2/15\n",
      "452768/453071 [============================>.] - ETA: 0s - loss: 0.5854 - accuracy: 0.6754\n",
      "Epoch 00002: accuracy did not improve from 0.65475\n",
      "453071/453071 [==============================] - 28s 62us/sample - loss: 0.5854 - accuracy: 0.6754 - val_loss: 0.6070 - val_accuracy: 0.6621\n",
      "Epoch 3/15\n",
      "452192/453071 [============================>.] - ETA: 0s - loss: 0.5848 - accuracy: 0.6759\n",
      "Epoch 00003: accuracy did not improve from 0.65475\n",
      "453071/453071 [==============================] - 28s 61us/sample - loss: 0.5848 - accuracy: 0.6758 - val_loss: 0.6083 - val_accuracy: 0.6618\n",
      "Epoch 4/15\n",
      "452064/453071 [============================>.] - ETA: 0s - loss: 0.5843 - accuracy: 0.6760\n",
      "Epoch 00004: accuracy did not improve from 0.65475\n",
      "453071/453071 [==============================] - 24s 53us/sample - loss: 0.5843 - accuracy: 0.6759 - val_loss: 0.6081 - val_accuracy: 0.6613\n",
      "Epoch 5/15\n",
      "452864/453071 [============================>.] - ETA: 0s - loss: 0.5839 - accuracy: 0.6763\n",
      "Epoch 00005: accuracy did not improve from 0.65475\n",
      "453071/453071 [==============================] - 24s 53us/sample - loss: 0.5839 - accuracy: 0.6763 - val_loss: 0.6092 - val_accuracy: 0.6616\n",
      "Epoch 6/15\n",
      "452256/453071 [============================>.] - ETA: 0s - loss: 0.5836 - accuracy: 0.6766\n",
      "Epoch 00006: accuracy did not improve from 0.65475\n",
      "453071/453071 [==============================] - 24s 53us/sample - loss: 0.5836 - accuracy: 0.6766 - val_loss: 0.6088 - val_accuracy: 0.6619\n",
      "Epoch 7/15\n",
      "452896/453071 [============================>.] - ETA: 0s - loss: 0.5832 - accuracy: 0.6766 ETA\n",
      "Epoch 00007: accuracy did not improve from 0.65475\n",
      "453071/453071 [==============================] - 24s 53us/sample - loss: 0.5832 - accuracy: 0.6766 - val_loss: 0.6098 - val_accuracy: 0.6597\n",
      "Train on 453071 samples, validate on 50342 samples\n",
      "Epoch 1/15\n",
      "452864/453071 [============================>.] - ETA: 0s - loss: 0.5809 - accuracy: 0.6785\n",
      "Epoch 00001: accuracy did not improve from 0.65475\n",
      "453071/453071 [==============================] - 25s 54us/sample - loss: 0.5809 - accuracy: 0.6785 - val_loss: 0.6118 - val_accuracy: 0.6599\n",
      "Epoch 2/15\n",
      "452480/453071 [============================>.] - ETA: 0s - loss: 0.5804 - accuracy: 0.6784\n",
      "Epoch 00002: accuracy did not improve from 0.65475\n",
      "453071/453071 [==============================] - 24s 53us/sample - loss: 0.5804 - accuracy: 0.6784 - val_loss: 0.6108 - val_accuracy: 0.6603\n",
      "Model: \"sequential_8\"\n",
      "_________________________________________________________________\n",
      "Layer (type)                 Output Shape              Param #   \n",
      "=================================================================\n",
      "dense_24 (Dense)             (None, 103)               10712     \n",
      "_________________________________________________________________\n",
      "dense_25 (Dense)             (None, 20)                2080      \n",
      "_________________________________________________________________\n",
      "dense_26 (Dense)             (None, 1)                 21        \n",
      "=================================================================\n",
      "Total params: 12,813\n",
      "Trainable params: 12,813\n",
      "Non-trainable params: 0\n",
      "_________________________________________________________________\n",
      "Train on 453072 samples, validate on 50342 samples\n",
      "Epoch 1/15\n",
      "452864/453072 [============================>.] - ETA: 0s - loss: 0.6125 - accuracy: 0.6547\n",
      "Epoch 00001: accuracy improved from inf to 0.65474, saving model to model.h5\n",
      "453072/453072 [==============================] - 25s 55us/sample - loss: 0.6125 - accuracy: 0.6547 - val_loss: 0.6060 - val_accuracy: 0.6619\n",
      "Epoch 2/15\n",
      "452384/453072 [============================>.] - ETA: 0s - loss: 0.6042 - accuracy: 0.6627\n",
      "Epoch 00002: accuracy did not improve from 0.65474\n",
      "453072/453072 [==============================] - 25s 55us/sample - loss: 0.6042 - accuracy: 0.6627 - val_loss: 0.6040 - val_accuracy: 0.6625\n",
      "Epoch 3/15\n",
      "452960/453072 [============================>.] - ETA: 0s - loss: 0.6017 - accuracy: 0.6637\n",
      "Epoch 00003: accuracy did not improve from 0.65474\n",
      "453072/453072 [==============================] - 25s 55us/sample - loss: 0.6017 - accuracy: 0.6637 - val_loss: 0.6039 - val_accuracy: 0.6624\n",
      "Epoch 4/15\n",
      "452320/453072 [============================>.] - ETA: 0s - loss: 0.6000 - accuracy: 0.6654\n",
      "Epoch 00004: accuracy did not improve from 0.65474\n",
      "453072/453072 [==============================] - 25s 55us/sample - loss: 0.6000 - accuracy: 0.6653 - val_loss: 0.6044 - val_accuracy: 0.6636\n",
      "Epoch 5/15\n",
      "453056/453072 [============================>.] - ETA: 0s - loss: 0.5985 - accuracy: 0.6666\n",
      "Epoch 00005: accuracy did not improve from 0.65474\n",
      "453072/453072 [==============================] - 25s 55us/sample - loss: 0.5985 - accuracy: 0.6666 - val_loss: 0.6034 - val_accuracy: 0.6626\n",
      "Epoch 6/15\n",
      "452928/453072 [============================>.] - ETA: 0s - loss: 0.5974 - accuracy: 0.6676\n",
      "Epoch 00006: accuracy did not improve from 0.65474\n",
      "453072/453072 [==============================] - 25s 55us/sample - loss: 0.5974 - accuracy: 0.6676 - val_loss: 0.6046 - val_accuracy: 0.6612\n",
      "Epoch 7/15\n",
      "452896/453072 [============================>.] - ETA: 0s - loss: 0.5963 - accuracy: 0.6683\n",
      "Epoch 00007: accuracy did not improve from 0.65474\n",
      "453072/453072 [==============================] - 25s 55us/sample - loss: 0.5963 - accuracy: 0.6683 - val_loss: 0.6041 - val_accuracy: 0.6639\n",
      "Epoch 8/15\n",
      "452992/453072 [============================>.] - ETA: 0s - loss: 0.5952 - accuracy: 0.6688\n",
      "Epoch 00008: accuracy did not improve from 0.65474\n",
      "453072/453072 [==============================] - 25s 55us/sample - loss: 0.5952 - accuracy: 0.6688 - val_loss: 0.6045 - val_accuracy: 0.6627\n",
      "Epoch 9/15\n",
      "452768/453072 [============================>.] - ETA: 0s - loss: 0.5944 - accuracy: 0.6701\n",
      "Epoch 00009: accuracy did not improve from 0.65474\n",
      "453072/453072 [==============================] - 26s 57us/sample - loss: 0.5944 - accuracy: 0.6701 - val_loss: 0.6042 - val_accuracy: 0.6633\n",
      "Epoch 10/15\n",
      "452544/453072 [============================>.] - ETA: 0s - loss: 0.5935 - accuracy: 0.6704\n",
      "Epoch 00010: accuracy did not improve from 0.65474\n",
      "453072/453072 [==============================] - 39s 87us/sample - loss: 0.5935 - accuracy: 0.6704 - val_loss: 0.6048 - val_accuracy: 0.6624\n",
      "Epoch 11/15\n",
      "452704/453072 [============================>.] - ETA: 0s - loss: 0.5927 - accuracy: 0.6704\n",
      "Epoch 00011: accuracy did not improve from 0.65474\n",
      "453072/453072 [==============================] - 31s 67us/sample - loss: 0.5928 - accuracy: 0.6704 - val_loss: 0.6053 - val_accuracy: 0.6621\n",
      "Train on 453072 samples, validate on 50342 samples\n",
      "Epoch 1/15\n",
      "452832/453072 [============================>.] - ETA: 0s - loss: 0.5894 - accuracy: 0.6728\n",
      "Epoch 00001: accuracy did not improve from 0.65474\n",
      "453072/453072 [==============================] - 26s 57us/sample - loss: 0.5893 - accuracy: 0.6728 - val_loss: 0.6049 - val_accuracy: 0.6640\n",
      "Epoch 2/15\n",
      "452576/453072 [============================>.] - ETA: 0s - loss: 0.5882 - accuracy: 0.6738\n",
      "Epoch 00002: accuracy did not improve from 0.65474\n",
      "453072/453072 [==============================] - 28s 63us/sample - loss: 0.5882 - accuracy: 0.6738 - val_loss: 0.6053 - val_accuracy: 0.6621\n"
     ]
    },
    {
     "name": "stdout",
     "output_type": "stream",
     "text": [
      "Epoch 3/15\n",
      "452992/453072 [============================>.] - ETA: 0s - loss: 0.5876 - accuracy: 0.6744\n",
      "Epoch 00003: accuracy did not improve from 0.65474\n",
      "453072/453072 [==============================] - 29s 65us/sample - loss: 0.5876 - accuracy: 0.6744 - val_loss: 0.6070 - val_accuracy: 0.6623\n",
      "Epoch 4/15\n",
      "452480/453072 [============================>.] - ETA: 0s - loss: 0.5870 - accuracy: 0.6747\n",
      "Epoch 00004: accuracy did not improve from 0.65474\n",
      "453072/453072 [==============================] - 29s 65us/sample - loss: 0.5870 - accuracy: 0.6747 - val_loss: 0.6065 - val_accuracy: 0.6622\n",
      "Epoch 5/15\n",
      "453056/453072 [============================>.] - ETA: 0s - loss: 0.5865 - accuracy: 0.6749\n",
      "Epoch 00005: accuracy did not improve from 0.65474\n",
      "453072/453072 [==============================] - 32s 70us/sample - loss: 0.5865 - accuracy: 0.6749 - val_loss: 0.6073 - val_accuracy: 0.6620\n",
      "Epoch 6/15\n",
      "452928/453072 [============================>.] - ETA: 0s - loss: 0.5860 - accuracy: 0.6754\n",
      "Epoch 00006: accuracy did not improve from 0.65474\n",
      "453072/453072 [==============================] - 28s 62us/sample - loss: 0.5860 - accuracy: 0.6753 - val_loss: 0.6091 - val_accuracy: 0.6623\n",
      "Epoch 7/15\n",
      "452288/453072 [============================>.] - ETA: 0s - loss: 0.5857 - accuracy: 0.6756\n",
      "Epoch 00007: accuracy did not improve from 0.65474\n",
      "453072/453072 [==============================] - 30s 66us/sample - loss: 0.5857 - accuracy: 0.6756 - val_loss: 0.6091 - val_accuracy: 0.6615\n",
      "Epoch 8/15\n",
      "452288/453072 [============================>.] - ETA: 0s - loss: 0.5853 - accuracy: 0.6759\n",
      "Epoch 00008: accuracy did not improve from 0.65474\n",
      "453072/453072 [==============================] - 29s 65us/sample - loss: 0.5853 - accuracy: 0.6759 - val_loss: 0.6085 - val_accuracy: 0.6608\n",
      "Epoch 9/15\n",
      "452704/453072 [============================>.] - ETA: 0s - loss: 0.5848 - accuracy: 0.6762\n",
      "Epoch 00009: accuracy did not improve from 0.65474\n",
      "453072/453072 [==============================] - 29s 65us/sample - loss: 0.5848 - accuracy: 0.6762 - val_loss: 0.6092 - val_accuracy: 0.6612\n",
      "Epoch 10/15\n",
      "452608/453072 [============================>.] - ETA: 0s - loss: 0.5846 - accuracy: 0.6762\n",
      "Epoch 00010: accuracy did not improve from 0.65474\n",
      "453072/453072 [==============================] - 32s 71us/sample - loss: 0.5846 - accuracy: 0.6761 - val_loss: 0.6097 - val_accuracy: 0.6609\n",
      "Train on 453072 samples, validate on 50342 samples\n",
      "Epoch 1/15\n",
      "452992/453072 [============================>.] - ETA: 0s - loss: 0.5822 - accuracy: 0.6780\n",
      "Epoch 00001: accuracy did not improve from 0.65474\n",
      "453072/453072 [==============================] - 28s 63us/sample - loss: 0.5822 - accuracy: 0.6780 - val_loss: 0.6108 - val_accuracy: 0.6605\n",
      "Epoch 2/15\n",
      "452992/453072 [============================>.] - ETA: 0s - loss: 0.5816 - accuracy: 0.6785\n",
      "Epoch 00002: accuracy did not improve from 0.65474\n",
      "453072/453072 [==============================] - 28s 61us/sample - loss: 0.5816 - accuracy: 0.6785 - val_loss: 0.6110 - val_accuracy: 0.6614\n",
      "Epoch 3/15\n",
      "452448/453072 [============================>.] - ETA: 0s - loss: 0.5814 - accuracy: 0.6784\n",
      "Epoch 00003: accuracy did not improve from 0.65474\n",
      "453072/453072 [==============================] - 29s 65us/sample - loss: 0.5813 - accuracy: 0.6785 - val_loss: 0.6113 - val_accuracy: 0.6603\n",
      "Model: \"sequential_9\"\n",
      "_________________________________________________________________\n",
      "Layer (type)                 Output Shape              Param #   \n",
      "=================================================================\n",
      "dense_27 (Dense)             (None, 103)               10712     \n",
      "_________________________________________________________________\n",
      "dense_28 (Dense)             (None, 20)                2080      \n",
      "_________________________________________________________________\n",
      "dense_29 (Dense)             (None, 1)                 21        \n",
      "=================================================================\n",
      "Total params: 12,813\n",
      "Trainable params: 12,813\n",
      "Non-trainable params: 0\n",
      "_________________________________________________________________\n",
      "Train on 453072 samples, validate on 50342 samples\n",
      "Epoch 1/15\n",
      "452320/453072 [============================>.] - ETA: 0s - loss: 0.6140 - accuracy: 0.6528\n",
      "Epoch 00001: accuracy improved from inf to 0.65285, saving model to model.h5\n",
      "453072/453072 [==============================] - 28s 62us/sample - loss: 0.6140 - accuracy: 0.6528 - val_loss: 0.6056 - val_accuracy: 0.6596\n",
      "Epoch 2/15\n",
      "453056/453072 [============================>.] - ETA: 0s - loss: 0.6047 - accuracy: 0.6619\n",
      "Epoch 00002: accuracy did not improve from 0.65285\n",
      "453072/453072 [==============================] - 27s 59us/sample - loss: 0.6047 - accuracy: 0.6619 - val_loss: 0.6030 - val_accuracy: 0.6623\n",
      "Epoch 3/15\n",
      "452160/453072 [============================>.] - ETA: 0s - loss: 0.6020 - accuracy: 0.6642\n",
      "Epoch 00003: accuracy did not improve from 0.65285\n",
      "453072/453072 [==============================] - 29s 65us/sample - loss: 0.6020 - accuracy: 0.6642 - val_loss: 0.6015 - val_accuracy: 0.6630\n",
      "Epoch 4/15\n",
      "452672/453072 [============================>.] - ETA: 0s - loss: 0.6001 - accuracy: 0.6655\n",
      "Epoch 00004: accuracy did not improve from 0.65285\n",
      "453072/453072 [==============================] - 28s 62us/sample - loss: 0.6001 - accuracy: 0.6655 - val_loss: 0.6022 - val_accuracy: 0.6623\n",
      "Epoch 5/15\n",
      "452224/453072 [============================>.] - ETA: 0s - loss: 0.5985 - accuracy: 0.6665\n",
      "Epoch 00005: accuracy did not improve from 0.65285\n",
      "453072/453072 [==============================] - 26s 58us/sample - loss: 0.5986 - accuracy: 0.6664 - val_loss: 0.6021 - val_accuracy: 0.6627\n",
      "Epoch 6/15\n",
      "453056/453072 [============================>.] - ETA: 0s - loss: 0.5974 - accuracy: 0.6673\n",
      "Epoch 00006: accuracy did not improve from 0.65285\n",
      "453072/453072 [==============================] - 27s 60us/sample - loss: 0.5974 - accuracy: 0.6673 - val_loss: 0.6015 - val_accuracy: 0.6629\n",
      "Epoch 7/15\n",
      "452352/453072 [============================>.] - ETA: 0s - loss: 0.5962 - accuracy: 0.6679\n",
      "Epoch 00007: accuracy did not improve from 0.65285\n",
      "453072/453072 [==============================] - 30s 67us/sample - loss: 0.5962 - accuracy: 0.6680 - val_loss: 0.6046 - val_accuracy: 0.6622\n",
      "Epoch 8/15\n",
      "452512/453072 [============================>.] - ETA: 0s - loss: 0.5952 - accuracy: 0.6692\n",
      "Epoch 00008: accuracy did not improve from 0.65285\n",
      "453072/453072 [==============================] - 27s 59us/sample - loss: 0.5951 - accuracy: 0.6692 - val_loss: 0.6025 - val_accuracy: 0.6619\n",
      "Epoch 9/15\n",
      "452704/453072 [============================>.] - ETA: 0s - loss: 0.5942 - accuracy: 0.6693\n",
      "Epoch 00009: accuracy did not improve from 0.65285\n",
      "453072/453072 [==============================] - 28s 61us/sample - loss: 0.5942 - accuracy: 0.6693 - val_loss: 0.6027 - val_accuracy: 0.6620\n",
      "Epoch 10/15\n",
      "452864/453072 [============================>.] - ETA: 0s - loss: 0.5932 - accuracy: 0.6705\n",
      "Epoch 00010: accuracy did not improve from 0.65285\n",
      "453072/453072 [==============================] - 26s 57us/sample - loss: 0.5932 - accuracy: 0.6705 - val_loss: 0.6058 - val_accuracy: 0.6605\n",
      "Epoch 11/15\n",
      "452864/453072 [============================>.] - ETA: 0s - loss: 0.5925 - accuracy: 0.6712\n",
      "Epoch 00011: accuracy did not improve from 0.65285\n",
      "453072/453072 [==============================] - 28s 61us/sample - loss: 0.5925 - accuracy: 0.6712 - val_loss: 0.6039 - val_accuracy: 0.6625\n",
      "Epoch 12/15\n",
      "452224/453072 [============================>.] - ETA: 0s - loss: 0.5916 - accuracy: 0.6717\n",
      "Epoch 00012: accuracy did not improve from 0.65285\n",
      "453072/453072 [==============================] - 27s 59us/sample - loss: 0.5916 - accuracy: 0.6718 - val_loss: 0.6047 - val_accuracy: 0.6619\n",
      "Epoch 13/15\n",
      "452960/453072 [============================>.] - ETA: 0s - loss: 0.5910 - accuracy: 0.6717 ETA: 1s - los\n",
      "Epoch 00013: accuracy did not improve from 0.65285\n",
      "453072/453072 [==============================] - 26s 58us/sample - loss: 0.5910 - accuracy: 0.6717 - val_loss: 0.6038 - val_accuracy: 0.6623\n",
      "Train on 453072 samples, validate on 50342 samples\n",
      "Epoch 1/15\n"
     ]
    },
    {
     "name": "stdout",
     "output_type": "stream",
     "text": [
      "452736/453072 [============================>.] - ETA: 0s - loss: 0.5874 - accuracy: 0.6743\n",
      "Epoch 00001: accuracy did not improve from 0.65285\n",
      "453072/453072 [==============================] - 30s 66us/sample - loss: 0.5874 - accuracy: 0.6742 - val_loss: 0.6039 - val_accuracy: 0.6630\n",
      "Epoch 2/15\n",
      "452800/453072 [============================>.] - ETA: 0s - loss: 0.5863 - accuracy: 0.6754\n",
      "Epoch 00002: accuracy did not improve from 0.65285\n",
      "453072/453072 [==============================] - 28s 62us/sample - loss: 0.5863 - accuracy: 0.6754 - val_loss: 0.6063 - val_accuracy: 0.6627\n",
      "Epoch 3/15\n",
      "452832/453072 [============================>.] - ETA: 0s - loss: 0.5857 - accuracy: 0.6754\n",
      "Epoch 00003: accuracy did not improve from 0.65285\n",
      "453072/453072 [==============================] - 27s 59us/sample - loss: 0.5857 - accuracy: 0.6754 - val_loss: 0.6056 - val_accuracy: 0.6624\n",
      "Epoch 4/15\n",
      "452320/453072 [============================>.] - ETA: 0s - loss: 0.5853 - accuracy: 0.6756\n",
      "Epoch 00004: accuracy did not improve from 0.65285\n",
      "453072/453072 [==============================] - 27s 60us/sample - loss: 0.5853 - accuracy: 0.6755 - val_loss: 0.6067 - val_accuracy: 0.6627\n",
      "Epoch 5/15\n",
      "452992/453072 [============================>.] - ETA: 0s - loss: 0.5848 - accuracy: 0.6759\n",
      "Epoch 00005: accuracy did not improve from 0.65285\n",
      "453072/453072 [==============================] - 27s 59us/sample - loss: 0.5848 - accuracy: 0.6759 - val_loss: 0.6059 - val_accuracy: 0.6623\n",
      "Epoch 6/15\n",
      "452640/453072 [============================>.] - ETA: 0s - loss: 0.5845 - accuracy: 0.6762\n",
      "Epoch 00006: accuracy did not improve from 0.65285\n",
      "453072/453072 [==============================] - 28s 61us/sample - loss: 0.5845 - accuracy: 0.6763 - val_loss: 0.6081 - val_accuracy: 0.6617\n",
      "Epoch 7/15\n",
      "452736/453072 [============================>.] - ETA: 0s - loss: 0.5841 - accuracy: 0.6770\n",
      "Epoch 00007: accuracy did not improve from 0.65285\n",
      "453072/453072 [==============================] - 28s 61us/sample - loss: 0.5841 - accuracy: 0.6770 - val_loss: 0.6084 - val_accuracy: 0.6616\n",
      "Epoch 8/15\n",
      "452992/453072 [============================>.] - ETA: 0s - loss: 0.5838 - accuracy: 0.6766\n",
      "Epoch 00008: accuracy did not improve from 0.65285\n",
      "453072/453072 [==============================] - 25s 56us/sample - loss: 0.5838 - accuracy: 0.6766 - val_loss: 0.6081 - val_accuracy: 0.6615\n",
      "Train on 453072 samples, validate on 50342 samples\n",
      "Epoch 1/15\n",
      "452864/453072 [============================>.] - ETA: 0s - loss: 0.5815 - accuracy: 0.6784\n",
      "Epoch 00001: accuracy did not improve from 0.65285\n",
      "453072/453072 [==============================] - 26s 58us/sample - loss: 0.5815 - accuracy: 0.6784 - val_loss: 0.6095 - val_accuracy: 0.6615\n",
      "Epoch 2/15\n",
      "452672/453072 [============================>.] - ETA: 0s - loss: 0.5810 - accuracy: 0.6784\n",
      "Epoch 00002: accuracy did not improve from 0.65285\n",
      "453072/453072 [==============================] - 31s 68us/sample - loss: 0.5811 - accuracy: 0.6784 - val_loss: 0.6094 - val_accuracy: 0.6612\n",
      "Epoch 3/15\n",
      "452704/453072 [============================>.] - ETA: 0s - loss: 0.5808 - accuracy: 0.6786\n",
      "Epoch 00003: accuracy did not improve from 0.65285\n",
      "453072/453072 [==============================] - 27s 60us/sample - loss: 0.5808 - accuracy: 0.6787 - val_loss: 0.6100 - val_accuracy: 0.6613\n",
      "Epoch 4/15\n",
      "452896/453072 [============================>.] - ETA: 0s - loss: 0.5805 - accuracy: 0.6788\n",
      "Epoch 00004: accuracy did not improve from 0.65285\n",
      "453072/453072 [==============================] - 28s 61us/sample - loss: 0.5805 - accuracy: 0.6788 - val_loss: 0.6115 - val_accuracy: 0.6612\n",
      "Epoch 5/15\n",
      "452416/453072 [============================>.] - ETA: 0s - loss: 0.5803 - accuracy: 0.6789\n",
      "Epoch 00005: accuracy did not improve from 0.65285\n",
      "453072/453072 [==============================] - 27s 60us/sample - loss: 0.5803 - accuracy: 0.6789 - val_loss: 0.6107 - val_accuracy: 0.6615\n",
      "Epoch 6/15\n",
      "452896/453072 [============================>.] - ETA: 0s - loss: 0.5802 - accuracy: 0.6790\n",
      "Epoch 00006: accuracy did not improve from 0.65285\n",
      "453072/453072 [==============================] - 28s 62us/sample - loss: 0.5802 - accuracy: 0.6791 - val_loss: 0.6105 - val_accuracy: 0.6613\n",
      "Epoch 7/15\n",
      "452928/453072 [============================>.] - ETA: 0s - loss: 0.5800 - accuracy: 0.6793\n",
      "Epoch 00007: accuracy did not improve from 0.65285\n",
      "453072/453072 [==============================] - 27s 60us/sample - loss: 0.5800 - accuracy: 0.6793 - val_loss: 0.6123 - val_accuracy: 0.6607\n",
      "Epoch 8/15\n",
      "452192/453072 [============================>.] - ETA: 0s - loss: 0.5798 - accuracy: 0.6792\n",
      "Epoch 00008: accuracy did not improve from 0.65285\n",
      "453072/453072 [==============================] - 29s 65us/sample - loss: 0.5798 - accuracy: 0.6792 - val_loss: 0.6123 - val_accuracy: 0.6601\n",
      "[0.6611960311075356, 0.6618396352909627, 0.6609099848037902, 0.6584785912219541, 0.6553678376687226, 0.6625905068382945, 0.6582461786001609, 0.6609099848037902, 0.6611720956841992, 0.6606536274895413]\n"
     ]
    }
   ],
   "source": [
    "# Keep a list of all predictions (1s and 0s) for each of the 10 folds (predicitons for every row in the data set)\n",
    "predictions = []\n",
    "# Keep a list of all prediction probabilities for each of the 10 folds \n",
    "probability_preds = []\n",
    "# Keep a list of accuracies for each fold\n",
    "accuracies = []\n",
    "\n",
    "# For each fold\n",
    "for i in range(K):\n",
    "    \n",
    "    # Split training set into training and validation\n",
    "    X_train_nn, X_val, y_train_nn, y_val = train_test_split(X_train[i], \n",
    "                                                        y_train[i], test_size=0.10, \n",
    "                                                        random_state=201)\n",
    "\n",
    "    # Create the neural network\n",
    "    model_nn = models.Sequential()\n",
    "    model_nn.add(layers.Dense(len(categories), input_dim=len(categories), activation='relu'))\n",
    "    model_nn.add(layers.Dense(20, activation='relu'))\n",
    "    model_nn.add(layers.Dense(1, activation='sigmoid'))\n",
    "    model_nn.summary()\n",
    "\n",
    "    es = EarlyStopping(monitor='accuracy')\n",
    "    cc = ModelCheckpoint('model.h5', monitor='accuracy', verbose=1, save_best_only=True, mode='min')\n",
    "\n",
    "    model_nn.compile(loss='binary_crossentropy', optimizer='adam', metrics=['accuracy'])\n",
    "\n",
    "    history = model_nn.fit(X_train_nn, y_train_nn, epochs=15, \n",
    "                          validation_data=(X_val, y_val),\n",
    "                          callbacks=[es, cc])\n",
    "\n",
    "    # Halve the learning rate and run again\n",
    "    model_nn.compile(optimizer=tf.keras.optimizers.Adam(learning_rate=0.0005),\n",
    "                  loss=tf.keras.losses.BinaryCrossentropy(),\n",
    "                  metrics=['accuracy'])\n",
    "\n",
    "    history = model_nn.fit(X_train_nn, y_train_nn, epochs=15, \n",
    "                          validation_data=(X_val, y_val),\n",
    "                          callbacks=[es, cc])\n",
    "\n",
    "    # Halve the learning rate again and run again\n",
    "    model_nn.compile(optimizer=tf.keras.optimizers.Adam(learning_rate=0.00025),\n",
    "                  loss=tf.keras.losses.BinaryCrossentropy(),\n",
    "                  metrics=['accuracy'])\n",
    "\n",
    "    history = model_nn.fit(X_train_nn, y_train_nn, epochs=15, \n",
    "                          validation_data=(X_val, y_val),\n",
    "                          callbacks=[es, cc])\n",
    "\n",
    "    # Get prediction probabilities\n",
    "    fold_probabilities = model_nn.predict(X_test[i])\n",
    "\n",
    "    # Get predictions in 1s and 0s\n",
    "    fold_predictions = np.array(fold_probabilities, copy=True) \n",
    "    fold_predictions[fold_predictions >= 0.5] = 1\n",
    "    fold_predictions[fold_predictions < 0.5] = 0\n",
    "    \n",
    "    predictions = predictions + list(fold_predictions)\n",
    "    probability_preds = probability_preds + list(fold_probabilities)\n",
    "    accuracies.append(accuracy_score(y_test[i], fold_predictions))\n",
    "    \n",
    "print(accuracies)  "
   ]
  },
  {
   "cell_type": "code",
   "execution_count": 69,
   "metadata": {},
   "outputs": [
    {
     "data": {
      "image/png": "[encoded data removed]",
      "text/plain": [
       "<Figure size 1152x576 with 2 Axes>"
      ]
     },
     "metadata": {
      "needs_background": "light"
     },
     "output_type": "display_data"
    }
   ],
   "source": [
    "# Plot accuracy and loss (for the last fold)\n",
    "acc = history.history['accuracy']\n",
    "val_acc = history.history['val_accuracy']\n",
    "\n",
    "loss=history.history['loss']\n",
    "val_loss=history.history['val_loss']\n",
    "\n",
    "epochs_range = range(len(acc))\n",
    "\n",
    "plt.figure(figsize=(16, 8))\n",
    "plt.subplot(1, 2, 1)\n",
    "plt.plot(epochs_range, acc, label='Training Accuracy')\n",
    "plt.plot(epochs_range, val_acc, label='Validation Accuracy')\n",
    "plt.legend(loc='lower right')\n",
    "plt.title('Training and Validation Accuracy')\n",
    "\n",
    "plt.subplot(1, 2, 2)\n",
    "plt.plot(epochs_range, loss, label='Training Loss')\n",
    "plt.plot(epochs_range, val_loss, label='Validation Loss')\n",
    "plt.legend(loc='upper right')\n",
    "plt.title('Training and Validation Loss')\n",
    "plt.show()"
   ]
  },
  {
   "cell_type": "code",
   "execution_count": 70,
   "metadata": {},
   "outputs": [
    {
     "data": {
      "image/png": "[encoded data removed]",
      "text/plain": [
       "<Figure size 360x360 with 1 Axes>"
      ]
     },
     "metadata": {
      "needs_background": "light"
     },
     "output_type": "display_data"
    }
   ],
   "source": [
    "# Create the confusion matrix\n",
    "cm = confusion_matrix(np.hstack(y_test),predictions)\n",
    "fig, ax = plt.subplots(figsize=(5, 5))\n",
    "ax.imshow(cm)\n",
    "ax.grid(False)\n",
    "ax.xaxis.set(ticks=(0, 1), ticklabels=('Predicted 0s', 'Predicted 1s'))\n",
    "ax.yaxis.set(ticks=(0, 1), ticklabels=('Actual 0s', 'Actual 1s'))\n",
    "ax.set_ylim(1.5, -0.5)\n",
    "for i in range(2):\n",
    "    for j in range(2):\n",
    "        ax.text(j, i, cm[i, j], ha='center', va='center', color='red')\n",
    "plt.show()"
   ]
  },
  {
   "cell_type": "code",
   "execution_count": 71,
   "metadata": {},
   "outputs": [
    {
     "name": "stdout",
     "output_type": "stream",
     "text": [
      "              precision    recall  f1-score   support\n",
      "\n",
      "           0       0.62      0.58      0.60    245002\n",
      "           1       0.69      0.72      0.71    314346\n",
      "\n",
      "    accuracy                           0.66    559348\n",
      "   macro avg       0.65      0.65      0.65    559348\n",
      "weighted avg       0.66      0.66      0.66    559348\n",
      "\n"
     ]
    },
    {
     "data": {
      "image/png": "[encoded data removed]",
      "text/plain": [
       "<Figure size 504x504 with 1 Axes>"
      ]
     },
     "metadata": {
      "needs_background": "light"
     },
     "output_type": "display_data"
    }
   ],
   "source": [
    "# Evaluate model using the testing data set\n",
    "print(classification_report(np.hstack(y_test), predictions))\n",
    "\n",
    "# Create ROC curve and get AUC\n",
    "fpr, tpr, threshold = roc_curve(np.hstack(y_test), probability_preds)\n",
    "roc_auc = auc(fpr, tpr)\n",
    "\n",
    "fig, ax = plt.subplots(figsize=(7, 7))\n",
    "plt.title('Receiver Operating Characteristic')\n",
    "plt.plot(fpr, tpr, 'b', label = 'AUC = %0.2f' % roc_auc)\n",
    "plt.legend(loc = 'lower right')\n",
    "plt.plot([0, 1], [0, 1],'r--')\n",
    "plt.xlim([0, 1])\n",
    "plt.ylim([0, 1])\n",
    "plt.ylabel('True Positive Rate')\n",
    "plt.xlabel('False Positive Rate')\n",
    "plt.show()"
   ]
  },
  {
   "cell_type": "markdown",
   "metadata": {},
   "source": [
    "# Decision Tree"
   ]
  },
  {
   "cell_type": "code",
   "execution_count": 72,
   "metadata": {
    "scrolled": true
   },
   "outputs": [
    {
     "name": "stdout",
     "output_type": "stream",
     "text": [
      "0.6580787414087641\n",
      "11\n",
      "0.6568670295180962\n",
      "11\n",
      "0.6582177903142505\n",
      "11\n",
      "0.6580390131500536\n",
      "11\n",
      "0.6561717849906639\n",
      "12\n",
      "0.6553772198164555\n",
      "12\n",
      "0.656469746930992\n",
      "12\n",
      "0.657125263199714\n",
      "13\n",
      "0.6578006435977911\n",
      "10\n",
      "0.656847165388741\n",
      "11\n"
     ]
    },
    {
     "data": {
      "text/plain": [
       "[0.6549387682131045,\n",
       " 0.6571377491731474,\n",
       " 0.6554572271386431,\n",
       " 0.6562259765799588,\n",
       " 0.6560114418521498,\n",
       " 0.6579780101903996,\n",
       " 0.6577634754625905,\n",
       " 0.6552963260927863,\n",
       " 0.6545929130761254,\n",
       " 0.6579003825937713]"
      ]
     },
     "execution_count": 72,
     "metadata": {},
     "output_type": "execute_result"
    }
   ],
   "source": [
    "# Build the decision tree\n",
    "# We want to limit the depth to avoid overfitting, so we need to find optimal max_depth\n",
    "# Train our model using a subset of the training data (like in nerual network above) and use part of it for validation\n",
    "# Use validation set to find optimal paramaters (i.e. max_depth) and then evaluate model with the testing set\n",
    "\n",
    "# Keep a list of all predictions (1s and 0s) for each of the 10 folds (predicitons for every row in the data set)\n",
    "predictions = []\n",
    "# Keep a list of all prediction probabilities for each of the 10 folds \n",
    "probability_preds = []\n",
    "# Keep a list of accuracies for each fold\n",
    "accuracies = []\n",
    "\n",
    "# For each fold\n",
    "for i in range(K):\n",
    "    \n",
    "    # Split training set into training and validation\n",
    "    X_train_dt, X_val, y_train_dt, y_val = train_test_split(X_train[i], y_train[i], test_size=0.10, random_state=201)\n",
    "\n",
    "    # Find the best max_depth based on the validation set\n",
    "    depth_accuracies = []\n",
    "    for j in range(1,21):\n",
    "        dt = DecisionTreeClassifier(max_depth=j, random_state=301)\n",
    "        dt.fit(X_train_dt, y_train_dt)\n",
    "        depth_predictions = dt.predict(X_val)\n",
    "        acc = accuracy_score(y_val, depth_predictions)\n",
    "        depth_accuracies.append(acc)\n",
    "    optimal_depth = np.argmax(depth_accuracies)\n",
    "    print(max(depth_accuracies))\n",
    "    print(optimal_depth)\n",
    "    \n",
    "    # Now use optimal max_depth to create final model\n",
    "    dt = DecisionTreeClassifier(max_depth=optimal_depth)\n",
    "    dt.fit(X_train_dt, y_train_dt)\n",
    "\n",
    "    # Get predictions for test set\n",
    "    fold_predictions = dt.predict(X_test[i])\n",
    "    fold_probabilities = dt.predict_proba(X_test[i])[:,1]\n",
    "    predictions = predictions + list(fold_predictions)\n",
    "    probability_preds = probability_preds + list(fold_probabilities)\n",
    "    accuracies.append(accuracy_score(y_test[i], fold_predictions))\n",
    "accuracies"
   ]
  },
  {
   "cell_type": "code",
   "execution_count": 73,
   "metadata": {
    "scrolled": true
   },
   "outputs": [
    {
     "data": {
      "text/plain": [
       "[Text(502.20000000000005, 489.24, 'P_SEX_M <= 0.5\\ngini = 0.492\\nsamples = 453072\\nvalue = [198441, 254631]\\nclass = 1'),\n",
       " Text(251.10000000000002, 380.52000000000004, 'P_PSN_[21.0, 31.0) <= 0.5\\ngini = 0.459\\nsamples = 214983\\nvalue = [76699, 138284]\\nclass = 1'),\n",
       " Text(125.55000000000001, 271.8, 'C_RSUR_5 <= 0.5\\ngini = 0.443\\nsamples = 187156\\nvalue = [62095, 125061]\\nclass = 1'),\n",
       " Text(62.775000000000006, 163.08000000000004, 'C_RCFG_2 <= 0.5\\ngini = 0.451\\nsamples = 174519\\nvalue = [59859, 114660]\\nclass = 1'),\n",
       " Text(31.387500000000003, 54.360000000000014, '\\n  (...)  \\n'),\n",
       " Text(94.16250000000001, 54.360000000000014, '\\n  (...)  \\n'),\n",
       " Text(188.32500000000002, 163.08000000000004, 'C_CONF_[21.0, 31.0) <= 0.5\\ngini = 0.291\\nsamples = 12637\\nvalue = [2236, 10401]\\nclass = 1'),\n",
       " Text(156.9375, 54.360000000000014, '\\n  (...)  \\n'),\n",
       " Text(219.71250000000003, 54.360000000000014, '\\n  (...)  \\n'),\n",
       " Text(376.65000000000003, 271.8, 'P_SAFE_2 <= 0.5\\ngini = 0.499\\nsamples = 27827\\nvalue = [14604, 13223]\\nclass = 0'),\n",
       " Text(313.875, 163.08000000000004, 'P_SAFE_13 <= 0.5\\ngini = 0.421\\nsamples = 2816\\nvalue = [850, 1966]\\nclass = 1'),\n",
       " Text(282.4875, 54.360000000000014, '\\n  (...)  \\n'),\n",
       " Text(345.26250000000005, 54.360000000000014, '\\n  (...)  \\n'),\n",
       " Text(439.42500000000007, 163.08000000000004, 'P_AGE_[20.0, 30.0) <= 0.5\\ngini = 0.495\\nsamples = 25011\\nvalue = [13754, 11257]\\nclass = 0'),\n",
       " Text(408.0375, 54.360000000000014, '\\n  (...)  \\n'),\n",
       " Text(470.81250000000006, 54.360000000000014, '\\n  (...)  \\n'),\n",
       " Text(753.3000000000001, 380.52000000000004, 'P_SAFE_2 <= 0.5\\ngini = 0.5\\nsamples = 238089\\nvalue = [121742, 116347]\\nclass = 0'),\n",
       " Text(627.75, 271.8, 'V_TYPE_[9.0, 14.0) <= 0.5\\ngini = 0.304\\nsamples = 16604\\nvalue = [3105, 13499]\\nclass = 1'),\n",
       " Text(564.975, 163.08000000000004, 'V_TYPE_[14.0, 18.0) <= 0.5\\ngini = 0.241\\nsamples = 15064\\nvalue = [2106, 12958]\\nclass = 1'),\n",
       " Text(533.5875000000001, 54.360000000000014, '\\n  (...)  \\n'),\n",
       " Text(596.3625000000001, 54.360000000000014, '\\n  (...)  \\n'),\n",
       " Text(690.5250000000001, 163.08000000000004, 'P_AGE_[10.0, 20.0) <= 0.5\\ngini = 0.456\\nsamples = 1540\\nvalue = [999, 541]\\nclass = 0'),\n",
       " Text(659.1375, 54.360000000000014, '\\n  (...)  \\n'),\n",
       " Text(721.9125, 54.360000000000014, '\\n  (...)  \\n'),\n",
       " Text(878.8500000000001, 271.8, 'C_CONF_[21.0, 31.0) <= 0.5\\ngini = 0.497\\nsamples = 221485\\nvalue = [118637, 102848]\\nclass = 0'),\n",
       " Text(816.075, 163.08000000000004, 'C_RCFG_2 <= 0.5\\ngini = 0.499\\nsamples = 127399\\nvalue = [61019, 66380]\\nclass = 1'),\n",
       " Text(784.6875000000001, 54.360000000000014, '\\n  (...)  \\n'),\n",
       " Text(847.4625000000001, 54.360000000000014, '\\n  (...)  \\n'),\n",
       " Text(941.6250000000001, 163.08000000000004, 'V_TYPE_[8.0, 9.0) <= 0.5\\ngini = 0.475\\nsamples = 94086\\nvalue = [57618, 36468]\\nclass = 0'),\n",
       " Text(910.2375000000001, 54.360000000000014, '\\n  (...)  \\n'),\n",
       " Text(973.0125, 54.360000000000014, '\\n  (...)  \\n')]"
      ]
     },
     "execution_count": 73,
     "metadata": {},
     "output_type": "execute_result"
    },
    {
     "data": {
      "image/png": "[encoded data removed]",
      "text/plain": [
       "<Figure size 1296x720 with 1 Axes>"
      ]
     },
     "metadata": {
      "needs_background": "light"
     },
     "output_type": "display_data"
    }
   ],
   "source": [
    "# Visualize the top of the decision tree (for the last fold)\n",
    "fig, ax = plt.subplots(figsize=(18, 10))\n",
    "tree.plot_tree(dt,\n",
    "               feature_names = categories, \n",
    "               class_names=['0', '1'],\n",
    "               max_depth = 3, \n",
    "               fontsize=10, \n",
    "               filled = True)"
   ]
  },
  {
   "cell_type": "code",
   "execution_count": 74,
   "metadata": {},
   "outputs": [
    {
     "data": {
      "image/png": "[encoded data removed]",
      "text/plain": [
       "<Figure size 360x360 with 1 Axes>"
      ]
     },
     "metadata": {
      "needs_background": "light"
     },
     "output_type": "display_data"
    }
   ],
   "source": [
    "# Create the confusion matrix\n",
    "cm = confusion_matrix(np.hstack(y_test),predictions)\n",
    "fig, ax = plt.subplots(figsize=(5, 5))\n",
    "ax.imshow(cm)\n",
    "ax.grid(False)\n",
    "ax.xaxis.set(ticks=(0, 1), ticklabels=('Predicted 0s', 'Predicted 1s'))\n",
    "ax.yaxis.set(ticks=(0, 1), ticklabels=('Actual 0s', 'Actual 1s'))\n",
    "ax.set_ylim(1.5, -0.5)\n",
    "for i in range(2):\n",
    "    for j in range(2):\n",
    "        ax.text(j, i, cm[i, j], ha='center', va='center', color='red')\n",
    "plt.show()"
   ]
  },
  {
   "cell_type": "code",
   "execution_count": 75,
   "metadata": {},
   "outputs": [
    {
     "name": "stdout",
     "output_type": "stream",
     "text": [
      "              precision    recall  f1-score   support\n",
      "\n",
      "           0       0.61      0.61      0.61    245002\n",
      "           1       0.70      0.69      0.69    314346\n",
      "\n",
      "    accuracy                           0.66    559348\n",
      "   macro avg       0.65      0.65      0.65    559348\n",
      "weighted avg       0.66      0.66      0.66    559348\n",
      "\n"
     ]
    },
    {
     "data": {
      "image/png": "[encoded data removed]",
      "text/plain": [
       "<Figure size 504x504 with 1 Axes>"
      ]
     },
     "metadata": {
      "needs_background": "light"
     },
     "output_type": "display_data"
    }
   ],
   "source": [
    "# Evaluate model using the testing data set\n",
    "print(classification_report(np.hstack(y_test),predictions))\n",
    "\n",
    "# Create ROC curve and get AUC\n",
    "fpr, tpr, threshold = roc_curve(np.hstack(y_test), probability_preds)\n",
    "roc_auc = auc(fpr, tpr)\n",
    "\n",
    "fig, ax = plt.subplots(figsize=(7, 7))\n",
    "plt.title('Receiver Operating Characteristic')\n",
    "plt.plot(fpr, tpr, 'b', label = 'AUC = %0.2f' % roc_auc)\n",
    "plt.legend(loc = 'lower right')\n",
    "plt.plot([0, 1], [0, 1],'r--')\n",
    "plt.xlim([0, 1])\n",
    "plt.ylim([0, 1])\n",
    "plt.ylabel('True Positive Rate')\n",
    "plt.xlabel('False Positive Rate')\n",
    "plt.show()"
   ]
  },
  {
   "cell_type": "markdown",
   "metadata": {},
   "source": [
    "# Naive Bayes"
   ]
  },
  {
   "cell_type": "code",
   "execution_count": 76,
   "metadata": {},
   "outputs": [
    {
     "data": {
      "text/plain": [
       "[0.627013497809958,\n",
       " 0.6266559399302762,\n",
       " 0.6245642263341379,\n",
       " 0.6235094305890766,\n",
       " 0.6231161169214267,\n",
       " 0.6255475105032627,\n",
       " 0.6235630642710289,\n",
       " 0.6267632072941808,\n",
       " 0.62779347087639,\n",
       " 0.6294025101011906]"
      ]
     },
     "execution_count": 76,
     "metadata": {},
     "output_type": "execute_result"
    }
   ],
   "source": [
    "# Keep a list of all predictions (1s and 0s) for each of the 10 folds (predicitons for every row in the data set)\n",
    "predictions = []\n",
    "# Keep a list of all prediction probabilities for each of the 10 folds \n",
    "probability_preds = []\n",
    "# Keep a list of accuracies for each fold\n",
    "accuracies = []\n",
    "\n",
    "# For each fold\n",
    "for i in range(K):\n",
    "    nb = naive_bayes.CategoricalNB()\n",
    "    model_nb = nb.fit(X_train[i], y_train[i])\n",
    "    fold_predictions = model_nb.predict(X_test[i])\n",
    "    fold_probabilities = model_nb.predict_proba(X_test[i])[:,1]\n",
    "    predictions = predictions + list(fold_predictions)\n",
    "    probability_preds = probability_preds + list(fold_probabilities)\n",
    "    accuracies.append(accuracy_score(y_test[i], fold_predictions))\n",
    "accuracies"
   ]
  },
  {
   "cell_type": "code",
   "execution_count": 77,
   "metadata": {},
   "outputs": [
    {
     "data": {
      "image/png": "[encoded data removed]",
      "text/plain": [
       "<Figure size 360x360 with 1 Axes>"
      ]
     },
     "metadata": {
      "needs_background": "light"
     },
     "output_type": "display_data"
    }
   ],
   "source": [
    "# Create the confusion matrix\n",
    "cm = confusion_matrix(np.hstack(y_test),predictions)\n",
    "fig, ax = plt.subplots(figsize=(5, 5))\n",
    "ax.imshow(cm)\n",
    "ax.grid(False)\n",
    "ax.xaxis.set(ticks=(0, 1), ticklabels=('Predicted 0s', 'Predicted 1s'))\n",
    "ax.yaxis.set(ticks=(0, 1), ticklabels=('Actual 0s', 'Actual 1s'))\n",
    "ax.set_ylim(1.5, -0.5)\n",
    "for i in range(2):\n",
    "    for j in range(2):\n",
    "        ax.text(j, i, cm[i, j], ha='center', va='center', color='red')\n",
    "plt.show()"
   ]
  },
  {
   "cell_type": "code",
   "execution_count": 78,
   "metadata": {},
   "outputs": [
    {
     "name": "stdout",
     "output_type": "stream",
     "text": [
      "              precision    recall  f1-score   support\n",
      "\n",
      "           0       0.57      0.58      0.58    245002\n",
      "           1       0.67      0.66      0.66    314346\n",
      "\n",
      "    accuracy                           0.63    559348\n",
      "   macro avg       0.62      0.62      0.62    559348\n",
      "weighted avg       0.63      0.63      0.63    559348\n",
      "\n"
     ]
    },
    {
     "data": {
      "image/png": "[encoded data removed]",
      "text/plain": [
       "<Figure size 504x504 with 1 Axes>"
      ]
     },
     "metadata": {
      "needs_background": "light"
     },
     "output_type": "display_data"
    }
   ],
   "source": [
    "# Evaluate model using the testing data set\n",
    "print(classification_report(np.hstack(y_test),predictions))\n",
    "\n",
    "# Create ROC curve and get AUC\n",
    "fpr, tpr, threshold = roc_curve(np.hstack(y_test), probability_preds)\n",
    "roc_auc = auc(fpr, tpr)\n",
    "\n",
    "fig, ax = plt.subplots(figsize=(7, 7))\n",
    "plt.title('Receiver Operating Characteristic')\n",
    "plt.plot(fpr, tpr, 'b', label = 'AUC = %0.2f' % roc_auc)\n",
    "plt.legend(loc = 'lower right')\n",
    "plt.plot([0, 1], [0, 1],'r--')\n",
    "plt.xlim([0, 1])\n",
    "plt.ylim([0, 1])\n",
    "plt.ylabel('True Positive Rate')\n",
    "plt.xlabel('False Positive Rate')\n",
    "plt.show()"
   ]
  }
 ],
 "metadata": {
  "kernelspec": {
   "display_name": "Python 3",
   "language": "python",
   "name": "python3"
  },
  "language_info": {
   "codemirror_mode": {
    "name": "ipython",
    "version": 3
   },
   "file_extension": ".py",
   "mimetype": "text/x-python",
   "name": "python",
   "nbconvert_exporter": "python",
   "pygments_lexer": "ipython3",
   "version": "3.6.5"
  }
 },
 "nbformat": 4,
 "nbformat_minor": 2
}
