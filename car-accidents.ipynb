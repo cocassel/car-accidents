{
 "cells": [
  {
   "cell_type": "code",
   "execution_count": 1,
   "metadata": {},
   "outputs": [],
   "source": [
    "import pandas as pd\n",
    "import matplotlib.pyplot as plt \n",
    "import seaborn as sns\n",
    "sns.set(style=\"white\")\n",
    "sns.set(style=\"whitegrid\", color_codes=True)"
   ]
  },
  {
   "cell_type": "code",
   "execution_count": 2,
   "metadata": {},
   "outputs": [
    {
     "name": "stderr",
     "output_type": "stream",
     "text": [
      "/Library/Frameworks/Python.framework/Versions/3.6/lib/python3.6/site-packages/IPython/core/interactiveshell.py:3049: DtypeWarning: Columns (2,3,6,13) have mixed types.Specify dtype option on import or set low_memory=False.\n",
      "  interactivity=interactivity, compiler=compiler, result=result)\n"
     ]
    },
    {
     "data": {
      "text/html": [
       "<div>\n",
       "<style scoped>\n",
       "    .dataframe tbody tr th:only-of-type {\n",
       "        vertical-align: middle;\n",
       "    }\n",
       "\n",
       "    .dataframe tbody tr th {\n",
       "        vertical-align: top;\n",
       "    }\n",
       "\n",
       "    .dataframe thead th {\n",
       "        text-align: right;\n",
       "    }\n",
       "</style>\n",
       "<table border=\"1\" class=\"dataframe\">\n",
       "  <thead>\n",
       "    <tr style=\"text-align: right;\">\n",
       "      <th></th>\n",
       "      <th>Unnamed: 0</th>\n",
       "      <th>C_YEAR</th>\n",
       "      <th>C_MNTH</th>\n",
       "      <th>C_WDAY</th>\n",
       "      <th>C_HOUR</th>\n",
       "      <th>C_SEV</th>\n",
       "      <th>C_VEHS</th>\n",
       "      <th>C_CONF</th>\n",
       "      <th>C_RCFG</th>\n",
       "      <th>C_WTHR</th>\n",
       "      <th>...</th>\n",
       "      <th>V_ID</th>\n",
       "      <th>V_TYPE</th>\n",
       "      <th>V_YEAR</th>\n",
       "      <th>P_ID</th>\n",
       "      <th>P_SEX</th>\n",
       "      <th>P_AGE</th>\n",
       "      <th>P_PSN</th>\n",
       "      <th>P_ISEV</th>\n",
       "      <th>P_SAFE</th>\n",
       "      <th>P_USER</th>\n",
       "    </tr>\n",
       "  </thead>\n",
       "  <tbody>\n",
       "    <tr>\n",
       "      <th>0</th>\n",
       "      <td>4860406</td>\n",
       "      <td>2011</td>\n",
       "      <td>10</td>\n",
       "      <td>6</td>\n",
       "      <td>16</td>\n",
       "      <td>2</td>\n",
       "      <td>1</td>\n",
       "      <td>04</td>\n",
       "      <td>01</td>\n",
       "      <td>1</td>\n",
       "      <td>...</td>\n",
       "      <td>01</td>\n",
       "      <td>01</td>\n",
       "      <td>2003</td>\n",
       "      <td>01</td>\n",
       "      <td>M</td>\n",
       "      <td>24</td>\n",
       "      <td>11</td>\n",
       "      <td>1</td>\n",
       "      <td>02</td>\n",
       "      <td>1</td>\n",
       "    </tr>\n",
       "    <tr>\n",
       "      <th>1</th>\n",
       "      <td>4860407</td>\n",
       "      <td>2011</td>\n",
       "      <td>10</td>\n",
       "      <td>6</td>\n",
       "      <td>16</td>\n",
       "      <td>2</td>\n",
       "      <td>1</td>\n",
       "      <td>04</td>\n",
       "      <td>01</td>\n",
       "      <td>1</td>\n",
       "      <td>...</td>\n",
       "      <td>01</td>\n",
       "      <td>01</td>\n",
       "      <td>2003</td>\n",
       "      <td>02</td>\n",
       "      <td>M</td>\n",
       "      <td>09</td>\n",
       "      <td>31</td>\n",
       "      <td>2</td>\n",
       "      <td>02</td>\n",
       "      <td>2</td>\n",
       "    </tr>\n",
       "    <tr>\n",
       "      <th>2</th>\n",
       "      <td>4860408</td>\n",
       "      <td>2011</td>\n",
       "      <td>10</td>\n",
       "      <td>6</td>\n",
       "      <td>16</td>\n",
       "      <td>2</td>\n",
       "      <td>1</td>\n",
       "      <td>04</td>\n",
       "      <td>01</td>\n",
       "      <td>1</td>\n",
       "      <td>...</td>\n",
       "      <td>01</td>\n",
       "      <td>01</td>\n",
       "      <td>2003</td>\n",
       "      <td>03</td>\n",
       "      <td>F</td>\n",
       "      <td>07</td>\n",
       "      <td>22</td>\n",
       "      <td>2</td>\n",
       "      <td>02</td>\n",
       "      <td>2</td>\n",
       "    </tr>\n",
       "    <tr>\n",
       "      <th>3</th>\n",
       "      <td>4860409</td>\n",
       "      <td>2011</td>\n",
       "      <td>10</td>\n",
       "      <td>6</td>\n",
       "      <td>14</td>\n",
       "      <td>2</td>\n",
       "      <td>2</td>\n",
       "      <td>UU</td>\n",
       "      <td>UU</td>\n",
       "      <td>1</td>\n",
       "      <td>...</td>\n",
       "      <td>01</td>\n",
       "      <td>01</td>\n",
       "      <td>2007</td>\n",
       "      <td>01</td>\n",
       "      <td>M</td>\n",
       "      <td>50</td>\n",
       "      <td>11</td>\n",
       "      <td>1</td>\n",
       "      <td>02</td>\n",
       "      <td>1</td>\n",
       "    </tr>\n",
       "    <tr>\n",
       "      <th>4</th>\n",
       "      <td>4860410</td>\n",
       "      <td>2011</td>\n",
       "      <td>10</td>\n",
       "      <td>6</td>\n",
       "      <td>14</td>\n",
       "      <td>2</td>\n",
       "      <td>2</td>\n",
       "      <td>UU</td>\n",
       "      <td>UU</td>\n",
       "      <td>1</td>\n",
       "      <td>...</td>\n",
       "      <td>01</td>\n",
       "      <td>01</td>\n",
       "      <td>2007</td>\n",
       "      <td>02</td>\n",
       "      <td>M</td>\n",
       "      <td>15</td>\n",
       "      <td>13</td>\n",
       "      <td>1</td>\n",
       "      <td>02</td>\n",
       "      <td>2</td>\n",
       "    </tr>\n",
       "    <tr>\n",
       "      <th>...</th>\n",
       "      <td>...</td>\n",
       "      <td>...</td>\n",
       "      <td>...</td>\n",
       "      <td>...</td>\n",
       "      <td>...</td>\n",
       "      <td>...</td>\n",
       "      <td>...</td>\n",
       "      <td>...</td>\n",
       "      <td>...</td>\n",
       "      <td>...</td>\n",
       "      <td>...</td>\n",
       "      <td>...</td>\n",
       "      <td>...</td>\n",
       "      <td>...</td>\n",
       "      <td>...</td>\n",
       "      <td>...</td>\n",
       "      <td>...</td>\n",
       "      <td>...</td>\n",
       "      <td>...</td>\n",
       "      <td>...</td>\n",
       "      <td>...</td>\n",
       "    </tr>\n",
       "    <tr>\n",
       "      <th>999995</th>\n",
       "      <td>5860401</td>\n",
       "      <td>2014</td>\n",
       "      <td>UU</td>\n",
       "      <td>U</td>\n",
       "      <td>UU</td>\n",
       "      <td>2</td>\n",
       "      <td>UU</td>\n",
       "      <td>UU</td>\n",
       "      <td>01</td>\n",
       "      <td>U</td>\n",
       "      <td>...</td>\n",
       "      <td>13</td>\n",
       "      <td>07</td>\n",
       "      <td>UUUU</td>\n",
       "      <td>01</td>\n",
       "      <td>M</td>\n",
       "      <td>24</td>\n",
       "      <td>11</td>\n",
       "      <td>1</td>\n",
       "      <td>NN</td>\n",
       "      <td>1</td>\n",
       "    </tr>\n",
       "    <tr>\n",
       "      <th>999996</th>\n",
       "      <td>5860402</td>\n",
       "      <td>2014</td>\n",
       "      <td>UU</td>\n",
       "      <td>U</td>\n",
       "      <td>23</td>\n",
       "      <td>2</td>\n",
       "      <td>01</td>\n",
       "      <td>06</td>\n",
       "      <td>05</td>\n",
       "      <td>1</td>\n",
       "      <td>...</td>\n",
       "      <td>1</td>\n",
       "      <td>14</td>\n",
       "      <td>2006</td>\n",
       "      <td>01</td>\n",
       "      <td>M</td>\n",
       "      <td>29</td>\n",
       "      <td>96</td>\n",
       "      <td>2</td>\n",
       "      <td>09</td>\n",
       "      <td>5</td>\n",
       "    </tr>\n",
       "    <tr>\n",
       "      <th>999997</th>\n",
       "      <td>5860403</td>\n",
       "      <td>2014</td>\n",
       "      <td>UU</td>\n",
       "      <td>U</td>\n",
       "      <td>14</td>\n",
       "      <td>2</td>\n",
       "      <td>01</td>\n",
       "      <td>02</td>\n",
       "      <td>01</td>\n",
       "      <td>1</td>\n",
       "      <td>...</td>\n",
       "      <td>1</td>\n",
       "      <td>01</td>\n",
       "      <td>2006</td>\n",
       "      <td>01</td>\n",
       "      <td>F</td>\n",
       "      <td>UU</td>\n",
       "      <td>11</td>\n",
       "      <td>2</td>\n",
       "      <td>01</td>\n",
       "      <td>1</td>\n",
       "    </tr>\n",
       "    <tr>\n",
       "      <th>999998</th>\n",
       "      <td>5860404</td>\n",
       "      <td>2014</td>\n",
       "      <td>UU</td>\n",
       "      <td>U</td>\n",
       "      <td>22</td>\n",
       "      <td>1</td>\n",
       "      <td>01</td>\n",
       "      <td>06</td>\n",
       "      <td>01</td>\n",
       "      <td>2</td>\n",
       "      <td>...</td>\n",
       "      <td>1</td>\n",
       "      <td>22</td>\n",
       "      <td>UUUU</td>\n",
       "      <td>01</td>\n",
       "      <td>M</td>\n",
       "      <td>67</td>\n",
       "      <td>12</td>\n",
       "      <td>3</td>\n",
       "      <td>01</td>\n",
       "      <td>U</td>\n",
       "    </tr>\n",
       "    <tr>\n",
       "      <th>999999</th>\n",
       "      <td>5860405</td>\n",
       "      <td>2014</td>\n",
       "      <td>UU</td>\n",
       "      <td>U</td>\n",
       "      <td>22</td>\n",
       "      <td>1</td>\n",
       "      <td>01</td>\n",
       "      <td>06</td>\n",
       "      <td>01</td>\n",
       "      <td>2</td>\n",
       "      <td>...</td>\n",
       "      <td>1</td>\n",
       "      <td>22</td>\n",
       "      <td>UUUU</td>\n",
       "      <td>02</td>\n",
       "      <td>M</td>\n",
       "      <td>10</td>\n",
       "      <td>98</td>\n",
       "      <td>1</td>\n",
       "      <td>01</td>\n",
       "      <td>U</td>\n",
       "    </tr>\n",
       "  </tbody>\n",
       "</table>\n",
       "<p>1000000 rows × 23 columns</p>\n",
       "</div>"
      ],
      "text/plain": [
       "        Unnamed: 0  C_YEAR C_MNTH C_WDAY C_HOUR  C_SEV C_VEHS C_CONF C_RCFG  \\\n",
       "0          4860406    2011     10      6     16      2      1     04     01   \n",
       "1          4860407    2011     10      6     16      2      1     04     01   \n",
       "2          4860408    2011     10      6     16      2      1     04     01   \n",
       "3          4860409    2011     10      6     14      2      2     UU     UU   \n",
       "4          4860410    2011     10      6     14      2      2     UU     UU   \n",
       "...            ...     ...    ...    ...    ...    ...    ...    ...    ...   \n",
       "999995     5860401    2014     UU      U     UU      2     UU     UU     01   \n",
       "999996     5860402    2014     UU      U     23      2     01     06     05   \n",
       "999997     5860403    2014     UU      U     14      2     01     02     01   \n",
       "999998     5860404    2014     UU      U     22      1     01     06     01   \n",
       "999999     5860405    2014     UU      U     22      1     01     06     01   \n",
       "\n",
       "       C_WTHR  ... V_ID V_TYPE V_YEAR P_ID P_SEX P_AGE P_PSN P_ISEV P_SAFE  \\\n",
       "0           1  ...   01     01   2003   01     M    24    11      1     02   \n",
       "1           1  ...   01     01   2003   02     M    09    31      2     02   \n",
       "2           1  ...   01     01   2003   03     F    07    22      2     02   \n",
       "3           1  ...   01     01   2007   01     M    50    11      1     02   \n",
       "4           1  ...   01     01   2007   02     M    15    13      1     02   \n",
       "...       ...  ...  ...    ...    ...  ...   ...   ...   ...    ...    ...   \n",
       "999995      U  ...   13     07   UUUU   01     M    24    11      1     NN   \n",
       "999996      1  ...    1     14   2006   01     M    29    96      2     09   \n",
       "999997      1  ...    1     01   2006   01     F    UU    11      2     01   \n",
       "999998      2  ...    1     22   UUUU   01     M    67    12      3     01   \n",
       "999999      2  ...    1     22   UUUU   02     M    10    98      1     01   \n",
       "\n",
       "       P_USER  \n",
       "0           1  \n",
       "1           2  \n",
       "2           2  \n",
       "3           1  \n",
       "4           2  \n",
       "...       ...  \n",
       "999995      1  \n",
       "999996      5  \n",
       "999997      1  \n",
       "999998      U  \n",
       "999999      U  \n",
       "\n",
       "[1000000 rows x 23 columns]"
      ]
     },
     "execution_count": 2,
     "metadata": {},
     "output_type": "execute_result"
    }
   ],
   "source": [
    "# Read in CSV file\n",
    "data = pd.read_csv(\"data.csv\") \n",
    "data"
   ]
  },
  {
   "cell_type": "markdown",
   "metadata": {},
   "source": [
    "# Data Cleaning"
   ]
  },
  {
   "cell_type": "code",
   "execution_count": 3,
   "metadata": {
    "scrolled": true
   },
   "outputs": [
    {
     "data": {
      "text/plain": [
       "[0, 1]\n",
       "Categories (2, int64): [0, 1]"
      ]
     },
     "execution_count": 3,
     "metadata": {},
     "output_type": "execute_result"
    }
   ],
   "source": [
    "# Data cleaning: P_ISEV\n",
    "data = data[data['P_ISEV'] != \"N\"]\n",
    "data = data[data['P_ISEV'] != \"U\"]\n",
    "data = data[data['P_ISEV'] != \"X\"]\n",
    "data.P_ISEV = pd.to_numeric(data.P_ISEV)\n",
    "data[data['P_ISEV'] == 1 ] = 0\n",
    "data[data['P_ISEV'] == 2 ] = 1\n",
    "data[data['P_ISEV'] == 3 ] = 1\n",
    "data.P_ISEV = pd.Categorical(data.P_ISEV)\n",
    "data['P_ISEV'].unique()"
   ]
  },
  {
   "cell_type": "code",
   "execution_count": 4,
   "metadata": {},
   "outputs": [
    {
     "data": {
      "text/plain": [
       "[0, 1]\n",
       "Categories (2, int64): [0, 1]"
      ]
     },
     "execution_count": 4,
     "metadata": {},
     "output_type": "execute_result"
    }
   ],
   "source": [
    "# Data cleaning: P_SEX\n",
    "data = data[data['P_SEX'] != \"N\"]\n",
    "data = data[data['P_SEX'] != \"U\"] \n",
    "data.P_SEX = pd.Categorical(data.P_SEX)\n",
    "data['P_SEX'].unique()"
   ]
  },
  {
   "cell_type": "code",
   "execution_count": 5,
   "metadata": {},
   "outputs": [
    {
     "data": {
      "text/plain": [
       "[0, 1]\n",
       "Categories (2, int64): [0, 1]"
      ]
     },
     "execution_count": 5,
     "metadata": {},
     "output_type": "execute_result"
    }
   ],
   "source": [
    "# Data cleaning: C_MNTH\n",
    "data = data[data['C_MNTH'] != \"UU\"]\n",
    "data = data[data['C_MNTH'] != \"XX\"]\n",
    "data.C_MNTH = pd.Categorical(pd.to_numeric(data.C_MNTH))\n",
    "data['C_MNTH'].unique()"
   ]
  },
  {
   "cell_type": "code",
   "execution_count": 6,
   "metadata": {},
   "outputs": [
    {
     "data": {
      "text/plain": [
       "[0, 1]\n",
       "Categories (2, int64): [0, 1]"
      ]
     },
     "execution_count": 6,
     "metadata": {},
     "output_type": "execute_result"
    }
   ],
   "source": [
    "# Data cleaning: C_WDAY\n",
    "data = data[data['C_WDAY'] != \"U\"] \n",
    "data = data[data['C_WDAY'] != \"X\"] \n",
    "data.C_WDAY = pd.Categorical(pd.to_numeric(data.C_WDAY))\n",
    "data['C_WDAY'].unique()"
   ]
  },
  {
   "cell_type": "code",
   "execution_count": 7,
   "metadata": {},
   "outputs": [
    {
     "data": {
      "text/plain": [
       "[[0.0, 3.0)]\n",
       "Categories (1, interval[float64]): [[0.0, 3.0)]"
      ]
     },
     "execution_count": 7,
     "metadata": {},
     "output_type": "execute_result"
    }
   ],
   "source": [
    "# Data cleaning: C_HOUR\n",
    "data = data[data['C_HOUR'] != \"UU\"]\n",
    "data = data[data['C_HOUR'] != \"XX\"]\n",
    "# Make colliosn hour group categories\n",
    "data['C_HOUR'] = pd.to_numeric(data['C_HOUR'])\n",
    "data['C_HOUR'] = pd.cut(data['C_HOUR'], bins=[0,3,6,9,12,15,18,21,23,float('inf')], right=False)\n",
    "data['C_HOUR'].unique()"
   ]
  },
  {
   "cell_type": "code",
   "execution_count": 8,
   "metadata": {},
   "outputs": [
    {
     "data": {
      "text/plain": [
       "[NaN, [1.0, 5.0)]\n",
       "Categories (1, interval[float64]): [[1.0, 5.0)]"
      ]
     },
     "execution_count": 8,
     "metadata": {},
     "output_type": "execute_result"
    }
   ],
   "source": [
    "# Data cleaning: C_VEHS\n",
    "data = data[data['C_VEHS'] != \"UU\"]\n",
    "data = data[data['C_VEHS'] != \"XX\"]\n",
    "# Make vehicle collided group categories rather than usuing indidvidual number of cars in collision\n",
    "data['C_VEHS'] = pd.to_numeric(data['C_VEHS'])\n",
    "data['C_VEHS'] = pd.cut(data['C_VEHS'], bins=[1,5,26,float('inf')], right=False)\n",
    "data['C_VEHS'].unique()"
   ]
  },
  {
   "cell_type": "code",
   "execution_count": 9,
   "metadata": {},
   "outputs": [
    {
     "data": {
      "text/plain": [
       "[NaN, [1.0, 21.0)]\n",
       "Categories (1, interval[float64]): [[1.0, 21.0)]"
      ]
     },
     "execution_count": 9,
     "metadata": {},
     "output_type": "execute_result"
    }
   ],
   "source": [
    "# Data cleaning: C_CONF\n",
    "data = data[data['C_CONF'] != \"QQ\"]\n",
    "data = data[data['C_CONF'] != \"UU\"]\n",
    "data = data[data['C_CONF'] != \"XX\"]\n",
    "data['C_CONF'] = pd.to_numeric(data['C_CONF'])\n",
    "data['C_CONF'] = pd.cut(data['C_CONF'], bins=[1,21,31,float('inf')], right=False)\n",
    "data['C_CONF'].unique()"
   ]
  },
  {
   "cell_type": "code",
   "execution_count": 10,
   "metadata": {},
   "outputs": [
    {
     "data": {
      "text/plain": [
       "[0, 1]\n",
       "Categories (2, int64): [0, 1]"
      ]
     },
     "execution_count": 10,
     "metadata": {},
     "output_type": "execute_result"
    }
   ],
   "source": [
    "# Data cleaning: C_RCFG\n",
    "data = data[data['C_RCFG'] != \"QQ\"]\n",
    "data = data[data['C_RCFG'] != \"UU\"] \n",
    "data = data[data['C_RCFG'] != \"XX\"]\n",
    "data.C_RCFG = pd.Categorical(pd.to_numeric(data.C_RCFG))\n",
    "data['C_RCFG'].unique()"
   ]
  },
  {
   "cell_type": "code",
   "execution_count": 11,
   "metadata": {},
   "outputs": [
    {
     "data": {
      "text/plain": [
       "[0, 1]\n",
       "Categories (2, int64): [0, 1]"
      ]
     },
     "execution_count": 11,
     "metadata": {},
     "output_type": "execute_result"
    }
   ],
   "source": [
    "# Data cleaning: C_WTHR\n",
    "data = data[data['C_WTHR'] !=  \"Q\"]\n",
    "data = data[data['C_WTHR'] !=  \"U\"]\n",
    "data = data[data['C_WTHR'] !=  \"X\"]\n",
    "data.C_WTHR = pd.Categorical(pd.to_numeric(data.C_WTHR))\n",
    "data['C_WTHR'].unique()"
   ]
  },
  {
   "cell_type": "code",
   "execution_count": 12,
   "metadata": {},
   "outputs": [
    {
     "data": {
      "text/plain": [
       "[0, 1]\n",
       "Categories (2, int64): [0, 1]"
      ]
     },
     "execution_count": 12,
     "metadata": {},
     "output_type": "execute_result"
    }
   ],
   "source": [
    "# Data cleaning: C_RSUR\n",
    "data = data[data['C_RSUR'] !=  \"Q\"]\n",
    "data = data[data['C_RSUR'] !=  \"U\"]\n",
    "data = data[data['C_RSUR'] !=  \"X\"]\n",
    "data.C_RSUR = pd.Categorical(pd.to_numeric(data.C_RSUR))\n",
    "data['C_RSUR'].unique()"
   ]
  },
  {
   "cell_type": "code",
   "execution_count": 13,
   "metadata": {},
   "outputs": [
    {
     "data": {
      "text/plain": [
       "[0, 1]\n",
       "Categories (2, int64): [0, 1]"
      ]
     },
     "execution_count": 13,
     "metadata": {},
     "output_type": "execute_result"
    }
   ],
   "source": [
    "# Data cleaning: C_RALN \n",
    "data = data[data['C_RALN'] != \"Q\"] \n",
    "data = data[data['C_RALN'] != \"U\"] \n",
    "data = data[data['C_RALN'] != \"X\"]\n",
    "data.C_RALN = pd.Categorical(pd.to_numeric(data.C_RALN))\n",
    "data['C_RALN'].unique()"
   ]
  },
  {
   "cell_type": "code",
   "execution_count": 14,
   "metadata": {},
   "outputs": [
    {
     "data": {
      "text/plain": [
       "[NaN, [1.0, 3.0)]\n",
       "Categories (1, interval[float64]): [[1.0, 3.0)]"
      ]
     },
     "execution_count": 14,
     "metadata": {},
     "output_type": "execute_result"
    }
   ],
   "source": [
    "# Data cleaning: C_TRAF \n",
    "data = data[data['C_TRAF'] != \"QQ\"]\n",
    "data = data[data['C_TRAF'] != \"UU\"]\n",
    "data = data[data['C_TRAF'] != \"XX\"]\n",
    "data['C_TRAF'] = pd.to_numeric(data['C_TRAF'])\n",
    "data['C_TRAF'] = pd.cut(data['C_TRAF'], bins=[1,3,8,10,13,15,float('inf')], right=False)\n",
    "data['C_TRAF'].unique()"
   ]
  },
  {
   "cell_type": "code",
   "execution_count": 15,
   "metadata": {},
   "outputs": [
    {
     "data": {
      "text/plain": [
       "[0, 1]\n",
       "Categories (2, int64): [0, 1]"
      ]
     },
     "execution_count": 15,
     "metadata": {},
     "output_type": "execute_result"
    }
   ],
   "source": [
    "# Data cleaning: V_ID \n",
    "data = data[data['V_ID'] != \"UU\"]\n",
    "data.V_ID = pd.Categorical(pd.to_numeric(data.V_ID))\n",
    "data['V_ID'].unique()  "
   ]
  },
  {
   "cell_type": "code",
   "execution_count": 16,
   "metadata": {},
   "outputs": [
    {
     "data": {
      "text/plain": [
       "[[0.0, 5.0)]\n",
       "Categories (1, interval[float64]): [[0.0, 5.0)]"
      ]
     },
     "execution_count": 16,
     "metadata": {},
     "output_type": "execute_result"
    }
   ],
   "source": [
    "# Data cleaning: V_TYPE\n",
    "data = data[data['V_TYPE'] != \"QQ\"] \n",
    "data = data[data['V_TYPE'] != \"UU\"] \n",
    "data = data[data['V_TYPE'] != \"NN\"] \n",
    "data['V_TYPE'] = pd.to_numeric(data['V_TYPE'])\n",
    "data['V_TYPE'] = pd.cut(data['V_TYPE'], bins=[0,5,8,9,float('inf')], right=False)\n",
    "data['V_TYPE'].unique()"
   ]
  },
  {
   "cell_type": "code",
   "execution_count": 17,
   "metadata": {},
   "outputs": [
    {
     "data": {
      "text/plain": [
       "[NaN]\n",
       "Categories (0, interval[float64]): []"
      ]
     },
     "execution_count": 17,
     "metadata": {},
     "output_type": "execute_result"
    }
   ],
   "source": [
    "# Data cleaning: V_YEAR\n",
    "data = data[data['V_YEAR'] != \"NNNN\"] \n",
    "data = data[data['V_YEAR'] != \"UUUU\"] \n",
    "data = data[data['V_YEAR'] != \"QQQQ\"]\n",
    "# Make vehicle year group categories rather than using indidvidual years\n",
    "data['V_YEAR'] = pd.to_numeric(data['V_YEAR'])\n",
    "data['V_YEAR'] = pd.cut(data['V_YEAR'], bins=[1900,1950,1980,1990,2000,2010,float('inf')], right=False)\n",
    "data['V_YEAR'].unique()"
   ]
  },
  {
   "cell_type": "code",
   "execution_count": 18,
   "metadata": {},
   "outputs": [
    {
     "data": {
      "text/plain": [
       "[0, 1]\n",
       "Categories (2, int64): [0, 1]"
      ]
     },
     "execution_count": 18,
     "metadata": {},
     "output_type": "execute_result"
    }
   ],
   "source": [
    "# Data cleaning: P_ID\n",
    "data = data[data['P_ID'] != \"NN\"]\n",
    "data = data[data['P_ID'] != \"UU\"]\n",
    "data.P_ID = pd.Categorical(pd.to_numeric(data.P_ID))\n",
    "data['P_ID'].unique()  "
   ]
  },
  {
   "cell_type": "code",
   "execution_count": 19,
   "metadata": {},
   "outputs": [
    {
     "data": {
      "text/plain": [
       "[NaN]\n",
       "Categories (0, interval[float64]): []"
      ]
     },
     "execution_count": 19,
     "metadata": {},
     "output_type": "execute_result"
    }
   ],
   "source": [
    "# Data cleaning: P_PSN\n",
    "data = data[data['P_PSN'] != \"NN\"]\n",
    "data = data[data['P_PSN'] != \"QQ\"]\n",
    "data = data[data['P_PSN'] != \"UU\"]\n",
    "data = data[data['P_PSN'] != \"XX\"]\n",
    "# Make person position categories\n",
    "data['P_PSN'] = pd.to_numeric(data['P_PSN'])\n",
    "\n",
    "# 96 is position unknown so get rid of rows with this\n",
    "data = data[data['P_PSN'] != 96]\n",
    "data['P_PSN'] = pd.cut(data['P_PSN'], bins=[11,21,31,34,98,99,float('inf')], right=False)\n",
    "data['P_PSN'].unique()"
   ]
  },
  {
   "cell_type": "code",
   "execution_count": 20,
   "metadata": {},
   "outputs": [
    {
     "data": {
      "text/plain": [
       "[0, 1]\n",
       "Categories (2, int64): [0, 1]"
      ]
     },
     "execution_count": 20,
     "metadata": {},
     "output_type": "execute_result"
    }
   ],
   "source": [
    "# Data cleaning: P_SAFE\n",
    "data = data[data['P_SAFE'] != \"NN\"]\n",
    "data = data[data['P_SAFE'] != \"QQ\"]\n",
    "data = data[data['P_SAFE'] != \"UU\"]\n",
    "data = data[data['P_SAFE'] != \"XX\"]\n",
    "data.P_SAFE = pd.Categorical(pd.to_numeric(data.P_SAFE))\n",
    "data['P_SAFE'].unique()  "
   ]
  },
  {
   "cell_type": "code",
   "execution_count": 21,
   "metadata": {},
   "outputs": [
    {
     "data": {
      "text/plain": [
       "[0, 1]\n",
       "Categories (2, int64): [0, 1]"
      ]
     },
     "execution_count": 21,
     "metadata": {},
     "output_type": "execute_result"
    }
   ],
   "source": [
    "# Data cleaning: P_USER\n",
    "data = data[data['P_USER'] != \"U\"] \n",
    "data.P_USER = pd.Categorical(pd.to_numeric(data.P_USER))\n",
    "data['P_USER'].unique()  "
   ]
  },
  {
   "cell_type": "code",
   "execution_count": 22,
   "metadata": {},
   "outputs": [
    {
     "data": {
      "text/plain": [
       "[[0.0, 10.0)]\n",
       "Categories (1, interval[float64]): [[0.0, 10.0)]"
      ]
     },
     "execution_count": 22,
     "metadata": {},
     "output_type": "execute_result"
    }
   ],
   "source": [
    "# Data cleaning: P_AGE\n",
    "data = data[data['P_AGE'] != \"NN\"]\n",
    "data = data[data['P_AGE'] != \"UU\"]\n",
    "data = data[data['P_AGE'] != \"XX\"]\n",
    "# Make age-group categories rather than usuing indidvidual ages\n",
    "data['P_AGE'] = pd.to_numeric(data['P_AGE'])\n",
    "data['P_AGE'] = pd.cut(data['P_AGE'], bins=[0,10,20,30,40,50,60,70,80,90,float('inf')], right=False)\n",
    "data['P_AGE'].unique()  "
   ]
  },
  {
   "cell_type": "markdown",
   "metadata": {},
   "source": [
    "# Data Exploration"
   ]
  },
  {
   "cell_type": "code",
   "execution_count": 23,
   "metadata": {},
   "outputs": [
    {
     "data": {
      "image/png": "[encoded data removed]",
      "text/plain": [
       "<Figure size 432x288 with 1 Axes>"
      ]
     },
     "metadata": {
      "needs_background": "light"
     },
     "output_type": "display_data"
    }
   ],
   "source": [
    "data['P_ISEV'].value_counts()\n",
    "sns.countplot(x='P_ISEV', data=data, palette='hls')\n",
    "plt.show()"
   ]
  },
  {
   "cell_type": "code",
   "execution_count": null,
   "metadata": {},
   "outputs": [],
   "source": []
  },
  {
   "cell_type": "markdown",
   "metadata": {},
   "source": [
    "# Logistic Regression"
   ]
  },
  {
   "cell_type": "code",
   "execution_count": null,
   "metadata": {},
   "outputs": [],
   "source": []
  },
  {
   "cell_type": "markdown",
   "metadata": {},
   "source": [
    "# SVM"
   ]
  },
  {
   "cell_type": "code",
   "execution_count": null,
   "metadata": {},
   "outputs": [],
   "source": [
    "cleaned_data = pd.read_csv(\"cleaned_data.csv\") \n",
    "\n",
    "X = cleaned_data.drop('P_ISEV', axis=1)\n",
    "y = cleaned_data['P_ISEV']\n",
    "\n",
    "from sklearn.model_selection import train_test_split\n",
    "X_train, X_test, y_train, y_test = train_test_split(X, y, test_size = 0.20)\n",
    "\n",
    "from sklearn.svm import SVC\n",
    "svclassifier = SVC(kernel='linear')\n",
    "svclassifier.fit(X_train, y_train)\n",
    "\n",
    "y_pred = svclassifier.predict(X_test)\n",
    "\n",
    "from sklearn.metrics import classification_report, confusion_matrix\n",
    "print(confusion_matrix(y_test,y_pred))\n",
    "print(classification_report(y_test,y_pred))"
   ]
  },
  {
   "cell_type": "markdown",
   "metadata": {},
   "source": [
    "# Neural Network"
   ]
  },
  {
   "cell_type": "code",
   "execution_count": null,
   "metadata": {},
   "outputs": [],
   "source": []
  }
 ],
 "metadata": {
  "kernelspec": {
   "display_name": "Python 3",
   "language": "python",
   "name": "python3"
  },
  "language_info": {
   "codemirror_mode": {
    "name": "ipython",
    "version": 3
   },
   "file_extension": ".py",
   "mimetype": "text/x-python",
   "name": "python",
   "nbconvert_exporter": "python",
   "pygments_lexer": "ipython3",
   "version": "3.7.6"
  }
 },
 "nbformat": 4,
 "nbformat_minor": 2
}
